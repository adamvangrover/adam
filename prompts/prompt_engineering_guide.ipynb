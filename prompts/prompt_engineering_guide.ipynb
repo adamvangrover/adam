{
 "cells": [
  {
   "cell_type": "markdown",
   "metadata": {},
   "source": [
    "# Prompt Engineering Guide\n",
    "\n",
    "A guide to best-in-class prompt engineering, combining general principles with specific examples from the Adam AI system."
   ]
  },
  {
   "cell_type": "markdown",
   "metadata": {},
   "source": [
    "## 1. Introduction to Prompt Engineering\n",
    "\n",
    "Prompt engineering is the process of designing and refining inputs (prompts) for large language models (LLMs) to achieve desired outputs. It's a combination of art and science, requiring clarity, precision, and an understanding of the model's capabilities. Effective prompting is crucial for obtaining accurate, relevant, and high-quality results from AI systems. As models become more powerful, the skill of crafting effective prompts becomes a key enabler for leveraging their full potential."
   ]
  },
  {
   "cell_type": "markdown",
   "metadata": {},
   "source": [
    "## 2. Core Principles of Effective Prompting\n",
    "\n",
    "These fundamental principles, drawn from best practices across the industry and within the Adam ecosystem, apply to almost any prompting scenario.\n",
    "\n",
    "### 2.1. Clarity and Specificity\n",
    "Be explicit and unambiguous in your instructions. The more detailed and specific your prompt is, the better the model can understand your intent. Avoid vague language.\n",
    "\n",
    "**Vague:** `Write about cars.`\n",
    "**Specific:** `Write a 200-word summary comparing the fuel efficiency, safety ratings, and starting price of the 2023 Honda Civic and the 2023 Toyota Corolla.`\n",
    "\n",
    "### 2.2. Context is Key\n",
    "Provide sufficient background information. The more relevant context the AI has, the better its output will align with your expectations. If you're asking a question about a specific text or data, include it directly in the prompt.\n",
    "\n",
    "### 2.3. Start Simple and Iterate\n",
    "Prompting is an iterative process. Start with a simple prompt and gradually add more elements, context, and constraints as you analyze the output. Small changes can lead to significant improvements. Don't try to create the perfect, complex prompt on the first attempt.\n",
    "\n",
    "### 2.4. Define the Persona/Role\n",
    "Instruct the AI on the role it should adopt. This influences the tone, style, and depth of the response, making it more suitable for the target audience.\n",
    "\n",
    "**Example:** `You are a senior financial analyst. Explain the concept of quantitative easing to a college student majoring in economics.`\n",
    "\n",
    "### 2.5. Specify Output Format\n",
    "Clearly define the desired structure of the output. This is crucial for consistency and for making the output machine-readable if needed.\n",
    "\n",
    "**Example:** `Extract the key financial metrics from the following report. Present the output as a JSON object with keys for 'revenue', 'net_income', and 'eps'.`\n",
    "\n",
    "### 2.6. Break Down Complex Tasks\n",
    "If a task is highly complex, break it into smaller, sequential prompts. This can lead to better quality outputs for each sub-task and a more reliable final result."
   ]
  },
  {
   "cell_type": "markdown",
   "metadata": {},
   "source": [
    "## 3. Advanced Prompting Techniques\n",
    "\n",
    "These techniques can be used to elicit more complex reasoning and higher-quality responses from the model.\n",
    "\n",
    "### 3.1. Zero-Shot Prompting\n",
    "This is the most basic form of prompting, where the model is asked to perform a task without any prior examples. All the principles from the previous section apply here.\n",
    "\n",
    "### 3.2. Few-Shot Prompting\n",
    "Provide a few examples of the desired input/output format within the prompt. This helps the model understand the task and format better.\n",
    "\n",
    "**Example:**\n",
    "```\n",
    "Translate the English word to its French equivalent.\n",
    "\n",
    "sea -> mer\n",
    "sky -> ciel\n",
    "cat ->"
   ]
  },
  {
   "cell_type": "code",
   "execution_count": null,
   "metadata": {},
   "outputs": [],
   "source": [
    "# In a real scenario, the model would complete this with 'chat'"
   ]
  },
  {
   "cell_type": "markdown",
   "metadata": {},
   "source": [
    "### 3.3. Chain-of-Thought (CoT) Prompting\n",
    "Encourage the model to \"think step by step\" or outline its reasoning process. This is particularly useful for complex reasoning tasks, as it often leads to more accurate results and makes the model's process more transparent.\n",
    "\n",
    "**Example:** `A rack has 5 shelves. Each shelf can hold 8 books. If I have 30 books, how many empty spaces are left? Let's think step by step.`"
   ]
  },
  {
   "cell_type": "markdown",
   "metadata": {},
   "source": [
    "## 4. Practical Tips and Best Practices\n",
    "\n",
    "### 4.1. Use Clear Separators\n",
    "To help the model distinguish between instructions, context, and input data, use clear separators like triple hashes (`###`) or XML tags (`<context>...</context>`).\n",
    "\n",
    "**Example:**\n",
    "```\n",
    "### Instruction ###\n",
    "Summarize the following text in three bullet points.\n",
    "\n",
    "### Text ###\n",
    "[Insert long text here]\n",
    "```\n",
    "\n",
    "### 4.2. Tell the Model What to Do, Not What to Avoid\n",
    "Frame instructions positively. Instead of saying \"Don't use jargon,\" say \"Explain this concept in simple terms that a 10-year-old can understand.\" This is more direct and often more effective.\n",
    "\n",
    "### 4.3. Troubleshooting\n",
    "If the output isn't what you expected:\n",
    "- **Increase Specificity:** Is any part of your prompt vague? Add more detail.\n",
    "- **Add More Context:** Did the AI lack crucial background information?\n",
    "- **Simplify the Request:** Is the prompt too complex? Try breaking it down.\n",
    "- **Check for Conflicting Instructions:** Ensure different parts of your prompt don't give contradictory guidance.\n",
    "- **Adjust Persona/Tone:** If the style is off, reiterate or refine the persona and tone instructions."
   ]
  },
  {
   "cell_type": "markdown",
   "metadata": {},
   "source": [
    "## 5. Prompt Engineering in the Adam System\n",
    "\n",
    "The Adam system utilizes a structured, JSON-based approach to prompting, which is ideal for complex, repeatable financial analysis tasks. The best practices are outlined in `prompts/PROMPT_BEST_PRACTICES.md`.\n",
    "\n",
    "### 5.1. The Structured JSON Format\n",
    "The system uses JSON templates to define prompts. This ensures consistency and makes prompts machine-parsable. The key components are:\n",
    "\n",
    "- **`prompt_metadata`**: Tracks information about the prompt itself (ID, version, author). Essential for version control and collaboration.\n",
    "- **`report_specifications`**: Defines high-level parameters like title, audience, and output format.\n",
    "- **`core_analysis_areas`**: The heart of the prompt. It breaks the request into logical sections with specific instructions and key considerations for the AI.\n",
    "- **`data_requirements`**: Lists the input data or documents needed for the analysis.\n",
    "- **`expert_guidance_notes`**: Provides additional tips or constraints to enhance output quality, like expert advice to a human analyst.\n",
    "\n",
    "### 5.2. Best Practices for Financial Prompts in Adam\n",
    "\n",
    "- **Leverage Specialized Agents:** Structure prompts so they can be conceptually routed to specialized agents (e.g., `FundamentalAnalystAgent`, `RiskAssessmentAgent`).\n",
    "- **Focus on Quantitative Data:** Prompt for specific calculations, ratios, and trends.\n",
    "- **Demand Balanced Views:** Explicitly ask for risks, assumptions, uncertainties, and both bull and bear cases.\n",
    "- **Reference Internal Data:** Craft prompts to leverage internal knowledge bases, referencing specific filenames or data identifiers where possible.\n",
    "- **Encourage Step-by-Step Reasoning:** Use the Chain-of-Thought technique to improve the quality and transparency of complex financial analysis."
   ]
  },
  {
   "cell_type": "markdown",
   "metadata": {},
   "source": [
    "## 6. Conclusion\n",
    "\n",
    "A systematic and thoughtful approach to prompting is crucial for unlocking the full potential of advanced AI systems. By using clear, specific, context-rich, and well-structured prompts, we can guide AI to produce more accurate, relevant, and valuable insights. Continuous learning and iterative refinement of prompting skills are key to maximizing the benefits of this technology."
   ]
  }
 ],
 "metadata": {
  "kernelspec": {
   "display_name": "Python 3",
   "language": "python",
   "name": "python3"
  },
  "language_info": {
   "codemirror_mode": {
    "name": "ipython",
    "version": 3
   },
   "file_extension": ".py",
   "mimetype": "text/x-python",
   "name": "python",
   "nbconvert_exporter": "python",
   "pygments_lexer": "ipython3",
   "version": "3.10.9"
  }
 },
 "nbformat": 4,
 "nbformat_minor": 2
}
