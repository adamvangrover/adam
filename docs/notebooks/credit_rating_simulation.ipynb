{
 "cells": [
  {
   "cell_type": "code",
   "execution_count": null,
   "metadata": {},
   "outputs": [],
   "source": [
    "import json\n",
    "import pandas as pd"
   ]
  },
  {
   "cell_type": "code",
   "execution_count": null,
   "metadata": {},
   "outputs": [],
   "source": [
    "# Load the risk rating mapping and decision tree data\n",
    "def load_data(filepath):\n",
    "    \"\"\"Loads data from a JSON file.\"\"\"\n",
    "    with open(filepath, 'r') as f:\n",
    "        data = json.load(f)\n",
    "    return data\n",
    "\n",
    "risk_mapping = load_data('risk_rating_mapping.json')\n",
    "decision_tree = load_data('credit_rating_decision_tree_v2.json')"
   ]
  },
  {
   "cell_type": "code",
   "execution_count": null,
   "metadata": {},
   "outputs": [],
   "source": [
    "# Define a function to traverse the decision tree and assign a credit rating\n",
    "def assess_creditworthiness(entity, tree):\n",
    "    \"\"\"Recursively assesses creditworthiness based on the decision tree.\"\"\"\n",
    "    node = tree['tree']\n",
    "\n",
    "    def traverse(node, entity):\n",
    "        if node['type'] == 'root':\n",
    "            for child in node['children']:\n",
    "                return traverse(child, entity)\n",
    "        elif node['type'] == 'decision':\n",
    "            question = node['question']\n",
    "            if question == 'Is the borrower a company or a sovereign entity?':\n",
    "                if entity['Type'] == 'Company':\n",
    "                    for child in node['children']:\n",
    "                        if child['condition'] == 'Company':\n",
    "                            next_node_id = child['node_id']\n",
    "                            next_node = next((n for n in tree['tree']['children'] if n['node_id'] == next_node_id), None)\n",
    "                            return traverse(next_node, entity)\n",
    "                elif entity['Type'] == 'Sovereign':\n",
    "                    for child in node['children']:\n",
    "                        if child['condition'] == 'Sovereign':\n",
    "                            next_node_id = child['node_id']\n",
    "                            next_node = next((n for n in tree['tree']['children'] if n['node_id'] == next_node_id), None)\n",
    "                            return traverse(next_node, entity)\n",
    "        elif node['type'] == 'factor':\n",
    "            # For simplicity, we'll assume a score is directly assigned here.\n",
    "            # In a real system, we'd need to evaluate the metrics within the factor.\n",
    "            total_score = 0\n",
    "            for child in node['children']:\n",
    "              for grand_child in child['children']:\n",
    "                total_score += grand_child['score'] # Simplified scoring\n",
    "            return total_score * node['weight']\n",
    "        elif node['type'] == 'leaf':\n",
    "            return node['score']\n",
    "        return None\n",
    "\n",
    "    final_score = traverse(node, entity)\n",
    "    return final_score"
   ]
  },
  {
   "cell_type": "code",
   "execution_count": null,
   "metadata": {},
   "outputs": [],
   "source": [
    "# Map the score to a credit rating\n",
    "def map_score_to_rating(score, rating_scale):\n",
    "    \"\"\"Maps a creditworthiness score to an S&P credit rating.\"\"\"\n",
    "    for range_str, rating in rating_scale.items():\n",
    "        lower, upper = map(int, range_str.split('-'))\n",
    "        if lower <= score <= upper:\n",
    "            return rating\n",
    "    return 'D'  # Default rating if score is out of range"
   ]
  },
  {
   "cell_type": "code",
   "execution_count": null,
   "metadata": {},
   "outputs": [],
   "source": [
    "# Example Usage\n",
    "entities = [\n",
    "    {'Name': 'Company A', 'Type': 'Company', 'Return on Equity': 20, 'Operating Margin': 12, 'Net Income Growth': 8, 'Debt-to-Equity Ratio': 1.0, 'Debt-to-Asset Ratio': 0.4, 'Operating Cash Flow': 150000, 'Free Cash Flow': 70000, 'Current Ratio': 2.5, 'Quick Ratio': 1.2, 'Industry': 'Technology', 'Growth Prospects': 'High', 'Competitive Landscape': 'Favorable', 'Quality of Leadership': 'Strong', 'Strategic Direction': 'Clear', 'Cost Structure': 'Efficient', 'Asset Turnover': 'High', 'Macroeconomic Conditions': 'Good', 'Regulatory Environment': 'Favorable', 'ESG Factors': 'Positive'},\n",
    "    {'Name': 'Country B', 'Type': 'Sovereign', 'Real GDP Growth': 4, 'GDP per Capita': 25000, 'Economic Diversification': 'High', 'Government Debt-to-GDP Ratio': 50, 'Budget Balance': 'Surplus', 'Current Account Balance': 'Sustainable', 'Foreign Currency Reserves': 'Adequate', 'Political Stability': 'High', 'Rule of Law': 'Strong', 'Corruption Control': 'Effective', 'Geopolitical Risk': 'Low', 'Social Cohesion': 'High', 'Income Inequality': 'Low', 'Debt Structure': 'Favorable', 'Debt Service Capacity': 'Strong', 'Access to International Capital Markets': 'Good', 'External Financing Needs': 'Manageable', 'Contingent Liabilities': 'Low'}\n",
    "]\n",
    "\n",
    "rating_scale = risk_mapping['rating_scale']\n",
    "\n",
    "for entity in entities:\n",
    "    score = assess_creditworthiness(entity, decision_tree)\n",
    "    rating = map_score_to_rating(score, rating_scale)\n",
    "    print(f\"{entity['Name']} Credit Rating: {rating} (Score: {score:.2f})\" )"
   ]
  }
 ],
 "metadata": {
  "kernelspec": {
   "display_name": "Python 3",
   "language": "python",
   "name": "python3"
  },
  "language_info": {
   "codemirror_mode": {
    "name": "ipython",
    "version": 3
   },
   "file_extension": ".py",
   "mimetype": "text/x-python",
   "name": "python",
   "nbconvert_exporter": "python",
   "pygments_lexer": "ipython3",
   "version": "3.9.13"
  }
 },
 "nbformat": 4,
 "nbformat_minor": 4
}
