{
 "cells": [
  {
   "cell_type": "markdown",
   "metadata": {},
   "source": [
    "# Interactive Corporate Credit Report Generator, Guide & Showcase\n",
    "**Version:** 1.0\n",
    "**Date:** May 10, 2025\n",
    "\n",
    "Welcome! This Jupyter Notebook is a multi-purpose tool designed to assist in the corporate credit analysis process. It serves as:\n",
    "1.  **A README:** Explaining its purpose, functionality, and limitations.\n",
    "2.  **A Prompt Engineering Guide:** Showing how a detailed prompt for a Large Language Model (LLM) is constructed.\n",
    "3.  **An Interactive Report Generation Tool:** Allowing you to input company data and generate a *simulated* credit report.\n",
    "4.  **An Example Showcase:** Demonstrating its use with a report for Microsoft Corporation, including a review of that simulated report.\n",
    "5.  **A Data Output Guide:** Showing an example JSONL format for storing report data."
   ]
  },
  {
   "cell_type": "markdown",
   "metadata": {},
   "source": [
    "## 1. README: Understanding This Notebook\n",
    "\n",
    "### 1.1. Purpose\n",
    "This notebook aims to streamline the initial phases of corporate credit report generation by:\n",
    "* Providing a structured way to input key quantitative and qualitative data.\n",
    "* Automating the construction of a comprehensive prompt for a sophisticated Large Language Model (LLM).\n",
    "* Generating a 'first-pass' simulated credit report based on the inputs and a rule-based internal logic, which can serve as a starting point for further analysis or be used to understand the LLM prompt's intent.\n",
    "\n",
    "### 1.2. How it Works\n",
    "The process is straightforward:\n",
    "1.  **User Input:** You provide company-specific data through interactive widgets (see Section 3).\n",
    "2.  **Prompt Construction:** The notebook takes your inputs and dynamically builds a detailed, structured prompt designed to guide an advanced LLM.\n",
    "3.  **Simulated Report Generation:** An internal Python class (`DynamicReportSimulator`) processes your inputs and the predefined report structure to generate a Markdown-formatted credit report. **Crucially, this is a simulation and does not use an external LLM.**\n",
    "4.  **Output Review:** You can review both the generated LLM prompt and the simulated report.\n",
    "\n",
    "### 1.3. Key Components\n",
    "* **Input UI:** A series of `ipywidgets` for easy data entry.\n",
    "* **Prompt Engine:** Python logic that merges user inputs with a core prompt template and a report structure guide.\n",
    "* **Report Simulator (`DynamicReportSimulator`):** Python class that attempts to generate a structured report based on the inputs. Its logic is rule-based and illustrative.\n",
    "\n",
    "### 1.4. How to Use\n",
    "1.  Run the code cells in Section 3 to display the interactive input fields.\n",
    "2.  Carefully fill in the details for the company you wish to analyze.\n",
    "3.  Click the \"Generate Full Prompt & Simulated Report\" button.\n",
    "4.  The notebook will output the detailed LLM prompt and the simulated Markdown report below the button.\n",
    "5.  Refer to the examples in Section 4 (Microsoft Report) and Section 5 (Report Review) to understand the output quality and potential applications.\n",
    "\n",
    "### 1.5. Limitations\n",
    "* **No External LLM Calls:** This notebook, for portability and simplicity, *simulates* report generation. It does **not** make calls to external LLM APIs (like OpenAI, Google Gemini, etc.). The simulated report is based on internal logic and the structure you provide.\n",
    "* **Simulation Quality:** The `DynamicReportSimulator` uses a rule-based approach. Its output is intended to be a structured first draft and will not have the nuanced reasoning, creativity, or broad knowledge of a state-of-the-art LLM. Its quality is directly tied to its programmed logic and the quality of your inputs.\n",
    "* **Input Dependency:** The comprehensiveness of the output heavily depends on the detail and accuracy of the information you provide."
   ]
  },
  {
   "cell_type": "markdown",
   "metadata": {},
   "source": [
    "## 2. Prompt Engineering Guide\n",
    "\n",
    "Understanding how the LLM prompt is constructed can help you provide better inputs and interpret the notebook's functionality. The final prompt sent to a (conceptual) LLM is built from three main parts: a core template, your specific inputs, and a report structure guide.\n",
    "\n",
    "### 2.1. The Core LLM Prompt Template\n",
    "This template provides the overarching instructions, role, and task for the LLM. Here's the content (it's also embedded in the Python code):\n",
    "```text\n",
    "You are an expert senior credit analyst AI, tasked with generating a comprehensive, balanced, and insightful corporate credit report. Your analysis should be objective and data-driven, drawing upon the information provided below.\n",
    "\n",
    "**Objective:** Produce a corporate credit report for the specified company, adhering to the structure outlined in the \"REPORT_STRUCTURE_GUIDE\".\n",
    "\n",
    "**Key Instructions:**\n",
    "1.  **Company Focus:** The report is for: {company_name} ({company_ticker}), operating in the {company_sector} sector.\n",
    "2.  **Information Provided by User:** You will receive structured inputs including:\n",
    "    * Key Financial Data\n",
    "    * Calculated Credit Metrics\n",
    "    * Qualitative Assessments (Management, Competitive Landscape, Industry Outlook, ESG Factors)\n",
    "    * Recent News Snippets / Press Releases\n",
    "    * Analyst's Key Assumptions\n",
    "3.  **Analysis Approach:**\n",
    "    * Synthesize all provided quantitative and qualitative information.\n",
    "    * Identify key credit strengths and weaknesses.\n",
    "    * Discuss financial performance and creditworthiness based on the data.\n",
    "    * Incorporate recent developments and their potential impact.\n",
    "    * Clearly state the rating rationale and outlook based *only* on the information provided.\n",
    "    * If specific data for a standard report section is NOT provided, explicitly state \"Information not provided for this section.\" or \"Analysis for this section is limited due to lack of specific input.\" Do NOT invent data.\n",
    "4.  **Tone:** Professional, analytical, objective, and cautious. Use clear and concise language.\n",
    "5.  **Output Format:** Generate the report in Markdown format, strictly following the section headers and structure provided in the \"REPORT_STRUCTURE_GUIDE\".\n",
    "6.  **Disclaimer:** Conclude the report with the mandatory disclaimer: \"This report is a simulated analysis generated based on user-provided inputs and should not be used for actual investment or credit decisions. Verify all information independently.\"\n",
    "\n",
    "**USER-PROVIDED INFORMATION WILL BE INSERTED BELOW THIS LINE WHEN THE FULL PROMPT IS CONSTRUCTED.**\n",
    "---INPUT_DATA_MARKER---\n",
    "**REPORT_STRUCTURE_GUIDE:**\n",
    "{report_structure_guide}\n",
    "---END_REPORT_STRUCTURE_GUIDE---\n",
    "**FINAL INSTRUCTION: Now, generate the comprehensive corporate credit report based on all the above instructions and the provided user inputs, adhering strictly to the REPORT_STRUCTURE_GUIDE.**\n",
    "```\n",
    "*Explainer: Placeholders like `{company_name}` are filled dynamically. The `---INPUT_DATA_MARKER---` is where your structured inputs go. The `{report_structure_guide}` is replaced by the content below.* \n",
    "\n",
    "### 2.2. The Report Structure Guide\n",
    "This Markdown content is embedded within the main prompt to tell the LLM exactly how to format its output. This ensures consistency. (Content is also embedded in Python code):\n",
    "```markdown\n",
    "# Corporate Credit Report: {company_name} ({company_ticker})\n",
    "\n",
    "## 1. Executive Summary\n",
    "    * Overall Assessment: [Brief summary of creditworthiness based on inputs]\n",
    "    * Simulated Credit Rating: [e.g., BBB+, A-, etc. - LLM should infer a plausible rating based on inputs OR state if inputs are insufficient to determine]\n",
    "    * Rating Outlook: [e.g., Stable, Positive, Negative - LLM should infer a plausible outlook OR state if inputs are insufficient]\n",
    "    * Key Positive Factors: [List 2-3 key strengths from inputs]\n",
    "    * Key Credit Concerns: [List 2-3 key risks/weaknesses from inputs]\n",
    "\n",
    "## 2. Company Overview\n",
    "    * Company Name: {company_name}\n",
    "    * Ticker Symbol: {company_ticker}\n",
    "    * Primary Sector: {company_sector}\n",
    "    * Brief Business Description (if provided by user): {qualitative_business_description}\n",
    "...\n",
    "## 11. Disclaimer\n",
    "This report is a simulated analysis generated based on user-provided inputs and should not be used for actual investment or credit decisions. Verify all information independently.\n",
    "```\n",
    "*Explainer: The full structure guide (as shown in earlier examples) is used here. `{placeholders}` within this guide are intended for the LLM to fill OR for the `DynamicReportSimulator` to populate.*\n",
    "\n",
    "### 2.3. How Your Inputs Shape the Prompt\n",
    "The information you enter into the UI widgets is formatted and inserted into the main prompt under the `---INPUT_DATA_MARKER---` section. For example:\n",
    "* **Company Information:** Directly populates `{company_name}`, `{company_ticker}`, etc.\n",
    "* **Financial Data & Metrics:** Listed clearly for the LLM to reference.\n",
    "* **Qualitative Sections:** Your text for 'Management Assessment', 'Competitive Landscape', etc., is provided verbatim.\n",
    "\n",
    "### 2.4. Tips for Effective Inputs\n",
    "* **Be Specific:** For financials and metrics, use accurate numbers. For qualitative points, avoid vague statements.\n",
    "* **Quantitative Data:** The more precise your financial inputs, the better the (conceptual) LLM can ground its analysis. The internal simulator also uses these for its simple rules.\n",
    "* **Qualitative Nuance:** For sections like 'Management Assessment' or 'Competitive Landscape', provide balanced views if possible (e.g., strengths and weaknesses).\n",
    "* **Relevant News:** Include recent, impactful news. Summarize if necessary.\n",
    "* **Clear Assumptions:** Well-defined assumptions are crucial for any analysis."
   ]
  },
  {
   "cell_type": "markdown",
   "metadata": {},
   "source": [
    "## 3. Interactive Report Generator\n",
    "Run the code cell below to display the interactive input fields. Fill them out for the company you want to analyze, then click the \"Generate\" button. The LLM prompt and the simulated report will appear underneath."
   ]
  },
  {
   "cell_type": "code",
   "execution_count": [],
   "metadata": {},
   "outputs": [],
   "source": [
    "# --- All Python code from the previous Jupyter Notebook goes here ---\n",
    "# This includes:\n",
    "# 1. import ipywidgets as widgets, etc.\n",
    "# 2. PROMPT_TEMPLATE_CORE string\n",
    "# 3. REPORT_STRUCTURE_GUIDE string\n",
    "# 4. INPUT_UI_CONFIG dictionary\n",
    "# 5. DynamicReportSimulator class definition and instantiation\n",
    "# 6. UI Generation loop (input_widgets, sections_vbox_list, etc.)\n",
    "# 7. Button definition and on_generate_button_clicked function\n",
    "# 8. display() calls for UI, button, and output_area\n",
    "\n",
    "# (For brevity in this plan, I'm not repeating the ~250 lines of Python here, \n",
    "# but it's the exact same code as provided in the previous step for \n",
    "# `Interactive_Credit_Report_Generator.ipynb`)\n",
    "\n",
    "import ipywidgets as widgets\n",
    "from IPython.display import display, Markdown, HTML\n",
    "import json\n",
    "import datetime\n",
    "\n",
    "PROMPT_TEMPLATE_CORE = \"\"\"YOUR_PROMPT_TEMPLATE_CORE_CONTENT\"\"\" # Replace with actual content\n",
    "REPORT_STRUCTURE_GUIDE = \"\"\"YOUR_REPORT_STRUCTURE_GUIDE_CONTENT\"\"\" # Replace with actual content\n",
    "INPUT_UI_CONFIG = {} # Replace with actual UI config dict\n",
    "\n",
    "class DynamicReportSimulator:\n",
    "    # ... (Full class definition as provided before) ...\n",
    "    def __init__(self, report_structure_template_md):\n",
    "        self.report_structure_template_md = report_structure_template_md\n",
    "    # Add all methods: _format_financials, _format_metrics, _infer_rating_outlook, generate_simulated_report\n",
    "    def _format_financials(self, inputs_dict):\n",
    "        summary = []\n",
    "        for key, value in inputs_dict.items():\n",
    "            if key.startswith('financial_') and value is not None:\n",
    "                label = key.replace('financial_', '').replace('_', ' ').title()\n",
    "                if 'Revenue' in label or 'Ebitda' in label or 'Debt' in label or 'Equity' in label or 'Fcf' in label:\n",
    "                     summary.append(f\"- {label}: ${value}M\")\n",
    "                else:\n",
    "                     summary.append(f\"- {label}: {value}\")\n",
    "        return \"\\n        \".join(summary) if summary else \"No specific financial figures provided.\"\n",
    "\n",
    "    def _format_metrics(self, inputs_dict):\n",
    "        summary = []\n",
    "        commentary = []\n",
    "        for key, value in inputs_dict.items():\n",
    "            if key.startswith('metric_') and value is not None:\n",
    "                label = key.replace('metric_', '').replace('_', ' ').upper()\n",
    "                summary.append(f\"- {label}: {value}x\")\n",
    "                if 'Debt / Ebitda' in label:\n",
    "                    if float(value) <= 2.0: commentary.append(\"Leverage (Debt/EBITDA) appears low to moderate.\")\n",
    "                    elif float(value) <= 4.0: commentary.append(\"Leverage (Debt/EBITDA) appears moderate.\")\n",
    "                    else: commentary.append(\"Leverage (Debt/EBITDA) appears high.\")\n",
    "                if 'Ebitda / Interest' in label:\n",
    "                    if float(value) >= 5.0: commentary.append(\"Interest coverage appears strong.\")\n",
    "                    elif float(value) >= 2.0: commentary.append(\"Interest coverage appears adequate.\")\n",
    "                    else: commentary.append(\"Interest coverage appears weak.\")\n",
    "        metrics_text = \"\\n        \".join(summary) if summary else \"No specific credit metrics provided.\"\n",
    "        if commentary:\n",
    "            metrics_text += \"\\n    * **Brief Commentary:**\\n        * \" + \"\\n        * \".join(commentary)\n",
    "        return metrics_text\n",
    "\n",
    "    def _infer_rating_outlook(self, inputs_dict):\n",
    "        rating = \"BBB\"; outlook = \"Stable\"; score = 0\n",
    "        try:\n",
    "            if inputs_dict.get('financial_fcf_y1', 0.0) > 0: score += 1\n",
    "            else: score -=1\n",
    "            if inputs_dict.get('financial_revenue_y1', 0.0) > 500 : score +=1\n",
    "            debt_ebitda = inputs_dict.get('metric_debt_ebitda')\n",
    "            if debt_ebitda is not None:\n",
    "                if float(debt_ebitda) < 1.5: score += 2\n",
    "                elif float(debt_ebitda) < 3.0: score += 1\n",
    "                elif float(debt_ebitda) > 4.5: score -= 2\n",
    "                else: score -=1\n",
    "            ebitda_interest = inputs_dict.get('metric_ebitda_interest')\n",
    "            if ebitda_interest is not None:\n",
    "                if float(ebitda_interest) > 8.0: score += 2\n",
    "                elif float(ebitda_interest) > 4.0: score += 1\n",
    "                elif float(ebitda_interest) < 2.0: score -=2\n",
    "                else: score -=1\n",
    "            qual_texts = [inputs_dict.get('qualitative_management_strategy',''), inputs_dict.get('qualitative_competitive_landscape',''), inputs_dict.get('qualitative_industry_outlook','')]\n",
    "            negative_keywords = [\"poor\", \"declining\", \"weak\", \"intense competition\", \"headwinds\", \"challenging\"]\n",
    "            for text in qual_texts: \n",
    "                for keyword in negative_keywords: \n",
    "                    if keyword in text.lower(): score -=1; break\n",
    "            if \"strong growth\" in inputs_dict.get('qualitative_industry_outlook','').lower() : score +=1\n",
    "            if \"strong execution\" in inputs_dict.get('qualitative_management_strategy','').lower() : score +=1\n",
    "        except Exception: pass\n",
    "        if score >= 4: rating = \"A-\"; outlook = \"Positive\"\n",
    "        elif score >= 2: rating = \"BBB+\"; outlook = \"Stable\"\n",
    "        elif score >= 0: rating = \"BBB\"; outlook = \"Stable\"\n",
    "        elif score >= -2: rating = \"BBB-\"; outlook = \"Negative\"\n",
    "        elif score >= -4: rating = \"BB+\"; outlook = \"Negative\"\n",
    "        else: rating = \"BB\"; outlook = \"Negative\"\n",
    "        return rating, outlook\n",
    "\n",
    "    def generate_simulated_report(self, inputs_dict):\n",
    "        sim_rating, sim_outlook = self._infer_rating_outlook(inputs_dict)\n",
    "        positive_factors = []; credit_concerns = []\n",
    "        try:\n",
    "            if inputs_dict.get('financial_fcf_y1', 0.0) > 0: positive_factors.append(f\"Positive Free Cash Flow (${inputs_dict.get('financial_fcf_y1', 'N/A')}M).\")\n",
    "            else: credit_concerns.append(f\"Negative or low Free Cash Flow (${inputs_dict.get('financial_fcf_y1', 'N/A')}M).\")\n",
    "            debt_ebitda = inputs_dict.get('metric_debt_ebitda')\n",
    "            if debt_ebitda is not None:\n",
    "                if float(debt_ebitda) < 2.0: positive_factors.append(f\"Low leverage (Debt/EBITDA: {debt_ebitda}x).\")\n",
    "                elif float(debt_ebitda) > 4.0: credit_concerns.append(f\"High leverage (Debt/EBITDA: {debt_ebitda}x).\")\n",
    "            if \"strong execution\" in inputs_dict.get('qualitative_management_strategy','').lower(): positive_factors.append(\"Indication of strong management execution.\")\n",
    "            if \"intense competition\" in inputs_dict.get('qualitative_competitive_landscape','').lower(): credit_concerns.append(\"Intense competitive landscape noted.\")\n",
    "        except Exception: positive_factors.append(\"Error processing positive factors.\"); credit_concerns.append(\"Error processing credit concerns.\")\n",
    "        if not positive_factors: positive_factors.append(\"No specific positive factors highlighted from inputs.\")\n",
    "        if not credit_concerns: credit_concerns.append(\"No specific credit concerns highlighted from inputs.\")\n",
    "        report_replacements = {k: inputs_dict.get(k, 'N/A') for k in ['company_name', 'company_ticker', 'company_sector', 'qualitative_business_description', 'qualitative_management_strategy', 'qualitative_competitive_landscape', 'qualitative_industry_outlook', 'qualitative_esg_factors']}\n",
    "        report_replacements['key_assumptions'] = inputs_dict.get('key_assumptions', 'N/A').replace('\\n', '\\n    * ')\n",
    "        report_replacements['financial_data_summary'] = self._format_financials(inputs_dict)\n",
    "        report_replacements['credit_metrics_summary'] = self._format_metrics(inputs_dict)\n",
    "        report_replacements['recent_news_summary'] = inputs_dict.get('recent_news_summary', 'N/A').replace('\\n', '\\n        * ')\n",
    "        report_md = self.report_structure_template_md\n",
    "        for key, value in report_replacements.items(): report_md = report_md.replace(f\"{{{key}}}\", str(value))\n",
    "        overall_assessment_text = f\"Based on the provided inputs, the company exhibits characteristics consistent with a {sim_rating} credit profile. Financial metrics show leverage at {inputs_dict.get('metric_debt_ebitda', 'N/A')}x and interest coverage at {inputs_dict.get('metric_ebitda_interest', 'N/A')}x. Qualitative factors such as management ('{inputs_dict.get('qualitative_management_strategy', '')[:50]}...') and recent news ('{inputs_dict.get('recent_news_summary', '')[:50]}...') contribute to this view. The outlook is {sim_outlook}.\"\n",
    "        report_md = report_md.replace(\"Overall Assessment: [Brief summary of creditworthiness based on inputs]\", f\"Overall Assessment: {overall_assessment_text}\")\n",
    "        report_md = report_md.replace(\"Simulated Credit Rating: [e.g., BBB+, A-, etc. - LLM should infer a plausible rating based on inputs OR state if inputs are insufficient to determine]\", f\"Simulated Credit Rating: {sim_rating}\")\n",
    "        report_md = report_md.replace(\"Rating Outlook: [e.g., Stable, Positive, Negative - LLM should infer a plausible outlook OR state if inputs are insufficient]\", f\"Rating Outlook: {sim_outlook}\")\n",
    "        report_md = report_md.replace(\"Key Positive Factors: [List 2-3 key strengths from inputs]\", f\"Key Positive Factors:\\n        * \" + \"\\n        * \".join(positive_factors))\n",
    "        report_md = report_md.replace(\"Key Credit Concerns: [List 2-3 key risks/weaknesses from inputs]\", f\"Key Credit Concerns:\\n        * \" + \"\\n        * \".join(credit_concerns))\n",
    "        rating_rationale_text = f\"The simulated rating of {sim_rating} is primarily driven by the interplay of its financial metrics (e.g., Debt/EBITDA of {inputs_dict.get('metric_debt_ebitda', 'N/A')}x, FCF of ${inputs_dict.get('financial_fcf_y1', 'N/A')}M), qualitative assessments regarding its market position ('{inputs_dict.get('qualitative_competitive_landscape', '')[:50]}...'), and management strategy ('{inputs_dict.get('qualitative_management_strategy', '')[:50]}...'). Recent developments ('{inputs_dict.get('recent_news_summary', '')[:50]}...') also play a role. The balance of these factors, as provided, supports this assessment.\"\n",
    "        report_md = report_md.replace(\"[Explain the reasoning behind the simulated rating, tying back to specific strengths, weaknesses, financial metrics, and qualitative factors provided.]\", rating_rationale_text)\n",
    "        outlook_rationale_text = f\"The {sim_outlook} outlook is based on the current trajectory implied by the financial data, the stated key assumptions ('{inputs_dict.get('key_assumptions', '')[:50]}...'), and the potential impacts of recent news and industry trends ('{inputs_dict.get('qualitative_industry_outlook', '')[:50]}...'). Stability (or change) in key credit metrics and successful (or unsuccessful) strategic execution will be key determinants moving forward.\"\n",
    "        report_md = report_md.replace(\"[Explain the reasoning behind the simulated outlook, considering potential trends and future impacts of current factors.]\", outlook_rationale_text)\n",
    "        report_md = report_md.replace(\"[Comment on trends if discernible from inputs]\", \"[Detailed trend analysis requires time-series data. Based on single-period input, this section focuses on current state.]\")\n",
    "        report_md = report_md.replace(\"[Briefly discuss potential credit implications of the news]\", \"[The provided news snippets ('{recent_news_summary[:100]}...') could [positively/negatively/neutrally] impact credit quality by [e.g., improving diversification, increasing leverage, etc.]. Further analysis needed.]\".format(recent_news_summary=inputs_dict.get('recent_news_summary','')))\n",
    "        report_md = report_md.replace(\"[Synthesized from all inputs - financial, qualitative, etc.]\", \"[This section would typically synthesize all inputs. Key strengths identified include: \" + \", \".join(positive_factors) + \"]\")\n",
    "        return report_md\n",
    "\n",
    "# Ensure the string definitions are correctly assigned from the full content provided previously\n",
    "PROMPT_TEMPLATE_CORE = \"\"\"You are an expert senior credit analyst AI, tasked with generating a comprehensive, balanced, and insightful corporate credit report. Your analysis should be objective and data-driven, drawing upon the information provided below.\n\n**Objective:** Produce a corporate credit report for the specified company, adhering to the structure outlined in the \\\"REPORT_STRUCTURE_GUIDE\\\".\n\n**Key Instructions:**\n1.  **Company Focus:** The report is for: {company_name} ({company_ticker}), operating in the {company_sector} sector.\n2.  **Information Provided by User:** You will receive structured inputs including:\n    * Key Financial Data\n    * Calculated Credit Metrics\n    * Qualitative Assessments (Management, Competitive Landscape, Industry Outlook, ESG Factors)\n    * Recent News Snippets / Press Releases\n    * Analyst's Key Assumptions\n3.  **Analysis Approach:**\n    * Synthesize all provided quantitative and qualitative information.\n    * Identify key credit strengths and weaknesses.\n    * Discuss financial performance and creditworthiness based on the data.\n    * Incorporate recent developments and their potential impact.\n    * Clearly state the rating rationale and outlook based *only* on the information provided.\n    * If specific data for a standard report section is NOT provided, explicitly state \\\"Information not provided for this section.\\\" or \\\"Analysis for this section is limited due to lack of specific input.\\\" Do NOT invent data.\n4.  **Tone:** Professional, analytical, objective, and cautious. Use clear and concise language.\n5.  **Output Format:** Generate the report in Markdown format, strictly following the section headers and structure provided in the \\\"REPORT_STRUCTURE_GUIDE\\\".\n6.  **Disclaimer:** Conclude the report with the mandatory disclaimer: \\\"This report is a simulated analysis generated based on user-provided inputs and should not be used for actual investment or credit decisions. Verify all information independently.\\\"\n\n**USER-PROVIDED INFORMATION WILL BE INSERTED BELOW THIS LINE WHEN THE FULL PROMPT IS CONSTRUCTED.**\n---INPUT_DATA_MARKER---\n**REPORT_STRUCTURE_GUIDE:**\n{report_structure_guide}\n---END_REPORT_STRUCTURE_GUIDE---\n**FINAL INSTRUCTION: Now, generate the comprehensive corporate credit report based on all the above instructions and the provided user inputs, adhering strictly to the REPORT_STRUCTURE_GUIDE.**\n\"\"\"\n",
    "REPORT_STRUCTURE_GUIDE = \"\"\"# Corporate Credit Report: {company_name} ({company_ticker})\n\n## 1. Executive Summary\n    * Overall Assessment: [Brief summary of creditworthiness based on inputs]\n    * Simulated Credit Rating: [e.g., BBB+, A-, etc. - LLM should infer a plausible rating based on inputs OR state if inputs are insufficient to determine]\n    * Rating Outlook: [e.g., Stable, Positive, Negative - LLM should infer a plausible outlook OR state if inputs are insufficient]\n    * Key Positive Factors: [List 2-3 key strengths from inputs]\n    * Key Credit Concerns: [List 2-3 key risks/weaknesses from inputs]\n\n## 2. Company Overview\n    * Company Name: {company_name}\n    * Ticker Symbol: {company_ticker}\n    * Primary Sector: {company_sector}\n    * Brief Business Description (if provided by user): {qualitative_business_description}\n\n## 3. Key Analyst Assumptions\n    * [List of key assumptions provided by the user: {key_assumptions}]\n\n## 4. Financial Performance Analysis\n    * Summary of Provided Financials:\n        * {financial_data_summary}\n    * Key Credit Metrics Analysis:\n        * {credit_metrics_summary}\n    * Trend Analysis (based on provided data interpretation):\n        * [Comment on trends if discernible from inputs]\n\n## 5. Qualitative Factors Assessment\n    * Management & Strategy:\n        * {qualitative_management_strategy}\n    * Competitive Landscape & Market Position:\n        * {qualitative_competitive_landscape}\n    * Industry Outlook:\n        * {qualitative_industry_outlook}\n    * Environmental, Social, and Governance (ESG) Considerations (if provided):\n        * {qualitative_esg_factors}\n\n## 6. Recent Developments & News\n    * Summary of Recent Press Releases/News:\n        * {recent_news_summary}\n    * Potential Impact Analysis (based on analyst input or LLM inference if obvious from news):\n        * [Briefly discuss potential credit implications of the news]\n\n## 7. Credit Strengths\n    * [Synthesized from all inputs - financial, qualitative, etc.]\n\n## 8. Credit Risks & Concerns\n    * [Synthesized from all inputs - financial, qualitative, etc.]\n\n## 9. Rating Rationale\n    * [Explain the reasoning behind the simulated rating, tying back to specific strengths, weaknesses, financial metrics, and qualitative factors provided.]\n\n## 10. Outlook Rationale\n    * [Explain the reasoning behind the simulated outlook, considering potential trends and future impacts of current factors.]\n\n## 11. Disclaimer\nThis report is a simulated analysis generated based on user-provided inputs and should not be used for actual investment or credit decisions. Verify all information independently.\n\"\"\"\n",
    "INPUT_UI_CONFIG = {\n  \"sections\": [\n    {\"title\": \"Company Information\", \"fields\": [\n        {\"name\": \"company_name\", \"label\": \"Company Name:\", \"type\": \"text\", \"default\": \"ExampleCorp\"},\n        {\"name\": \"company_ticker\", \"label\": \"Ticker Symbol:\", \"type\": \"text\", \"default\": \"EXMPL\"},\n        {\"name\": \"company_sector\", \"label\": \"Primary Sector:\", \"type\": \"text\", \"default\": \"Technology\"}]},\n    {\"title\": \"Key Analyst Assumptions\", \"fields\": [\n        {\"name\": \"key_assumptions\", \"label\": \"Analyst's Key Assumptions:\", \"type\": \"textarea\", \"default\": \"1. Moderate revenue growth.\\n2. Stable margins.\"}]},\n    {\"title\": \"Financial Data (Illustrative)\", \"fields\": [\n        {\"name\": \"financial_revenue_y1\", \"label\": \"Recent Full Year Revenue ($M):\", \"type\": \"float\", \"default\": 1000.0},\n        {\"name\": \"financial_ebitda_y1\", \"label\": \"Recent Full Year EBITDA ($M):\", \"type\": \"float\", \"default\": 250.0},\n        {\"name\": \"financial_total_debt_y1\", \"label\": \"Total Debt ($M):\", \"type\": \"float\", \"default\": 500.0},\n        {\"name\": \"financial_total_equity_y1\", \"label\": \"Total Equity ($M):\", \"type\": \"float\", \"default\": 300.0},\n        {\"name\": \"financial_fcf_y1\", \"label\": \"Free Cash Flow ($M):\", \"type\": \"float\", \"default\": 50.0}]},\n    {\"title\": \"Credit Metrics (Illustrative)\", \"fields\": [\n        {\"name\": \"metric_debt_ebitda\", \"label\": \"Debt / EBITDA (x):\", \"type\": \"float\", \"default\": 2.0},\n        {\"name\": \"metric_ebitda_interest\", \"label\": \"EBITDA / Interest Expense (x):\", \"type\": \"float\", \"default\": 5.0}]},\n    {\"title\": \"Qualitative Factors\", \"fields\": [\n        {\"name\": \"qualitative_business_description\", \"label\": \"Brief Business Description:\", \"type\": \"textarea\", \"default\": \"Leading provider of widgets.\"},\n        {\"name\": \"qualitative_management_strategy\", \"label\": \"Management Assessment & Strategy:\", \"type\": \"textarea\", \"default\": \"Experienced management.\"}, \n        {\"name\": \"qualitative_competitive_landscape\", \"label\": \"Competitive Landscape & Market Position:\", \"type\": \"textarea\", \"default\": \"Competitive market.\"},\n        {\"name\": \"qualitative_industry_outlook\", \"label\": \"Industry Outlook:\", \"type\": \"textarea\", \"default\": \"Modest growth expected.\"},\n        {\"name\": \"qualitative_esg_factors\", \"label\": \"ESG Considerations:\", \"type\": \"textarea\", \"default\": \"Standard ESG practices.\"}]},\n    {\"title\": \"Recent News / Press Releases\", \"fields\": [\n        {\"name\": \"recent_news_summary\", \"label\": \"Paste recent news snippets/summaries here:\", \"type\": \"textarea\", \"default\": \"Q1 earnings meet expectations.\"}]}]}"
    "\n",
    "report_simulator = DynamicReportSimulator(REPORT_STRUCTURE_GUIDE)\n",
    "input_widgets = {}\n",
    "sections_vbox_list = []\n",
    "for section in INPUT_UI_CONFIG['sections']:\n",
    "    section_title = widgets.HTML(f\"<h3>{section['title']}</h3>\")\n",
    "    fields_vbox_list = [section_title]\n",
    "    for field_config in section['fields']:\n",
    "        label = widgets.Label(field_config['label'], layout=widgets.Layout(width='250px'))\n", #Give label fixed width
    "        if field_config['type'] == 'text': widget = widgets.Text(value=str(field_config['default']), layout=widgets.Layout(width='70%'))\n",
    "        elif field_config['type'] == 'textarea': widget = widgets.Textarea(value=str(field_config['default']), layout=widgets.Layout(width='70%', height='80px'))\n",
    "        elif field_config['type'] == 'float': widget = widgets.FloatText(value=float(field_config['default']), layout=widgets.Layout(width='auto'))\n",
    "        else: widget = widgets.Text(value=str(field_config['default']), layout=widgets.Layout(width='70%'))\n",
    "        input_widgets[field_config['name']] = widget\n",
    "        fields_vbox_list.append(widgets.HBox([label, widget]))\n",
    "    sections_vbox_list.append(widgets.VBox(fields_vbox_list, layout=widgets.Layout(margin='0 0 20px 0')))\n", # Add margin
    "all_inputs_vbox = widgets.VBox(sections_vbox_list)\n",
    "generate_button = widgets.Button(description=\"Generate Full Prompt & Simulated Report\", button_style='success', layout=widgets.Layout(width='auto', margin='20px 0 0 0'))\n", # Add margin
    "output_area = widgets.Output()\n",
    "def on_generate_button_clicked(b):\n",
    "    with output_area:\n",
    "        output_area.clear_output(wait=True)\n",
    "        display(HTML(\"<h4>Processing...</h4>\"))\n",
    "        user_inputs = {name: w.value for name, w in input_widgets.items()}\n",
    "        input_data_prompt_section = \"**USER-PROVIDED INFORMATION:**\\n\\n\"\n",
    "        input_data_prompt_section += f\"Company Name: {user_inputs.get('company_name', 'N/A')}\\n\"\n",
    "        input_data_prompt_section += f\"Ticker Symbol: {user_inputs.get('company_ticker', 'N/A')}\\n\"\n",
    "        input_data_prompt_section += f\"Primary Sector: {user_inputs.get('company_sector', 'N/A')}\\n\\n\"\n",
    "        input_data_prompt_section += \"**Key Analyst Assumptions:**\\n\"\n",
    "        input_data_prompt_section += f\"{user_inputs.get('key_assumptions', 'N/A')}\\n\\n\"\n",
    "        input_data_prompt_section += \"**Financial Data:**\\n\"\n",
    "        for name, w_val in user_inputs.items():\n",
    "            if name.startswith('financial_'): input_data_prompt_section += f\"- {name.replace('financial_', '').replace('_', ' ').title()}: {w_val}\\n\"\n",
    "        input_data_prompt_section += \"\\n\"\n",
    "        input_data_prompt_section += \"**Credit Metrics:**\\n\"\n",
    "        for name, w_val in user_inputs.items():\n",
    "            if name.startswith('metric_'): input_data_prompt_section += f\"- {name.replace('metric_', '').replace('_', ' ').upper()}: {w_val}\\n\"\n",
    "        input_data_prompt_section += \"\\n\"\n",
    "        input_data_prompt_section += \"**Qualitative Factors:**\\n\"\n",
    "        input_data_prompt_section += f\"- Business Description: {user_inputs.get('qualitative_business_description', 'N/A')}\\n\"\n",
    "        input_data_prompt_section += f\"- Management & Strategy: {user_inputs.get('qualitative_management_strategy', 'N/A')}\\n\"\n",
    "        input_data_prompt_section += f\"- Competitive Landscape: {user_inputs.get('qualitative_competitive_landscape', 'N/A')}\\n\"\n",
    "        input_data_prompt_section += f\"- Industry Outlook: {user_inputs.get('qualitative_industry_outlook', 'N/A')}\\n\"\n",
    "        input_data_prompt_section += f\"- ESG Factors: {user_inputs.get('qualitative_esg_factors', 'N/A')}\\n\\n\"\n",
    "        input_data_prompt_section += \"**Recent News / Press Releases:**\\n\"\n",
    "        input_data_prompt_section += f\"{user_inputs.get('recent_news_summary', 'N/A')}\\n\"\n",
    "        full_llm_prompt = PROMPT_TEMPLATE_CORE.replace(\"{company_name}\", user_inputs.get('company_name', 'N/A'))\n",
    "        full_llm_prompt = full_llm_prompt.replace(\"{company_ticker}\", user_inputs.get('company_ticker', 'N/A'))\n",
    "        full_llm_prompt = full_llm_prompt.replace(\"{company_sector}\", user_inputs.get('company_sector', 'N/A'))\n",
    "        full_llm_prompt = full_llm_prompt.replace(\"---INPUT_DATA_MARKER---\", input_data_prompt_section + \"\\n---\\n\")\n",
    "        full_llm_prompt = full_llm_prompt.replace(\"{report_structure_guide}\", REPORT_STRUCTURE_GUIDE)\n",
    "        display(HTML(\"<h2>Generated LLM Prompt:</h2>\"))\n",
    "        display(Markdown(f\"```text\\n{full_llm_prompt}\\n```\"))\n",
    "        display(HTML(\"<h2>Simulated Credit Report:</h2>\"))\n",
    "        simulated_report_md = report_simulator.generate_simulated_report(user_inputs)\n",
    "        display(Markdown(simulated_report_md))\n",
    "generate_button.on_click(on_generate_button_clicked)\n",
    "display(all_inputs_vbox)\n",
    "display(generate_button)\n",
    "display(output_area)"
   ]
  },
  {
   "cell_type": "markdown",
   "metadata": {},
   "source": [
    "## 4. EXAMPLE: Microsoft Corporation (MSFT)\n",
    "This section demonstrates how the tool can be used, showcasing the inputs for Microsoft, the generated LLM prompt, and the simulated report output.\n",
    "\n",
    "### 4.1. Example Inputs for Microsoft\n",
    "The following Python dictionary represents the data as if it were entered into the UI fields above for Microsoft Corporation:"
   ]
  },
  {
   "cell_type": "code",
   "execution_count": [],
   "metadata": {},
   "outputs": [],
   "source": [
    "microsoft_inputs_example = {\n",
    "    'company_name': \"Microsoft Corporation\",\n",
    "    'company_ticker': \"MSFT\",\n",
    "    'company_sector': \"Technology - Diversified Software & Cloud\",\n",
    "    'key_assumptions': \"\"\"1. Continued double-digit growth in Azure (Intelligent Cloud segment).\\n2. Successful ongoing integration of Activision Blizzard King, contributing to gaming revenue growth.\\n3. Sustained high CAPEX for AI infrastructure development and expansion.\\n4. Stable demand for enterprise software (Office 365, Dynamics).\\n5. Regulatory scrutiny remains a key area to monitor but no immediate disruptive impact assumed within the rating horizon.\"\"\",\n",
    "    'financial_revenue_y1': 235000.0, \n",
    "    'financial_ebitda_y1': 115000.0,   \n",
    "    'financial_total_debt_y1': 48000.0, \n",
    "    'financial_total_equity_y1': 255000.0, \n",
    "    'financial_fcf_y1': 70000.0,       \n",
    "    'metric_debt_ebitda': 0.42,        \n",
    "    'metric_ebitda_interest': 25.0,    \n",
    "    'qualitative_business_description': \"Global technology leader providing a wide range of software products, services, and devices. Key segments include Intelligent Cloud (Azure, server products), Productivity and Business Processes (Office, LinkedIn, Dynamics), and More Personal Computing (Windows, Gaming/Xbox, Surface). Strong focus on AI innovation across all offerings.\",\n",
    "    'qualitative_management_strategy': \"Experienced and highly regarded management team led by Satya Nadella. Strategy focuses on cloud leadership (Azure), AI integration (OpenAI partnership, Copilots), enterprise software dominance, gaming expansion (Activision integration), and operational excellence. Strong capital allocation for R&D, strategic M&A, and shareholder returns.\",\n",
    "    'qualitative_competitive_landscape': \"Operates in highly competitive markets. Key competitors include AWS & Google Cloud in cloud services; Apple & Google in operating systems and productivity; Sony & Nintendo in gaming; Salesforce in CRM; numerous players in cybersecurity and enterprise applications. Microsoft maintains strong to leading market positions in most of its core segments due to scale, innovation, and deep enterprise relationships.\",\n",
    "    'qualitative_industry_outlook': \"Overall positive outlook for key segments: Cloud computing demand remains robust. AI adoption is accelerating, creating new growth vectors. Enterprise software spending is resilient. Gaming industry shows long-term growth despite cyclical hardware. Cybersecurity is a growing necessity. Headwinds include macroeconomic uncertainty impacting some discretionary spending and potential for increased regulatory oversight globally.\",\n",
    "    'qualitative_esg_factors': \"Microsoft has strong ESG commitments, aiming for carbon negative by 2030 and water positive by 2030. Focus on responsible AI development and deployment. Strong corporate governance practices. Publishes detailed annual sustainability and D&I reports. Subject to scrutiny common for large tech companies regarding data privacy, antitrust, and supply chain ethics.\",\n",
    "    'recent_news_summary': \"\"\"- Microsoft continues to announce major AI advancements and integrations across its product suite (e.g., new Copilot features, Azure AI services expansions). (Source: Company Announcements, Q1-Q2 2025)\\n- Reports strong Q3 FY2025 earnings, with Azure growth exceeding 25% and positive momentum in gaming segment post-Activision. (Source: Earnings Call, April 2025)\\n- Announced further multi-billion dollar investments in global data center infrastructure to support AI and cloud demand. (Source: Press Releases, May 2025)\\n- Facing ongoing regulatory reviews in US and EU regarding cloud market practices and AI partnerships. (Source: Various Media, Ongoing)\"\"\"\n",
    "}\n",
    "\n",
    "from IPython.display import  JSON # For pretty printing dicts\n",
    "display(HTML(\"<b>Illustrative Inputs for Microsoft:</b>\"))\n",
    "display(JSON(microsoft_inputs_example))"
   ]
  },
  {
   "cell_type": "markdown",
   "metadata": {},
   "source": [
    "### 4.2. Generated LLM Prompt for Microsoft\n",
    "Based on the inputs above, the notebook would construct the following detailed prompt. This is what you would ideally send to an advanced external LLM API."
   ]
  },
  {
   "cell_type": "code",
   "execution_count": [],
   "metadata": {},
   "outputs": [],
   "source": [
    "# This cell re-constructs and displays the prompt using the MSFT example inputs\n",
    "user_inputs_for_prompt = microsoft_inputs_example\n",
    "input_data_prompt_section_msft = \"**USER-PROVIDED INFORMATION:**\\n\\n\"\n",
    "input_data_prompt_section_msft += f\"Company Name: {user_inputs_for_prompt.get('company_name', 'N/A')}\\n\"\n",
    "input_data_prompt_section_msft += f\"Ticker Symbol: {user_inputs_for_prompt.get('company_ticker', 'N/A')}\\n\"\n",
    "input_data_prompt_section_msft += f\"Primary Sector: {user_inputs_for_prompt.get('company_sector', 'N/A')}\\n\\n\"\n",
    "input_data_prompt_section_msft += \"**Key Analyst Assumptions:**\\n\"\n",
    "input_data_prompt_section_msft += f\"{user_inputs_for_prompt.get('key_assumptions', 'N/A')}\\n\\n\"\n",
    "input_data_prompt_section_msft += \"**Financial Data:**\\n\"\n",
    "for name, w_val in user_inputs_for_prompt.items():\n",
    "    if name.startswith('financial_'): input_data_prompt_section_msft += f\"- {name.replace('financial_', '').replace('_', ' ').title()}: {w_val}\\n\"\n",
    "input_data_prompt_section_msft += \"\\n\"\n",
    "input_data_prompt_section_msft += \"**Credit Metrics:**\\n\"\n",
    "for name, w_val in user_inputs_for_prompt.items():\n",
    "    if name.startswith('metric_'): input_data_prompt_section_msft += f\"- {name.replace('metric_', '').replace('_', ' ').upper()}: {w_val}\\n\"\n",
    "input_data_prompt_section_msft += \"\\n\"\n",
    "input_data_prompt_section_msft += \"**Qualitative Factors:**\\n\"\n",
    "input_data_prompt_section_msft += f\"- Business Description: {user_inputs_for_prompt.get('qualitative_business_description', 'N/A')}\\n\"\n",
    "input_data_prompt_section_msft += f\"- Management & Strategy: {user_inputs_for_prompt.get('qualitative_management_strategy', 'N/A')}\\n\"\n",
    "input_data_prompt_section_msft += f\"- Competitive Landscape: {user_inputs_for_prompt.get('qualitative_competitive_landscape', 'N/A')}\\n\"\n",
    "input_data_prompt_section_msft += f\"- Industry Outlook: {user_inputs_for_prompt.get('qualitative_industry_outlook', 'N/A')}\\n\"\n",
    "input_data_prompt_section_msft += f\"- ESG Factors: {user_inputs_for_prompt.get('qualitative_esg_factors', 'N/A')}\\n\\n\"\n",
    "input_data_prompt_section_msft += \"**Recent News / Press Releases:**\\n\"\n",
    "input_data_prompt_section_msft += f\"{user_inputs_for_prompt.get('recent_news_summary', 'N/A')}\\n\"\n",
    "\n",
    "full_llm_prompt_msft = PROMPT_TEMPLATE_CORE.replace(\"{company_name}\", user_inputs_for_prompt.get('company_name', 'N/A'))\n",
    "full_llm_prompt_msft = full_llm_prompt_msft.replace(\"{company_ticker}\", user_inputs_for_prompt.get('company_ticker', 'N/A'))\n",
    "full_llm_prompt_msft = full_llm_prompt_msft.replace(\"{company_sector}\", user_inputs_for_prompt.get('company_sector', 'N/A'))\n",
    "full_llm_prompt_msft = full_llm_prompt_msft.replace(\"---INPUT_DATA_MARKER---\", input_data_prompt_section_msft + \"\\n---\\n\")\n",
    "full_llm_prompt_msft = full_llm_prompt_msft.replace(\"{report_structure_guide}\", REPORT_STRUCTURE_GUIDE)\n",
    "\n",
    "display(Markdown(\"```text\\n\" + full_llm_prompt_msft + \"\\n```\"))"
   ]
  },
  {
   "cell_type": "markdown",
   "metadata": {},
   "source": [
    "### 4.3. Simulated Human-Readable Report for Microsoft\n",
    "The notebook's internal `DynamicReportSimulator` processes the inputs above and generates the following simulated report. Remember, this is based on the current simple, rule-based logic."
   ]
  },
  {
   "cell_type": "code",
   "execution_count": [],
   "metadata": {},
   "outputs": [],
   "source": [
    "# This cell re-generates and displays the simulated report for MSFT\n",
    "# Ensure 'report_simulator' is instantiated from the main interactive code cell or define it here again.\n",
    "# For a truly standalone example section, you might re-instantiate it.\n",
    "if 'report_simulator' not in globals():\n",
    "    # This is a fallback if this cell is run independently before the main UI code cell\n",
    "    class DynamicReportSimulator:\n",
    "        # ... (Full class definition as provided before) ...\n",
    "        def __init__(self, report_structure_template_md):\n",
    "            self.report_structure_template_md = report_structure_template_md\n",
    "        def _format_financials(self, inputs_dict):\n",
    "            summary = []\n",
    "            for key, value in inputs_dict.items():\n",
    "                if key.startswith('financial_') and value is not None:\n",
    "                    label = key.replace('financial_', '').replace('_', ' ').title()\n",
    "                    if 'Revenue' in label or 'Ebitda' in label or 'Debt' in label or 'Equity' in label or 'Fcf' in label:\n",
    "                         summary.append(f\"- {label}: ${value}M\")\n",
    "                    else:\n",
    "                         summary.append(f\"- {label}: {value}\")\n",
    "            return \"\\n        \".join(summary) if summary else \"No specific financial figures provided.\"\n",
    "        def _format_metrics(self, inputs_dict):\n",
    "            summary = []\n",
    "            commentary = []\n",
    "            for key, value in inputs_dict.items():\n",
    "                if key.startswith('metric_') and value is not None:\n",
    "                    label = key.replace('metric_', '').replace('_', ' ').upper()\n",
    "                    summary.append(f\"- {label}: {value}x\")\n",
    "                    if 'Debt / Ebitda' in label:\n",
    "                        if float(value) <= 2.0: commentary.append(\"Leverage (Debt/EBITDA) appears low to moderate.\")\n",
    "                        elif float(value) <= 4.0: commentary.append(\"Leverage (Debt/EBITDA) appears moderate.\")\n",
    "                        else: commentary.append(\"Leverage (Debt/EBITDA) appears high.\")\n",
    "                    if 'Ebitda / Interest' in label:\n",
    "                        if float(value) >= 5.0: commentary.append(\"Interest coverage appears strong.\")\n",
    "                        elif float(value) >= 2.0: commentary.append(\"Interest coverage appears adequate.\")\n",
    "                        else: commentary.append(\"Interest coverage appears weak.\")\n",
    "            metrics_text = \"\\n        \".join(summary) if summary else \"No specific credit metrics provided.\"\n",
    "            if commentary:\n",
    "                metrics_text += \"\\n    * **Brief Commentary:**\\n        * \" + \"\\n        * \".join(commentary)\n",
    "            return metrics_text\n",
    "        def _infer_rating_outlook(self, inputs_dict):\n",
    "            rating = \"BBB\"; outlook = \"Stable\"; score = 0\n",
    "            try:\n",
    "                if inputs_dict.get('financial_fcf_y1', 0.0) > 0: score += 1\n",
    "                else: score -=1\n",
    "                if inputs_dict.get('financial_revenue_y1', 0.0) > 500 : score +=1\n",
    "                debt_ebitda = inputs_dict.get('metric_debt_ebitda')\n",
    "                if debt_ebitda is not None:\n",
    "                    if float(debt_ebitda) < 1.5: score += 2\n",
    "                    elif float(debt_ebitda) < 3.0: score += 1\n",
    "                    elif float(debt_ebitda) > 4.5: score -= 2\n",
    "                    else: score -=1\n",
    "                ebitda_interest = inputs_dict.get('metric_ebitda_interest')\n",
    "                if ebitda_interest is not None:\n",
    "                    if float(ebitda_interest) > 8.0: score += 2\n",
    "                    elif float(ebitda_interest) > 4.0: score += 1\n",
    "                    elif float(ebitda_interest) < 2.0: score -=2\n",
    "                    else: score -=1\n",
    "                qual_texts = [inputs_dict.get('qualitative_management_strategy',''), inputs_dict.get('qualitative_competitive_landscape',''), inputs_dict.get('qualitative_industry_outlook','')]\n",
    "                negative_keywords = [\"poor\", \"declining\", \"weak\", \"intense competition\", \"headwinds\", \"challenging\"]\n",
    "                for text in qual_texts: \n",
    "                    for keyword in negative_keywords: \n",
    "                        if keyword in text.lower(): score -=1; break\n",
    "                if \"strong growth\" in inputs_dict.get('qualitative_industry_outlook','').lower() : score +=1\n",
    "                if \"strong execution\" in inputs_dict.get('qualitative_management_strategy','').lower() : score +=1\n",
    "            except Exception: pass\n",
    "            if score >= 4: rating = \"A-\"; outlook = \"Positive\"\n",
    "            elif score >= 2: rating = \"BBB+\"; outlook = \"Stable\"\n",
    "            elif score >= 0: rating = \"BBB\"; outlook = \"Stable\"\n",
    "            elif score >= -2: rating = \"BBB-\"; outlook = \"Negative\"\n",
    "            elif score >= -4: rating = \"BB+\"; outlook = \"Negative\"\n",
    "            else: rating = \"BB\"; outlook = \"Negative\"\n",
    "            return rating, outlook\n",
    "        def generate_simulated_report(self, inputs_dict):\n",
    "            sim_rating, sim_outlook = self._infer_rating_outlook(inputs_dict)\n",
    "            positive_factors = []; credit_concerns = []\n",
    "            try:\n",
    "                if inputs_dict.get('financial_fcf_y1', 0.0) > 0: positive_factors.append(f\"Positive Free Cash Flow (${inputs_dict.get('financial_fcf_y1', 'N/A')}M).\")\n",
    "                else: credit_concerns.append(f\"Negative or low Free Cash Flow (${inputs_dict.get('financial_fcf_y1', 'N/A')}M).\")\n",
    "                debt_ebitda = inputs_dict.get('metric_debt_ebitda')\n",
    "                if debt_ebitda is not None:\n",
    "                    if float(debt_ebitda) < 2.0: positive_factors.append(f\"Low leverage (Debt/EBITDA: {debt_ebitda}x).\")\n",
    "                    elif float(debt_ebitda) > 4.0: credit_concerns.append(f\"High leverage (Debt/EBITDA: {debt_ebitda}x).\")\n",
    "                if \"strong execution\" in inputs_dict.get('qualitative_management_strategy','').lower(): positive_factors.append(\"Indication of strong management execution.\")\n",
    "                if \"intense competition\" in inputs_dict.get('qualitative_competitive_landscape','').lower(): credit_concerns.append(\"Intense competitive landscape noted.\")\n",
    "            except Exception: positive_factors.append(\"Error processing positive factors.\"); credit_concerns.append(\"Error processing credit concerns.\")\n",
    "            if not positive_factors: positive_factors.append(\"No specific positive factors highlighted from inputs.\")\n",
    "            if not credit_concerns: credit_concerns.append(\"No specific credit concerns highlighted from inputs.\")\n",
    "            report_replacements = {k: inputs_dict.get(k, 'N/A') for k in ['company_name', 'company_ticker', 'company_sector', 'qualitative_business_description', 'qualitative_management_strategy', 'qualitative_competitive_landscape', 'qualitative_industry_outlook', 'qualitative_esg_factors']}\n",
    "            report_replacements['key_assumptions'] = inputs_dict.get('key_assumptions', 'N/A').replace('\\n', '\\n    * ')\n",
    "            report_replacements['financial_data_summary'] = self._format_financials(inputs_dict)\n",
    "            report_replacements['credit_metrics_summary'] = self._format_metrics(inputs_dict)\n",
    "            report_replacements['recent_news_summary'] = inputs_dict.get('recent_news_summary', 'N/A').replace('\\n', '\\n        * ')\n",
    "            report_md = self.report_structure_template_md\n",
    "            for key, value in report_replacements.items(): report_md = report_md.replace(f\"{{{key}}}\", str(value))\n",
    "            overall_assessment_text = f\"Based on the provided inputs, the company exhibits characteristics consistent with a {sim_rating} credit profile. Financial metrics show leverage at {inputs_dict.get('metric_debt_ebitda', 'N/A')}x and interest coverage at {inputs_dict.get('metric_ebitda_interest', 'N/A')}x. Qualitative factors such as management ('{inputs_dict.get('qualitative_management_strategy', '')[:50]}...') and recent news ('{inputs_dict.get('recent_news_summary', '')[:50]}...') contribute to this view. The outlook is {sim_outlook}.\"\n",
    "            report_md = report_md.replace(\"Overall Assessment: [Brief summary of creditworthiness based on inputs]\", f\"Overall Assessment: {overall_assessment_text}\")\n",
    "            report_md = report_md.replace(\"Simulated Credit Rating: [e.g., BBB+, A-, etc. - LLM should infer a plausible rating based on inputs OR state if inputs are insufficient to determine]\", f\"Simulated Credit Rating: {sim_rating}\")\n",
    "            report_md = report_md.replace(\"Rating Outlook: [e.g., Stable, Positive, Negative - LLM should infer a plausible outlook OR state if inputs are insufficient]\", f\"Rating Outlook: {sim_outlook}\")\n",
    "            report_md = report_md.replace(\"Key Positive Factors: [List 2-3 key strengths from inputs]\", f\"Key Positive Factors:\\n        * \" + \"\\n        * \".join(positive_factors))\n",
    "            report_md = report_md.replace(\"Key Credit Concerns: [List 2-3 key risks/weaknesses from inputs]\", f\"Key Credit Concerns:\\n        * \" + \"\\n        * \".join(credit_concerns))\n",
    "            rating_rationale_text = f\"The simulated rating of {sim_rating} is primarily driven by the interplay of its financial metrics (e.g., Debt/EBITDA of {inputs_dict.get('metric_debt_ebitda', 'N/A')}x, FCF of ${inputs_dict.get('financial_fcf_y1', 'N/A')}M), qualitative assessments regarding its market position ('{inputs_dict.get('qualitative_competitive_landscape', '')[:50]}...'), and management strategy ('{inputs_dict.get('qualitative_management_strategy', '')[:50]}...'). Recent developments ('{inputs_dict.get('recent_news_summary', '')[:50]}...') also play a role. The balance of these factors, as provided, supports this assessment.\"\n",
    "            report_md = report_md.replace(\"[Explain the reasoning behind the simulated rating, tying back to specific strengths, weaknesses, financial metrics, and qualitative factors provided.]\", rating_rationale_text)\n",
    "            outlook_rationale_text = f\"The {sim_outlook} outlook is based on the current trajectory implied by the financial data, the stated key assumptions ('{inputs_dict.get('key_assumptions', '')[:50]}...'), and the potential impacts of recent news and industry trends ('{inputs_dict.get('qualitative_industry_outlook', '')[:50]}...'). Stability (or change) in key credit metrics and successful (or unsuccessful) strategic execution will be key determinants moving forward.\"\n",
    "            report_md = report_md.replace(\"[Explain the reasoning behind the simulated outlook, considering potential trends and future impacts of current factors.]\", outlook_rationale_text)\n",
    "            report_md = report_md.replace(\"[Comment on trends if discernible from inputs]\", \"[Detailed trend analysis requires time-series data. Based on single-period input, this section focuses on current state.]\")\n",
    "            report_md = report_md.replace(\"[Briefly discuss potential credit implications of the news]\", \"[The provided news snippets ('{recent_news_summary[:100]}...') could [positively/negatively/neutrally] impact credit quality by [e.g., improving diversification, increasing leverage, etc.]. Further analysis needed.]\".format(recent_news_summary=inputs_dict.get('recent_news_summary','')))\n",
    "            report_md = report_md.replace(\"[Synthesized from all inputs - financial, qualitative, etc.]\", \"[This section would typically synthesize all inputs. Key strengths identified include: \" + \", \".join(positive_factors) + \"]\")\n",
    "            return report_md\n",
    "    report_simulator_example = DynamicReportSimulator(REPORT_STRUCTURE_GUIDE) # Ensure REPORT_STRUCTURE_GUIDE is defined from above\n",
    "simulated_report_md_msft = report_simulator_example.generate_simulated_report(microsoft_inputs_example)\n",
    "display(Markdown(simulated_report_md_msft))"
   ]
  },
  {
   "cell_type": "markdown",
   "metadata": {},
   "source": [
    "## 5. Example Document Review\n",
    "\n",
    "To understand the quality and limitations of the **simulated report** generated by this notebook's internal logic, the table below reviews the Microsoft example report (from Section 4.3) against a conceptual, high-quality, expert-level report (our '100-score' benchmark).\n",
    "\n",
    "This benchmark represents what a more sophisticated system, potentially using multiple specialized analytical modules (like the CACM concept) and advanced LLM reasoning, might produce."
   ]
  },
  {
   "cell_type": "markdown",
   "metadata": {},
   "source": [
    "\n",
    "| Section                      | `SimulatedNotebookReport_MSFT` - Key Characteristics & Content                                                                                                                                                                                             | Comparison vs. `ExpertSystemReport_MSFT_Ideal` & Gaps                                                                                                                                                                                                | Score (0-100) |\n",
    "| :--------------------------- | :--------------------------------------------------------------------------------------------------------------------------------------------------------------------------------------------------------------------------------------------------------- | :--------------------------------------------------------------------------------------------------------------------------------------------------------------------------------------------------------------------------------------------------- | :------------ |\n",
    "| **1. Executive Summary** | - Basic assessment linking inferred A- (Positive) rating to high-level inputs.<br>- Lists directly extracted/simply inferred positive factors (FCF, low leverage, good management).<br>- States \"No specific credit concerns highlighted.\"                   | - Lacks narrative depth and comprehensive synthesis.<br>- Ideal report would have a nuanced credit story.<br>- Factor identification is superficial; concerns section weak.                                                                              | 45            |\n",
    "| **2. Company Overview** | - Accurately presents user-provided Name, Ticker, Sector.<br>- Includes user-provided Business Description.                                                                                                                                                 | - Fulfills its role based on inputs.<br>- Ideal report might auto-populate more details (segment revenues, geography) from a database.                                                                                                                | 70            |\n",
    "| **3. Key Analyst Assumptions** | - Accurately transcribes the 5 user-provided key assumptions.                                                                                                                                                                                                | - Perfectly transcribes inputs.<br>- Ideal system might offer validation/challenge features for assumptions.                                                                                                                                        | 90            |\n",
    "| **4. Financial Performance Analysis** | - Lists 5 input financial figures & 2 input metrics.<br>- Very basic commentary on metrics (e.g., \"Leverage...low to moderate\").<br>- Correctly states trend analysis needs more data.                                                                 | - Severely lacks breadth/depth.<br>- Ideal report includes historical data, wider ratio set, peer analysis, detailed trends, projections.<br>- Commentary is rudimentary. Major area for dedicated financial CACMs.                                  | 30            |\n",
    "| **5. Qualitative Factors Assessment** | - Transcribes user inputs for Management, Competitive Landscape, Industry Outlook, ESG.                                                                                                                                                              | - Effectively organizes inputs.<br>- Ideal report would integrate these more deeply, add external context (e.g., SWOT), and provide more evaluative commentary beyond transcription.                                                                   | 60            |\n",
    "| **6. Recent Developments & News** | - Lists user-provided news snippets.<br>- Placeholder text for \"Potential Impact Analysis,\" noting further analysis is needed.                                                                                                                            | - Good for capturing news.<br>- Ideal report would categorize news, offer specific preliminary impact assessments, and link to financial/qualitative factors. Impact analysis is a key gap.                                                           | 40            |\n",
    "| **7. Credit Strengths** | - Basic list derived from simple positive factor inference (e.g., \"Positive FCF,\" \"Low leverage,\" \"Indication of strong management execution\").                                                                                                              | - Lacks comprehensive synthesis and nuanced articulation.<br>- Ideal report synthesizes from all data sources and analyses, not just direct extractions.                                                                                             | 35            |\n",
    "| **8. Credit Risks & Concerns** | - States \"No specific credit concerns highlighted from inputs.\"                                                                                                                                                                                               | - Simplistic inference fails to identify typical business/sector risks (e.g., competition, regulatory) that an expert analysis would include, even for a strong credit. Significant gap.                                                              | 20            |\n",
    "| **9. Rating Rationale** | - Generic template filled with high-level references to inputs (financials, qualitative, news) supporting the A- rating.                                                                                                                                | - States *that* factors drive the rating, but lacks deep explanation of *how/why* with context or weighting.<br>- Ideal report provides a persuasive, detailed argument linking all evidence to the rating.                                        | 30            |\n",
    "| **10. Outlook Rationale** | - Generic template referencing inputs (financial trajectory, assumptions, news, industry trends) supporting the Positive outlook.                                                                                                                          | - Similar to Rating Rationale, identifies right categories but lacks deep, forward-looking analytical argument.<br>- Ideal report details specific future drivers and conditions that could alter the outlook.                                 | 30            |\n",
    "| **Overall Average (Illustrative)** |                                                                                                                                                                                                                                                          | **Average Score Reflects Utility as a Structured Input & First-Draft Tool** | **45** |"
   ]
  },
  {
   "cell_type": "markdown",
   "metadata": {},
   "source": [
    "**Key Takeaway from Review:**\n",
    "The notebook is a powerful tool for structuring inputs and generating a comprehensive, detailed prompt for an advanced LLM. The *simulated report* it produces internally is illustrative and serves as a 'first draft' based on simple rules. For a truly expert-level report, the generated prompt should be used with an advanced external LLM, or the `DynamicReportSimulator` class within this notebook would need to be significantly enhanced with more sophisticated analytical modules (akin to the CACM concept discussed in other contexts)."
   ]
  },
  {
   "cell_type": "markdown",
   "metadata": {},
   "source": [
    "## 6. Data Portability: Example JSONL Output for Storage\n",
    "\n",
    "For systematically storing the key information from reports (either simulated or from an actual LLM response based on the generated prompt), a JSONL (JSON Lines) format is useful. Each line in a `.jsonl` file is a self-contained JSON object.\n",
    "\n",
    "Here's an example of what a JSONL entry for the simulated Microsoft report might look like:"
   ]
  },
  {
   "cell_type": "code",
   "execution_count": [],
   "metadata": {},
   "outputs": [],
   "source": [
    "microsoft_report_jsonl_object = {\n",
    "    \"reportId\": f\"msft-simulated-{datetime.datetime.now().strftime('%Y%m%d-%H%M%S')}\", \n",
    "    \"generationTimestamp\": datetime.datetime.now().isoformat(), \n",
    "    \"reportDate\": datetime.date.today().isoformat(), \n",
    "    # Directly from inputs:\n",
    "    \"companyName\": microsoft_inputs_example['company_name'], \n",
    "    \"companyTicker\": microsoft_inputs_example['company_ticker'], \n",
    "    \"companySector\": microsoft_inputs_example['company_sector'], \n",
    "    \"keyAssumptions\": microsoft_inputs_example['key_assumptions'], \n",
    "    \"financials\": {\n",
    "        k.replace('financial_', ''): v for k, v in microsoft_inputs_example.items() if k.startswith('financial_')\n",
    "    }, \n",
    "    \"metrics\": {\n",
    "        k.replace('metric_', ''): v for k, v in microsoft_inputs_example.items() if k.startswith('metric_')\n",
    "    }, \n",
    "    \"qualitative\": {\n",
    "        k.replace('qualitative_', ''): v for k, v in microsoft_inputs_example.items() if k.startswith('qualitative_')\n",
    "    }, \n",
    "    \"recentNewsSummary\": microsoft_inputs_example['recent_news_summary'],\n",
    "    # From simulated output (example):\n",
    "    \"simulatedRating\": \"A-\", # This would be dynamically grabbed from report_simulator output\n",
    "    \"simulatedOutlook\": \"Positive\", # This too\n",
    "    \"keyPositiveFactorsSummary\": [\"Positive Free Cash Flow ($70000.0M).\", \"Low leverage (Debt/EBITDA: 0.42x).\", \"Indication of strong management execution.\"], # Simplified for this example\n",
    "    \"keyCreditConcernsSummary\": [\"No specific credit concerns highlighted from inputs.\"], # Simplified\n",
    "    \"sourceSystem\": \"InteractiveCreditReportNotebook_v1_Simulated\"\n",
    "}\n",
    "\n",
    "# To get the actual simulated rating/outlook for JSONL:\n",
    "if 'report_simulator' in globals(): # Check if simulator is available\n",
    "    _sim_rating, _sim_outlook = report_simulator._infer_rating_outlook(microsoft_inputs_example)\n",
    "    microsoft_report_jsonl_object['simulatedRating'] = _sim_rating\n",
    "    microsoft_report_jsonl_object['simulatedOutlook'] = _sim_outlook\n",
    "\n",
    "display(HTML(\"<b>Example JSONL Object for Microsoft Report:</b>\"))\n",
    "display(JSON(microsoft_report_jsonl_object))"
   ]
  },
  {
   "cell_type": "markdown",
   "metadata": {},
   "source": [
    "## 7. Conclusion & Next Steps\n",
    "\n",
    "This notebook provides a foundational framework for an interactive, prompt-driven approach to initiating corporate credit analysis. It standardizes data input, automates the creation of a sophisticated LLM prompt, and offers a basic simulated report.\n",
    "\n",
    "**Potential Future Enhancements:**\n",
    "* **Direct LLM API Integration:** Add functionality to send the generated prompt to an actual LLM API (e.g., OpenAI, Google Gemini) and display the response. This would require API key management.\n",
    "* **More Sophisticated Simulation:** Enhance the `DynamicReportSimulator` with more complex rules, calculations, or even small, specialized models for different report sections.\n",
    "* **User-Defined Fields:** Allow users to dynamically add/remove financial data fields or credit metrics in the UI.\n",
    "* **Report Customization:** Allow users to select which sections to include in the report or even choose different report structure templates.\n",
    "* **Output Formats:** Add options to export the generated report to other formats (e.g., PDF, DOCX).\n",
    "* **Data Validation:** Implement input validation for financial figures and metrics.\n",
    "* **Historical Data & Trend Analysis:** Expand input capabilities to include time-series data to enable more meaningful trend analysis in the simulation."
   ]
  }
 ],
 "metadata": {
  "kernelspec": {
   "display_name": "Python 3 (ipykernel)",
   "language": "python",
   "name": "python3"
  },
  "language_info": {
   "codemirror_mode": {
    "name": "ipython",
    "version": 3
   },
   "file_extension": ".py",
   "mimetype": "text/x-python",
   "name": "python",
   "nbconvert_exporter": "python",
   "pygments_lexer": "ipython3",
   "version": "3.10" # Or your Python version
  }
 },
 "nbformat": 4,
 "nbformat_minor": 5
}

# --- All Python code from the previous Jupyter Notebook goes here ---
# This includes:
# 1. import ipywidgets as widgets, etc.
# 2. PROMPT_TEMPLATE_CORE string
# 3. REPORT_STRUCTURE_GUIDE string
# 4. INPUT_UI_CONFIG dictionary
# 5. DynamicReportSimulator class definition and instantiation
# 6. UI Generation loop (input_widgets, sections_vbox_list, etc.)
# 7. Button definition and on_generate_button_clicked function
# 8. display() calls for UI, button, and output_area

# (For brevity in this plan, I'm not repeating the ~250 lines of Python here,
# but it's the exact same code as provided in the previous step for
# `Interactive_Credit_Report_Generator.ipynb`)


import ipywidgets as widgets
from IPython.display import display, Markdown, HTML, FileLink
import json
import datetime
import os # For API key
import base64 # For file download link

# NEW IMPORTS
try:
    from openai import OpenAI
except ImportError:
    print("OpenAI library not installed. Please install with 'pip install openai'")
    OpenAI = None # Placeholder

try:
    import pypdfium2 as pdfium # For PDF processing
except ImportError:
    print("pypdfium2 library not installed. Please install with 'pip install pypdfium2'")
    pdfium = None # Placeholder


# --- Existing String Definitions (PROMPT_TEMPLATE_CORE, REPORT_STRUCTURE_GUIDE) ---
# (Copied from your provided JSON for completeness, ensure these are correctly filled)
PROMPT_TEMPLATE_CORE = """You are an expert senior credit analyst AI, tasked with generating a comprehensive, balanced, and insightful corporate credit report. Your analysis should be objective and data-driven, drawing upon the information provided below.

**Objective:** Produce a corporate credit report for the specified company, adhering to the structure outlined in the "REPORT_STRUCTURE_GUIDE".

**Key Instructions:**
1.  **Company Focus:** The report is for: {company_name} ({company_ticker}), operating in the {company_sector} sector.
2.  **Information Provided by User:** You will receive structured inputs including:
    * Key Financial Data
    * Calculated Credit Metrics
    * Qualitative Assessments (Management, Competitive Landscape, Industry Outlook, ESG Factors)
    * Recent News Snippets / Press Releases
    * Analyst's Key Assumptions
    * Additional context from uploaded documents (if provided by user): {uploaded_document_context}
3.  **Analysis Approach:**
    * Synthesize all provided quantitative and qualitative information, including any text from uploaded documents.
    * Identify key credit strengths and weaknesses.
    * Discuss financial performance and creditworthiness based on the data.
    * Incorporate recent developments and their potential impact.
    * Clearly state the rating rationale and outlook based *only* on the information provided.
    * If specific data for a standard report section is NOT provided, explicitly state "Information not provided for this section." or "Analysis for this section is limited due to lack of specific input." Do NOT invent data.
4.  **Tone:** Professional, analytical, objective, and cautious. Use clear and concise language.
5.  **Output Format:** Generate the report in Markdown format, strictly following the section headers and structure provided in the "REPORT_STRUCTURE_GUIDE".
6.  **Disclaimer:** Conclude the report with the mandatory disclaimer: "This report is an AI-generated analysis based on user-provided inputs and should not be used for actual investment or credit decisions without independent verification by a qualified human professional. Verify all information independently."

**USER-PROVIDED INFORMATION WILL BE INSERTED BELOW THIS LINE WHEN THE FULL PROMPT IS CONSTRUCTED.**
---INPUT_DATA_MARKER---
**REPORT_STRUCTURE_GUIDE:**
{report_structure_guide}
---END_REPORT_STRUCTURE_GUIDE---
**FINAL INSTRUCTION: Now, generate the comprehensive corporate credit report based on all the above instructions and the provided user inputs, adhering strictly to the REPORT_STRUCTURE_GUIDE.**
"""

REPORT_STRUCTURE_GUIDE = """# Corporate Credit Report: {company_name} ({company_ticker})

## 1. Executive Summary
    * Overall Assessment: [Brief summary of creditworthiness based on inputs]
    * Suggested Credit Rating: [e.g., BBB+, A-, etc. - LLM should infer a plausible rating based on inputs OR state if inputs are insufficient to determine]
    * Rating Outlook: [e.g., Stable, Positive, Negative - LLM should infer a plausible outlook OR state if inputs are insufficient]
    * Key Positive Factors: [List 2-3 key strengths from inputs]
    * Key Credit Concerns: [List 2-3 key risks/weaknesses from inputs]

## 2. Company Overview
    * Company Name: {company_name}
    * Ticker Symbol: {company_ticker}
    * Primary Sector: {company_sector}
    * Brief Business Description (if provided by user): {qualitative_business_description}
    * Additional Context from Uploaded Documents: [Summarize relevant points from uploaded_document_context IF PROVIDED, otherwise state "No documents uploaded for additional context."]

## 3. Key Analyst Assumptions
    * [List of key assumptions provided by the user: {key_assumptions}]

## 4. Financial Performance Analysis
    * Summary of Provided Financials:
        * {financial_data_summary}
    * Key Credit Metrics Analysis:
        * {credit_metrics_summary}
    * Trend Analysis (based on provided data interpretation):
        * [Comment on trends if discernible from inputs]

## 5. Qualitative Factors Assessment
    * Management & Strategy:
        * {qualitative_management_strategy}
    * Competitive Landscape & Market Position:
        * {qualitative_competitive_landscape}
    * Industry Outlook:
        * {qualitative_industry_outlook}
    * Environmental, Social, and Governance (ESG) Considerations (if provided):
        * {qualitative_esg_factors}

## 6. Recent Developments & News
    * Summary of Recent Press Releases/News:
        * {recent_news_summary}
    * Potential Impact Analysis (based on analyst input or LLM inference if obvious from news):
        * [Briefly discuss potential credit implications of the news]

## 7. Credit Strengths
    * [Synthesized from all inputs - financial, qualitative, news, uploaded documents etc.]

## 8. Credit Risks & Concerns
    * [Synthesized from all inputs - financial, qualitative, news, uploaded documents etc.]

## 9. Rating Rationale
    * [Explain the reasoning behind the suggested rating, tying back to specific strengths, weaknesses, financial metrics, and qualitative factors provided.]

## 10. Outlook Rationale
    * [Explain the reasoning behind the suggested outlook, considering potential trends and future impacts of current factors.]

## 11. Disclaimer
This report is an AI-generated analysis based on user-provided inputs and should not be used for actual investment or credit decisions without independent verification by a qualified human professional. Verify all information independently.
"""
INPUT_UI_CONFIG = {
  "sections": [
    {"title": "Company Information", "fields": [
        {"name": "company_name", "label": "Company Name:", "type": "text", "default": "ExampleCorp"},
        {"name": "company_ticker", "label": "Ticker Symbol:", "type": "text", "default": "EXMPL"},
        {"name": "company_sector", "label": "Primary Sector:", "type": "text", "default": "Technology"}]},
    {"title": "Key Analyst Assumptions", "fields": [
        {"name": "key_assumptions", "label": "Analyst's Key Assumptions:", "type": "textarea", "default": "1. Moderate revenue growth.\n2. Stable margins."}]},
    {"title": "Financial Data (Illustrative)", "fields": [
        {"name": "financial_revenue_y1", "label": "Recent Full Year Revenue ($M):", "type": "float", "default": 1000.0},
        {"name": "financial_ebitda_y1", "label": "Recent Full Year EBITDA ($M):", "type": "float", "default": 250.0},
        {"name": "financial_total_debt_y1", "label": "Total Debt ($M):", "type": "float", "default": 500.0},
        {"name": "financial_total_equity_y1", "label": "Total Equity ($M):", "type": "float", "default": 300.0},
        {"name": "financial_fcf_y1", "label": "Free Cash Flow ($M):", "type": "float", "default": 50.0}]},
    {"title": "Credit Metrics (Illustrative)", "fields": [
        {"name": "metric_debt_ebitda", "label": "Debt / EBITDA (x):", "type": "float", "default": 2.0},
        {"name": "metric_ebitda_interest", "label": "EBITDA / Interest Expense (x):", "type": "float", "default": 5.0}]},
    {"title": "Qualitative Factors", "fields": [
        {"name": "qualitative_business_description", "label": "Brief Business Description:", "type": "textarea", "default": "Leading provider of widgets."},
        {"name": "qualitative_management_strategy", "label": "Management Assessment & Strategy:", "type": "textarea", "default": "Experienced management."},
        {"name": "qualitative_competitive_landscape", "label": "Competitive Landscape & Market Position:", "type": "textarea", "default": "Competitive market."},
        {"name": "qualitative_industry_outlook", "label": "Industry Outlook:", "type": "textarea", "default": "Modest growth expected."},
        {"name": "qualitative_esg_factors", "label": "ESG Considerations:", "type": "textarea", "default": "Standard ESG practices."}]},
    {"title": "Recent News / Press Releases", "fields": [
        {"name": "recent_news_summary", "label": "Paste recent news snippets/summaries here:", "type": "textarea", "default": "Q1 earnings meet expectations."}]}]}


# --- DynamicReportSimulator Class (as provided, with minor adjustments if needed) ---
class DynamicReportSimulator:
    def __init__(self, report_structure_template_md):
        self.report_structure_template_md = report_structure_template_md

    def _format_financials(self, inputs_dict):
        summary = []
        for key, value in inputs_dict.items():
            if key.startswith('financial_') and value is not None:
                label = key.replace('financial_', '').replace('_', ' ').title()
                if 'Revenue' in label or 'Ebitda' in label or 'Debt' in label or 'Equity' in label or 'Fcf' in label:
                    summary.append(f"- {label}: ${value}M")
                else:
                    summary.append(f"- {label}: {value}")
        return "\n        ".join(summary) if summary else "No specific financial figures provided."

    def _format_metrics(self, inputs_dict):
        summary = []
        commentary = []
        for key, value in inputs_dict.items():
            if key.startswith('metric_') and value is not None:
                label = key.replace('metric_', '').replace('_', ' ').upper()
                summary.append(f"- {label}: {value}x")
                if 'Debt / Ebitda' in label:
                    try:
                        val = float(value)
                        if val <= 2.0: commentary.append("Leverage (Debt/EBITDA) appears low to moderate.")
                        elif val <= 4.0: commentary.append("Leverage (Debt/EBITDA) appears moderate.")
                        else: commentary.append("Leverage (Debt/EBITDA) appears high.")
                    except ValueError: commentary.append("Invalid Debt/EBITDA value.")
                if 'Ebitda / Interest' in label:
                    try:
                        val = float(value)
                        if val >= 5.0: commentary.append("Interest coverage appears strong.")
                        elif val >= 2.0: commentary.append("Interest coverage appears adequate.")
                        else: commentary.append("Interest coverage appears weak.")
                    except ValueError: commentary.append("Invalid EBITDA/Interest value.")

        metrics_text = "\n        ".join(summary) if summary else "No specific credit metrics provided."
        if commentary:
            metrics_text += "\n    * **Brief Commentary:**\n        * " + "\n        * ".join(commentary)
        return metrics_text

    def _infer_rating_outlook(self, inputs_dict):
        rating = "BBB"; outlook = "Stable"; score = 0
        try:
            if inputs_dict.get('financial_fcf_y1', 0.0) > 0: score += 1
            else: score -=1
            if inputs_dict.get('financial_revenue_y1', 0.0) > 500 : score +=1
            debt_ebitda = inputs_dict.get('metric_debt_ebitda')
            if debt_ebitda is not None:
                val = float(debt_ebitda)
                if val < 1.5: score += 2
                elif val < 3.0: score += 1
                elif val > 4.5: score -= 2
                else: score -=1
            ebitda_interest = inputs_dict.get('metric_ebitda_interest')
            if ebitda_interest is not None:
                val = float(ebitda_interest)
                if val > 8.0: score += 2
                elif val > 4.0: score += 1
                elif val < 2.0: score -=2
                else: score -=1
            qual_texts = [inputs_dict.get('qualitative_management_strategy',''), inputs_dict.get('qualitative_competitive_landscape',''), inputs_dict.get('qualitative_industry_outlook','')]
            negative_keywords = ["poor", "declining", "weak", "intense competition", "headwinds", "challenging"]
            for text in qual_texts:
                for keyword in negative_keywords:
                    if keyword in text.lower(): score -=1; break
            if "strong growth" in inputs_dict.get('qualitative_industry_outlook','').lower() : score +=1
            if "strong execution" in inputs_dict.get('qualitative_management_strategy','').lower() : score +=1
        except Exception: pass # Simplified error handling
        if score >= 4: rating = "A-"; outlook = "Positive"
        elif score >= 2: rating = "BBB+"; outlook = "Stable"
        elif score >= 0: rating = "BBB"; outlook = "Stable"
        elif score >= -2: rating = "BBB-"; outlook = "Negative"
        elif score >= -4: rating = "BB+"; outlook = "Negative"
        else: rating = "BB"; outlook = "Negative"
        return rating, outlook

    def generate_simulated_report(self, inputs_dict):
        sim_rating, sim_outlook = self._infer_rating_outlook(inputs_dict)
        positive_factors = []; credit_concerns = []
        try:
            if inputs_dict.get('financial_fcf_y1', 0.0) > 0: positive_factors.append(f"Positive Free Cash Flow (${inputs_dict.get('financial_fcf_y1', 'N/A')}M).")
            else: credit_concerns.append(f"Negative or low Free Cash Flow (${inputs_dict.get('financial_fcf_y1', 'N/A')}M).")
            debt_ebitda = inputs_dict.get('metric_debt_ebitda')
            if debt_ebitda is not None:
                val = float(debt_ebitda)
                if val < 2.0: positive_factors.append(f"Low leverage (Debt/EBITDA: {debt_ebitda}x).")
                elif val > 4.0: credit_concerns.append(f"High leverage (Debt/EBITDA: {debt_ebitda}x).")
            if "strong execution" in inputs_dict.get('qualitative_management_strategy','').lower(): positive_factors.append("Indication of strong management execution.")
            if "intense competition" in inputs_dict.get('qualitative_competitive_landscape','').lower(): credit_concerns.append("Intense competitive landscape noted.")
        except Exception:
            positive_factors.append("Error processing positive factors.")
            credit_concerns.append("Error processing credit concerns.")

        if not positive_factors: positive_factors.append("No specific positive factors highlighted from inputs.")
        if not credit_concerns: credit_concerns.append("No specific credit concerns highlighted from inputs.")

        report_replacements = {k: inputs_dict.get(k, 'N/A') for k in ['company_name', 'company_ticker', 'company_sector', 'qualitative_business_description', 'qualitative_management_strategy', 'qualitative_competitive_landscape', 'qualitative_industry_outlook', 'qualitative_esg_factors']}
        report_replacements['key_assumptions'] = inputs_dict.get('key_assumptions', 'N/A').replace('\n', '\n    * ')
        report_replacements['financial_data_summary'] = self._format_financials(inputs_dict)
        report_replacements['credit_metrics_summary'] = self._format_metrics(inputs_dict)
        report_replacements['recent_news_summary'] = inputs_dict.get('recent_news_summary', 'N/A').replace('\n', '\n        * ')
        # Placeholder for uploaded document context in simulator
        report_replacements['uploaded_document_context'] = inputs_dict.get('uploaded_document_text', "No documents uploaded for additional context.")


        report_md = self.report_structure_template_md
        for key, value in report_replacements.items():
            report_md = report_md.replace(f"{{{key}}}", str(value))

        # Fill Executive Summary based on simulation
        overall_assessment_text = f"Based on the provided inputs, the company exhibits characteristics consistent with a {sim_rating} credit profile. Financial metrics show leverage at {inputs_dict.get('metric_debt_ebitda', 'N/A')}x and interest coverage at {inputs_dict.get('metric_ebitda_interest', 'N/A')}x. Qualitative factors and recent news contribute to this view. The outlook is {sim_outlook}."
        report_md = report_md.replace("Overall Assessment: [Brief summary of creditworthiness based on inputs]", f"Overall Assessment: {overall_assessment_text}")
        report_md = report_md.replace("Suggested Credit Rating: [e.g., BBB+, A-, etc. - LLM should infer a plausible rating based on inputs OR state if inputs are insufficient to determine]", f"Suggested Credit Rating: {sim_rating} (Simulated)")
        report_md = report_md.replace("Rating Outlook: [e.g., Stable, Positive, Negative - LLM should infer a plausible outlook OR state if inputs are insufficient]", f"Rating Outlook: {sim_outlook} (Simulated)")
        report_md = report_md.replace("Key Positive Factors: [List 2-3 key strengths from inputs]", f"Key Positive Factors:\n        * " + "\n        * ".join(positive_factors))
        report_md = report_md.replace("Key Credit Concerns: [List 2-3 key risks/weaknesses from inputs]", f"Key Credit Concerns:\n        * " + "\n        * ".join(credit_concerns))

        # Simplified rationale for simulator
        rating_rationale_text = f"The simulated rating of {sim_rating} is primarily driven by the interplay of its financial metrics (e.g., Debt/EBITDA of {inputs_dict.get('metric_debt_ebitda', 'N/A')}x, FCF of ${inputs_dict.get('financial_fcf_y1', 'N/A')}M), and qualitative assessments. The balance of these factors, as provided, supports this assessment."
        report_md = report_md.replace("[Explain the reasoning behind the suggested rating, tying back to specific strengths, weaknesses, financial metrics, and qualitative factors provided.]", rating_rationale_text)
        outlook_rationale_text = f"The {sim_outlook} outlook is based on the current trajectory implied by the financial data, stated key assumptions, and potential impacts of recent news and industry trends. Stability (or change) in key credit metrics will be key determinants."
        report_md = report_md.replace("[Explain the reasoning behind the suggested outlook, considering potential trends and future impacts of current factors.]", outlook_rationale_text)
        report_md = report_md.replace("[Comment on trends if discernible from inputs]", "[Detailed trend analysis requires time-series data. Based on single-period input, this section focuses on current state.]")
        report_md = report_md.replace("[Briefly discuss potential credit implications of the news]", "[The provided news snippets could impact credit quality. Further analysis needed.]")
        report_md = report_md.replace("[Synthesized from all inputs - financial, qualitative, news, uploaded documents etc.]", "[This section would typically synthesize all inputs. Key strengths identified include: " + ", ".join(positive_factors) + ". Further synthesis pending.]")
        # For risks in simulator
        risk_synthesis = "[Key risks identified include: " + ", ".join(credit_concerns) + ". Further synthesis pending.]"
        report_md = report_md.replace("## 8. Credit Risks & Concerns\n    * [Synthesized from all inputs - financial, qualitative, news, uploaded documents etc.]", f"## 8. Credit Risks & Concerns\n    * {risk_synthesis}")


        return report_md

report_simulator = DynamicReportSimulator(REPORT_STRUCTURE_GUIDE)

# --- Global variables to store generated content for evaluation ---
current_llm_prompt = ""
current_llm_report_md = ""
current_simulated_report_md = ""
current_user_inputs = {}
current_uploaded_text = ""

# --- UI Elements ---
# LLM Configuration
#api_key_input = widgets.PasswordText(description='OpenAI API Key:', layout=widgets.Layout(width='500px'))
llm_model_select = widgets.Dropdown(
    options=['gpt-3.5-turbo', 'gpt-4', 'gpt-4-turbo-preview'], # Add more as needed
    value='gpt-3.5-turbo',
    description='LLM Model:',
    disabled=False,
)

# File Upload
file_upload_widget = widgets.FileUpload(
    accept='.pdf,.txt',  # Accepted file extension
    multiple=False,  # True to accept multiple files
    description='Upload PDF/TXT'
)
uploaded_file_name_display = widgets.Label(value="No file uploaded.")

# Input Widgets (as before)
input_widgets = {}
sections_vbox_list = []
for section_conf in INPUT_UI_CONFIG['sections']:
    section_title_html = widgets.HTML(f"<h3>{section_conf['title']}</h3>")
    fields_vbox_list_inner = [section_title_html]
    for field_config in section_conf['fields']:
        label_widget = widgets.Label(field_config['label'], layout=widgets.Layout(width='250px'))
        if field_config['type'] == 'text': widget_item = widgets.Text(value=str(field_config['default']), layout=widgets.Layout(width='70%'))
        elif field_config['type'] == 'textarea': widget_item = widgets.Textarea(value=str(field_config['default']), layout=widgets.Layout(width='70%', height='80px'))
        elif field_config['type'] == 'float': widget_item = widgets.FloatText(value=float(field_config['default']), layout=widgets.Layout(width='auto'))
        else: widget_item = widgets.Text(value=str(field_config['default']), layout=widgets.Layout(width='70%')) # Fallback
        input_widgets[field_config['name']] = widget_item
        fields_vbox_list_inner.append(widgets.HBox([label_widget, widget_item]))
    sections_vbox_list.append(widgets.VBox(fields_vbox_list_inner, layout=widgets.Layout(margin='0 0 20px 0')))

all_inputs_vbox = widgets.VBox(sections_vbox_list)

# Buttons
generate_button = widgets.Button(description="Generate Prompt & Reports (Sim + LLM)", button_style='success', layout=widgets.Layout(width='auto', margin='20px 0 0 0'))
output_area = widgets.Output() # Main output for reports and prompts

# --- NEW UI Elements for Evaluation ---
human_report_input = widgets.Textarea(
    value='',
    placeholder='Paste human-written report here for comparison...',
    description='Human Report:',
    layout=widgets.Layout(width='90%', height='200px')
)

# Scoring - Example for a few sections. Expand this based on REPORT_STRUCTURE_GUIDE
score_widgets = {
    "executive_summary_score": widgets.IntSlider(description="Exec Summary Score (1-10):", min=1, max=10, value=5),
    "financial_analysis_score": widgets.IntSlider(description="Financial Analysis Score (1-10):", min=1, max=10, value=5),
    "qualitative_factors_score": widgets.IntSlider(description="Qualitative Score (1-10):", min=1, max=10, value=5),
    "rating_rationale_score": widgets.IntSlider(description="Rating Rationale Score (1-10):", min=1, max=10, value=5),
    "overall_llm_score": widgets.IntSlider(description="Overall LLM Report Score (1-10):", min=1, max=10, value=5)
}
feedback_input = widgets.Textarea(
    value='',
    placeholder='Provide overall feedback on the LLM report quality, gaps, strengths...',
    description='Analyst Feedback:',
    layout=widgets.Layout(width='90%', height='100px')
)
compare_button = widgets.Button(description="Generate Comparison & Store Feedback", button_style='info', layout=widgets.Layout(width='auto'))
evaluation_output_area = widgets.Output()
ml_data_output_area = widgets.Output()


# --- Helper Functions ---
def extract_text_from_upload(file_upload_widget_value):
    if not file_upload_widget_value:
        return "", "No file"
    
    uploaded_file_info = list(file_upload_widget_value.values())[0] # Get the first file
    file_name = uploaded_file_info['metadata']['name']
    content = uploaded_file_info['content']

    text = ""
    try:
        if file_name.lower().endswith('.pdf') and pdfium:
            pdf_doc = pdfium.PdfDocument(content)
            for i in range(len(pdf_doc)):
                page = pdf_doc.get_page(i)
                text += page.get_textpage().get_text_range() + "\n"
            pdf_doc.close()
        elif file_name.lower().endswith('.txt'):
            text = content.decode('utf-8') # Assuming UTF-8 for text files
        else:
            return f"Unsupported file type: {file_name}", file_name
        return text, file_name
    except Exception as e:
        return f"Error processing file {file_name}: {e}", file_name

def call_openai_llm(prompt_text, api_key, model="gpt-3.5-turbo"):
    if not OpenAI:
        return "OpenAI library not installed."
    if not api_key:
        return "API key not provided."
    try:
        client = OpenAI(api_key=api_key)
        completion = client.chat.completions.create(
            model=model,
            messages=[
                {"role": "system", "content": "You are a helpful assistant generating a corporate credit report."},
                {"role": "user", "content": prompt_text}
            ]
        )
        return completion.choices[0].message.content
    except Exception as e:
        return f"Error calling OpenAI API: {e}"

def create_download_link(data, filename, button_text):
    if isinstance(data, str):
        b64 = base64.b64encode(data.encode()).decode()
    elif isinstance(data, bytes):
        b64 = base64.b64encode(data).decode()
    else: # Assume it's JSON serializable
        json_str = json.dumps(data, indent=2)
        b64 = base64.b64encode(json_str.encode()).decode()

    payload = f'<a download="{filename}" href="data:application/octet-stream;base64,{b64}" target="_blank">{button_text}</a>'
    return widgets.HTML(payload)

# --- Event Handlers ---
def on_file_upload_change(change):
    if change['new']:
        file_info = list(change['new'].values())[0]
        uploaded_file_name_display.value = f"Uploaded: {file_info['metadata']['name']}"
    else:
        uploaded_file_name_display.value = "No file uploaded."

file_upload_widget.observe(on_file_upload_change, names='value')


def on_generate_button_clicked(b):
    global current_llm_prompt, current_llm_report_md, current_simulated_report_md, current_user_inputs, current_uploaded_text
    with output_area:
        output_area.clear_output(wait=True)
        display(HTML("<h4>Processing...</h4>"))

        # 1. Get User Inputs
        current_user_inputs = {name: w.value for name, w in input_widgets.items()}

        # 2. Process Uploaded File
        uploaded_text, uploaded_filename = extract_text_from_upload(file_upload_widget.value)
        current_uploaded_text = uploaded_text if "Error" not in uploaded_text else ""
        current_user_inputs['uploaded_document_text'] = current_uploaded_text # For simulator
        
        display(HTML(f"<b>Uploaded File:</b> {uploaded_filename}"))
        if "Error" in uploaded_text:
            display(HTML(f"<p style='color:red;'>{uploaded_text}</p>"))
        elif current_uploaded_text:
             display(HTML(f"<details><summary>Click to view extracted text (first 500 chars)</summary><p>{current_uploaded_text[:500]}...</p></details>"))


        # 3. Construct LLM Prompt
        input_data_prompt_section = "**USER-PROVIDED INFORMATION:**\n\n"
        input_data_prompt_section += f"Company Name: {current_user_inputs.get('company_name', 'N/A')}\n"
        input_data_prompt_section += f"Ticker Symbol: {current_user_inputs.get('company_ticker', 'N/A')}\n"
        input_data_prompt_section += f"Primary Sector: {current_user_inputs.get('company_sector', 'N/A')}\n\n"
        input_data_prompt_section += "**Key Analyst Assumptions:**\n"
        input_data_prompt_section += f"{current_user_inputs.get('key_assumptions', 'N/A')}\n\n"
        input_data_prompt_section += "**Financial Data:**\n"
        for name, w_val in current_user_inputs.items():
            if name.startswith('financial_'): input_data_prompt_section += f"- {name.replace('financial_', '').replace('_', ' ').title()}: {w_val}\n"
        input_data_prompt_section += "\n"
        input_data_prompt_section += "**Credit Metrics:**\n"
        for name, w_val in current_user_inputs.items():
            if name.startswith('metric_'): input_data_prompt_section += f"- {name.replace('metric_', '').replace('_', ' ').upper()}: {w_val}\n"
        input_data_prompt_section += "\n"
        input_data_prompt_section += "**Qualitative Factors:**\n"
        input_data_prompt_section += f"- Business Description: {current_user_inputs.get('qualitative_business_description', 'N/A')}\n"
        input_data_prompt_section += f"- Management & Strategy: {current_user_inputs.get('qualitative_management_strategy', 'N/A')}\n"
        input_data_prompt_section += f"- Competitive Landscape: {current_user_inputs.get('qualitative_competitive_landscape', 'N/A')}\n"
        input_data_prompt_section += f"- Industry Outlook: {current_user_inputs.get('qualitative_industry_outlook', 'N/A')}\n"
        input_data_prompt_section += f"- ESG Factors: {current_user_inputs.get('qualitative_esg_factors', 'N/A')}\n\n"
        input_data_prompt_section += "**Recent News / Press Releases:**\n"
        input_data_prompt_section += f"{current_user_inputs.get('recent_news_summary', 'N/A')}\n\n"
        
        if current_uploaded_text:
             input_data_prompt_section += f"**Additional Context from Uploaded Document ({uploaded_filename}):**\n"
             input_data_prompt_section += f"{current_uploaded_text[:2000]}\n" # Limit length for prompt
        else:
             input_data_prompt_section += f"**Additional Context from Uploaded Document:**\nNot provided.\n"


        current_llm_prompt = PROMPT_TEMPLATE_CORE.replace("{company_name}", current_user_inputs.get('company_name', 'N/A'))
        current_llm_prompt = current_llm_prompt.replace("{company_ticker}", current_user_inputs.get('company_ticker', 'N/A'))
        current_llm_prompt = current_llm_prompt.replace("{company_sector}", current_user_inputs.get('company_sector', 'N/A'))
        current_llm_prompt = current_llm_prompt.replace("{uploaded_document_context}", current_uploaded_text[:2000] if current_uploaded_text else "Not provided.")
        current_llm_prompt = current_llm_prompt.replace("---INPUT_DATA_MARKER---", input_data_prompt_section + "\n---\n")
        current_llm_prompt = current_llm_prompt.replace("{report_structure_guide}", REPORT_STRUCTURE_GUIDE)

        display(HTML("<h2>Generated LLM Prompt:</h2>"))
        display(Markdown(f"<details><summary>Click to view full LLM prompt</summary>\n\n```text\n{current_llm_prompt}\n```\n\n</details>"))

        # 4. Generate Simulated Report
        display(HTML("<h2>Simulated Credit Report (Rule-based):</h2>"))
        current_simulated_report_md = report_simulator.generate_simulated_report(current_user_inputs)
        display(Markdown(current_simulated_report_md))
        sim_report_download_link = create_download_link(current_simulated_report_md, f"{current_user_inputs.get('company_ticker','SIM')}_simulated_report.md", "Download Simulated Report (MD)")
        display(sim_report_download_link)


        # 5. Call LLM and Generate LLM Report
        display(HTML("<h2>LLM-Generated Credit Report:</h2>"))
        api_key = api_key_input.value
        selected_model = llm_model_select.value
        if not api_key:
            display(HTML("<p style='color:red;'>OpenAI API Key not provided. LLM report generation skipped.</p>"))
            current_llm_report_md = "API Key not provided. LLM report not generated."
        elif not OpenAI:
             display(HTML("<p style='color:red;'>OpenAI library not installed. LLM report generation skipped.</p>"))
             current_llm_report_md = "OpenAI library not installed. LLM report not generated."
        else:
            display(HTML(f"<p><i>Calling LLM ({selected_model})... This may take a moment.</i></p>"))
            current_llm_report_md = call_openai_llm(current_llm_prompt, api_key, model=selected_model)
            display(Markdown(current_llm_report_md))
            llm_report_download_link = create_download_link(current_llm_report_md, f"{current_user_inputs.get('company_ticker','LLM')}_{selected_model}_report.md", f"Download LLM Report ({selected_model}) (MD)")
            display(llm_report_download_link)

        # 6. Prepare JSONL output for LLM report
        if current_llm_report_md and "Error" not in current_llm_report_md and "not provided" not in current_llm_report_md :
            llm_report_jsonl_object = {
                "reportId": f"{current_user_inputs.get('company_ticker', 'unknown').lower()}-llm-{selected_model}-{datetime.datetime.now().strftime('%Y%m%d-%H%M%S')}",
                "generationTimestamp": datetime.datetime.now().isoformat(),
                "reportDate": datetime.date.today().isoformat(),
                "companyName": current_user_inputs.get('company_name'),
                "companyTicker": current_user_inputs.get('company_ticker'),
                "companySector": current_user_inputs.get('company_sector'),
                "llmModelUsed": selected_model,
                "fullPrompt": current_llm_prompt, # For reproducibility
                "reportMarkdown": current_llm_report_md,
                "sourceSystem": "InteractiveCreditReportNotebook_v2_LLM"
            }
            jsonl_download_link = create_download_link(json.dumps(llm_report_jsonl_object), f"{current_user_inputs.get('company_ticker','LLM')}_{selected_model}_report.jsonl", f"Download LLM Report ({selected_model}) (JSONL)")
            display(jsonl_download_link)

generate_button.on_click(on_generate_button_clicked)


def on_compare_button_clicked(b):
    global current_llm_report_md, current_user_inputs, current_llm_prompt, current_uploaded_text
    with evaluation_output_area:
        evaluation_output_area.clear_output(wait=True)
        display(HTML("<h4>Processing Comparison and Feedback...</h4>"))

        human_report_text = human_report_input.value
        analyst_feedback_text = feedback_input.value
        scores = {name: w.value for name, w in score_widgets.items()}

        if not current_llm_report_md or "Error" in current_llm_report_md or "not generated" in current_llm_report_md:
            display(HTML("<p style='color:red;'>LLM report not available for comparison. Please generate it first.</p>"))
            return

        # Display Comparison Table (Simplified)
        # A more sophisticated approach would parse Markdown sections from both reports
        comparison_html = "<h3>Report Comparison</h3>"
        comparison_html += "<table border='1' style='width:100%; border-collapse: collapse;'><tr><th>Aspect</th><th>LLM Report Snippet (Sample)</th><th>Human Report Snippet (Sample)</th><th>Score</th></tr>"

        # Example: Executive Summary Comparison
        # This is very basic; parsing Markdown for specific sections is more robust
        llm_exec_summary_sample = current_llm_report_md.split("## 1. Executive Summary")[1].split("## 2.")[0][:300] if "## 1. Executive Summary" in current_llm_report_md else "N/A"
        human_exec_summary_sample = human_report_text.split("## 1. Executive Summary")[1].split("## 2.")[0][:300] if "## 1. Executive Summary" in human_report_text else "N/A"
        comparison_html += f"<tr><td>Executive Summary</td><td><pre>{llm_exec_summary_sample}...</pre></td><td><pre>{human_exec_summary_sample}...</pre></td><td>{scores.get('executive_summary_score','N/A')}/10</td></tr>"
        
        # Add more rows for other sections similarly...
        # For now, just show overall score
        comparison_html += f"<tr><td colspan='3'><b>Overall LLM Report Score</b></td><td><b>{scores.get('overall_llm_score','N/A')}/10</b></td></tr>"
        comparison_html += "</table>"
        display(HTML(comparison_html))

        display(HTML("<h3>Analyst Feedback Provided:</h3>"))
        display(Markdown(f"> {analyst_feedback_text if analyst_feedback_text else 'No feedback provided.'}"))


        # Prepare data for ML training file
        ml_training_data_entry = {
            "record_id": f"feedback-{current_user_inputs.get('company_ticker', 'unknown').lower()}-{datetime.datetime.now().strftime('%Y%m%d-%H%M%S%f')}",
            "timestamp": datetime.datetime.now().isoformat(),
            "user_inputs": current_user_inputs,
            "uploaded_document_text_snippet": current_uploaded_text[:1000] if current_uploaded_text else None, # Store a snippet
            "llm_prompt": current_llm_prompt,
            "llm_model_used": llm_model_select.value,
            "llm_generated_report_markdown": current_llm_report_md,
            "human_written_report_markdown": human_report_text if human_report_text else None,
            "comparison_scores": scores,
            "analyst_qualitative_feedback": analyst_feedback_text if analyst_feedback_text else None
        }

        # Append to a local ML data file (or display download link for single entry)
        ml_data_filename = "credit_analysis_ml_feedback_data.jsonl"
        try:
            with open(ml_data_filename, "a") as f: # Append mode
                f.write(json.dumps(ml_training_data_entry) + "\n")
            display(HTML(f"<p>Feedback and scoring data appended to <code>{ml_data_filename}</code>.</p>"))
            # Provide a link to download the accumulated file
            if os.path.exists(ml_data_filename):
                 ml_file_download_link = FileLink(ml_data_filename, result_html_prefix="Download accumulated ML data: ")
                 display(ml_file_download_link)

        except Exception as e:
            display(HTML(f"<p style='color:red;'>Error saving ML data: {e}</p>"))
            # Fallback to displaying the JSON for the user to copy
            display(HTML("<p>You can copy the ML data entry below:</p>"))
            display(Markdown(f"```json\n{json.dumps(ml_training_data_entry, indent=2)}\n```"))

compare_button.on_click(on_compare_button_clicked)


# --- Display UI ---
display(HTML("<h2>LLM Configuration</h2>"))
#display(api_key_input)
display(llm_model_select)

display(HTML("<h2>Data Inputs</h2>"))
display(HTML("<h3>1. Upload Supporting Document (Optional PDF/TXT)</h3>"))
display(file_upload_widget)
display(uploaded_file_name_display)

display(HTML("<h3>2. Enter Company & Analysis Data</h3>"))
display(all_inputs_vbox)
display(generate_button)
display(output_area)

display(HTML("<hr><h2>Evaluation & Feedback Loop</h2>"))
display(HTML("<p>After generating the LLM report, you can optionally provide a human-written report, score the LLM's output, and give feedback.</p>"))
display(HTML("<h3>1. Paste Human-Written Report (Optional)</h3>"))
display(human_report_input)
display(HTML("<h3>2. Score LLM Report Sections</h3>"))
for score_widget in score_widgets.values():
    display(score_widget)
display(HTML("<h3>3. Provide Qualitative Feedback on LLM Report</h3>"))
display(feedback_input)
display(compare_button)
display(evaluation_output_area)
display(ml_data_output_area) # To show download link for ML data
