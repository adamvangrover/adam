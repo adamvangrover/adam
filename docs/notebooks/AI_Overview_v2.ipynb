# --- Notebook Setup: Imports and Configuration ---
import ipywidgets as widgets
from IPython.display import display, Markdown, HTML
import json
import os
import re
from datetime import datetime, timezone
import pandas as pd # For handling the JSONL data
import random # For more varied simulated content

# --- API Key Configuration (User Input Needed) ---
# The user should set these as environment variables or directly in a secure way.
# For Google Generative AI (Gemini)
# os.environ['GOOGLE_API_KEY'] = "YOUR_GOOGLE_GEMINI_API_KEY"

# --- LLM Client Setup (Conceptual) ---
# import google.generativeai as genai
# API_KEYS_AVAILABLE = False
# if 'GOOGLE_API_KEY' in os.environ:
#     try:
#         genai.configure(api_key=os.environ['GOOGLE_API_KEY'])
#         API_KEYS_AVAILABLE = True
#         print("Google API Key configured.")
#     except Exception as e:
#         print(f"Warning: Error configuring Google API: {e}. Live LLM calls may fail.")
# else:
#     print("Warning: GOOGLE_API_KEY not found. LLM calls will be fully simulated or use fallbacks.")

# For this simulation, we'll assume API_KEYS_AVAILABLE is False to show fallback logic
API_KEYS_AVAILABLE = False # Set to True if you have keys and want to try live calls (not implemented here)


# --- Load Simulated Data from JSONL ---
JSONL_FILE_PATH = 'simulated_sp500_data_v2.jsonl' # Assume this file is in the same directory
# This v2 would be the JSONL file we built that includes GICS, simulated revenue, etc.
SIMULATED_DATA_DF = None
try:
    with open(JSONL_FILE_PATH, 'r') as f:
        lines = f.readlines()
    # Filter out empty lines before parsing
    data = [json.loads(line) for line in lines if line.strip()]
    if data:
        SIMULATED_DATA_DF = pd.DataFrame(data)
        # Ensure 'company_name' exists before setting as index
        if 'company_name' in SIMULATED_DATA_DF.columns:
            SIMULATED_DATA_DF.set_index('company_name', inplace=True)
            print(f"Successfully loaded {len(SIMULATED_DATA_DF)} records from {JSONL_FILE_PATH}")
        else:
            print(f"Warning: 'company_name' column not found in {JSONL_FILE_PATH}. JSONL fallback might fail.")
            SIMULATED_DATA_DF = None # Invalidate DF if structure is wrong
    else:
        print(f"Warning: No data loaded from {JSONL_FILE_PATH}. File might be empty or improperly formatted.")
except FileNotFoundError:
    print(f"Warning: {JSONL_FILE_PATH} not found. Fallback to JSONL will not be available.")
except Exception as e:
    print(f"Warning: Error loading {JSONL_FILE_PATH}: {e}. Fallback to JSONL may not work.")


# --- (Simulated) Helper Functions for API Calls ---
def simulate_search_api_call(query, num_results=3):
    """Simulates a web search API call. Replace with actual API calls."""
    print(f" MOCK SEARCH: Performing live search for: '{query}' (Num results: {num_results})")
    return [
        {"title": f"Hypothetical Article 1 for {query}", "link": "https://example.com/article1", "snippet": f"This article discusses recent developments concerning {query}, highlighting [key point A] and potential impact on [area B]."},
        {"title": f"Hypothetical Report Snippet for {query}", "link": "https://example.com/report1", "snippet": f"Industry analysis suggests that for entities like those related to {query}, [trend C] is becoming significant."},
    ]

def simulate_llm_api_call(prompt_text, company_name, user_inputs, section_key_for_simulation, all_sections_content=None):
    """
    Upgraded simulation of an LLM API call (e.g., Gemini) with more sophisticated,
    narrative-driven output based on user inputs and the specific section.
    `all_sections_content` is used for the Executive Summary simulation.
    """
    current_year = datetime.now().year
    print(f"\n MOCK LLM (Senior Audience Focus): Synthesizing for {company_name} - Section: {section_key_for_simulation}.")

    gics_code = str(user_inputs.get('gics_code', "N/A"))
    gics_sector_name = str(user_inputs.get('gics_sector_name', "N/A"))
    revenue_b = user_inputs.get('revenue', 0.0)
    growth_pct = user_inputs.get('growth', 0.0)
    margin_pct = user_inputs.get('margin', 0.0)
    leverage_ratio = user_inputs.get('leverage', 0.0)
    sp_rating_input = str(user_inputs.get('sp_rating', "Not Provided"))

    # --- Generic Descriptors (can be expanded) ---
    revenue_scale_desc = "a niche player"
    if revenue_b > 200: revenue_scale_desc = "a global mega-cap leader"
    elif revenue_b > 50: revenue_scale_desc = "a very large, established enterprise"
    elif revenue_b > 10: revenue_scale_desc = "a large-cap company"
    elif revenue_b > 2: revenue_scale_desc = "a mid-cap entity"

    growth_desc = "experiencing stagnant growth"
    if growth_pct > 25: growth_desc = "exhibiting hyper-growth"
    elif growth_pct > 10: growth_desc = "demonstrating strong growth"
    elif growth_pct > 3: growth_desc = "showing moderate, sustainable growth"
    elif growth_pct < 0: growth_desc = "facing revenue contraction"

    margin_desc = "operating with thin margins"
    if margin_pct > 35: margin_desc = "boasting exceptional profitability margins"
    elif margin_pct > 20: margin_desc = "maintaining healthy margins"
    elif margin_pct < 10 and margin_pct > 0: margin_desc = "operating with narrow margins"
    elif margin_pct <=0: margin_desc = "currently unprofitable at the EBITDA level"


    leverage_desc = "a very conservative leverage profile"
    leverage_risk_implication = "minimal near-term solvency risk from debt."
    if leverage_ratio > 4.5:
        leverage_desc = "a highly leveraged balance sheet"
        leverage_risk_implication = "significant financial risk, particularly if earnings decline or interest rates rise."
    elif leverage_ratio > 2.5:
        leverage_desc = "an elevated leverage position"
        leverage_risk_implication = "moderate financial risk, requiring diligent cash flow management to service debt."

    simulated_response = f"**AI-Generated Annex for {company_name}**\n"
    simulated_response += f"*Report Date: {datetime.now(timezone.utc).strftime('%B %d, %Y %H:%M %Z')}. Based on user-provided inputs: GICS Sector {gics_sector_name} ({gics_code}), Revenue ${revenue_b}B (YoY Growth: {growth_pct}%), EBITDA Margin {margin_pct}%, Leverage (Debt/EBITDA) {leverage_ratio}x, S&P Rating: {sp_rating_input}.*\n\n"

    # --- Section-Specific Narrative Generation ---
    if section_key_for_simulation == "executive_summary":
        # This section synthesizes other (simulated) sections.
        # For this simulation, we'll create a plausible summary based on inputs.
        simulated_risk_level = "Medium"
        if leverage_ratio > 4 or growth_pct < 0 or margin_pct < 5:
            simulated_risk_level = "High"
        elif leverage_ratio < 1.5 and growth_pct > 5 and margin_pct > 15:
            simulated_risk_level = "Low"

        simulated_response += f"**Simulated Overall Risk Indicator:** {simulated_risk_level}\n\n"
        simulated_response += "**Key Highlights & Strategic Considerations (Simulated as of Early {current_year}):**\n"
        simulated_response += f"- **Market Position & Growth:** {company_name} ({revenue_scale_desc}) is {growth_desc}. This trajectory, if sustained, could [positive implication like market share gain / or negative if declining, like pressure to restructure].\n"
        simulated_response += f"- **Profitability & Efficiency:** The company operates with {margin_desc} ({margin_pct}% EBITDA). This level of profitability [implication, e.g., 'provides substantial capacity for reinvestment and shareholder returns' or 'may limit flexibility if unexpected costs arise'].\n"
        simulated_response += f"- **Financial Leverage & Risk:** With {leverage_desc} ({leverage_ratio}x Debt/EBITDA), {company_name} faces {leverage_risk_implication} This is [consistent/inconsistent] with its '{sp_rating_input}' rating.\n"
        simulated_response += f"- **Key Sector Dynamics:** Operating in {gics_sector_name}, {company_name} is exposed to [1-2 key simulated sector trends/risks, e.g., 'rapid technological advancements and intense M&A activity' or 'commodity price volatility and regulatory shifts towards sustainability'].\n"
        simulated_response += f"- **Primary Red Flag (Simulated):** A hypothetical key concern from recent news could be [simulated major concern, e.g., 'a pending regulatory investigation related to its market practices' or 'recent executive turnover in a critical division']. The implication is [potential impact].\n"
        simulated_response += "*This summary is a high-level interpretation. Detailed sections follow.*"

    elif section_key_for_simulation == "negative_news_and_red_flags":
        neg_news_risk = "Low"
        if leverage_ratio > 3.5 or "Controversy" in company_name.lower(): # Simple heuristic
            neg_news_risk = "Medium"

        simulated_response += f"**Simulated Negative News Risk Indicator:** {neg_news_risk}\n\n"
        simulated_response += f"Recent simulated intelligence scans (Early {current_year}) for {company_name} suggest the following potential areas of concern, warranting further due diligence:\n"
        simulated_response += f"- **Regulatory/Legal Landscape (Hypothetical):** Given its operations in the {gics_sector_name} sector, there's a hypothetical mention in specialized news of [e.g., 'increased scrutiny over data privacy compliance' or 'a pending industry-wide inquiry into competitive practices']. *Implication: Potential for increased compliance costs or fines if adverse findings emerge.*\n"
        simulated_response += f"- **Operational Challenges (Simulated):** Some simulated reports hint at [e.g., 'minor disruptions in its global supply chain affecting component X' or 'customer service complaints related to new product Y launch']. *Implication: Could impact near-term revenues or customer satisfaction if not managed effectively.*\n"
        if leverage_ratio > 3.0:
            simulated_response += f"- **Financial Market Commentary (Inferred):** With leverage at {leverage_ratio}x, some financial blogs (simulated) might be discussing {company_name}'s 'sensitivity to interest rate hikes or refinancing risk for its upcoming debt maturities.' *Implication: Potential impact on cost of capital or credit availability.*\n"
        simulated_response += f"- **Competitive Actions (Simulated):** A key competitor, [Simulated Competitor Name], reportedly launched [a new initiative/product] that could challenge {company_name}'s market share in [specific sub-segment]. *Implication: May require strategic response, potentially impacting margins or R&D spend.*\n"
        simulated_response += "**Senior Management Action Point:** Verify the substance of these simulated flags, particularly concerning [most critical simulated point], and assess contingency plans."
        simulated_response += "\n*(Source: Simulated Live Search Synthesis & LLM Inference based on company profile)*"

    elif section_key_for_simulation == "company_overview":
        simulated_response += (
            f"{company_name} is identified as {revenue_scale_desc} within the dynamic {gics_sector_name} sector (GICS: {gics_code}). Its current financial posture includes revenues of approximately ${revenue_b} billion, {growth_desc} at {growth_pct}% YoY, and {margin_desc} ({margin_pct}% EBITDA).\n"
            f"- **Core Business & Market Niche:** The company's primary activities revolve around [e.g., 'providing cutting-edge cloud infrastructure services to global enterprises,' or 'manufacturing and distributing specialized chemical products for industrial applications,' or 'operating a large portfolio of consumer-facing retail outlets']. It likely holds a [e.g., 'commanding,' 'significant,' or 'developing'] market share in its core segments.\n"
            f"- **Operational Footprint & Structure (Typical):** Operations are likely [e.g., 'globally distributed with key R&D centers in tech hubs and manufacturing in cost-efficient regions,' or 'concentrated in North America with a strong regional focus']. Ownership is typically [e.g., 'publicly traded on a major exchange, subject to shareholder oversight,' or 'a key operating subsidiary of a larger listed entity'].\n"
            f"- **Strategic Positioning & Outlook (Inferred):** {company_name} appears to be strategically focused on [e.g., 'leveraging its AI capabilities to expand its service offerings,' or 'optimizing its supply chain to improve its {margin_desc},' or 'pursuing M&A to accelerate its {growth_desc} in new verticals']. The outlook is [e.g., 'promising, contingent on successful execution of these strategies and navigating sector-specific headwinds,' or 'stable, but with limited upside without significant innovation or market expansion'].\n"
            f"*(Source: Simulated Live Search Synthesis & LLM Inference based on company profile)*"
        )

    elif section_key_for_simulation == "basic_credit_profile":
        credit_risk_indicator = "Stable"
        if sp_rating_input.startswith("BBB") or leverage_ratio > 3.0: credit_risk_indicator = "Moderate Concern"
        if "BB" in sp_rating_input or "B" in sp_rating_input or leverage_ratio > 4.5: credit_risk_indicator = "Elevated Concern"
        if "AAA" in sp_rating_input or "AA" in sp_rating_input and leverage_ratio < 1.5: credit_risk_indicator = "Very Strong"

        simulated_response += f"**Simulated Credit Condition Indicator:** {credit_risk_indicator}\n\n"
        simulated_response += (
            f"The credit profile for {company_name} is assessed based on its provided S&P Rating of '{sp_rating_input}', revenue of ${revenue_b}B, YoY growth at {growth_pct}%, EBITDA margin at {margin_pct}%, and Debt/EBITDA leverage of {leverage_ratio}x, within the context of the {gics_sector_name} sector.\n\n"
            f"- **Overall Credit Narrative:** The company's '{sp_rating_input}' rating appears [e.g., 'well-supported by its {margin_desc} and relatively {leverage_desc}' or 'somewhat optimistic given its {leverage_desc} unless offset by exceptionally stable cash flows typical of its specific GICS sub-industry']. The current {growth_desc} is a key factor; its sustainability is critical for [e.g., 'deleveraging and maintaining rating stability' or 'justifying its current market valuation'].\n\n"
            f"- **Key Financial Strengths (Derived from Inputs):\n**"
            f"  1. **Scale & Market Position:** Revenue of ${revenue_b}B suggests a [significant/leading/niche] player, providing a degree of [resilience/market power].\n"
            f"  2. **Profitability Profile:** {margin_desc} ({margin_pct}%) indicates [strong/adequate/challenged] ability to convert revenues to cash flow, crucial for debt service and investment.\n"
            f"  3. **Growth Momentum (if positive):** {growth_desc} at {growth_pct}% (if >0) provides a pathway to [e.g., 'enhance credit metrics over time and absorb potential shocks' else 'lack of growth is a concern for deleveraging'].\n\n"
            f"- **Key Credit Concerns & Risks (Derived from Inputs):\n**"
            f"  1. **Leverage Burden:** The {leverage_ratio}x Debt/EBITDA ({leverage_desc}) is a primary consideration. This implies [e.g., 'a comfortable cushion against earnings volatility' or 'limited capacity to absorb unexpected downturns without impacting credit quality.'].\n"
            f"  2. **Industry Cyclicality/Headwinds:** The {gics_sector_name} sector is known for [e.g., 'high capital intensity and long investment cycles' or 'sensitivity to consumer sentiment and discretionary spending'], posing inherent risks.\n"
            f"  3. **Margin Sustainability:** Maintaining {margin_pct}% EBITDA margins could be challenged by [e.g., 'rising input costs, competitive pricing, or the need for increased R&D investment to stay competitive'].\n\n"
            f"- **Capital Structure & Liquidity Insights (Inferred):\n"
            f"  The current leverage suggests a capital structure that is [e.g., 'likely reliant on a mix of bank debt and bonds, typical for its rating' or 'potentially strained if near-term maturities are significant']. Liquidity appears [e.g., 'robust, assuming typical cash conversion cycles for this industry and margin level' or 'an area for closer examination given the debt load and potential capex needs']. *Specifics require balance sheet review.*\n\n"
            f"- **Outlook & Peer Context (General):** Assuming {company_name} navigates the [key sector challenge previously mentioned], its ability to maintain its '{sp_rating_input}' rating will hinge on [e.g., 'consistent FCF generation to manage its debt and fund growth initiatives.']. Compared to hypothetical peers with similar GICS codes, its {leverage_ratio}x leverage might be [above/below/in line with] the sector average, influencing its relative credit risk perception.\n"
            f"**Senior Management Strategic Focus:** Key for management would be to [e.g., 'prioritize deleveraging if leverage is high,' 'secure sustainable growth to support its financial profile,' or 'defend margins amidst competitive/cost pressures']."
        )
        simulated_response += "\n*(This credit profile is an AI-driven interpretation of user-provided metrics and general industry knowledge. Source: User Inputs + Simulated Live Search Synthesis / LLM Inference)*"
    else:
        simulated_response += "Diagnostic information: Prompt did not match expected section keys for enhanced simulation."

    simulated_response += f"\n\n--- End of Section ---\n*(Disclaimer: This AI-generated overview incorporates user-provided financial data. Qualitative analysis and risk indicators are SIMULATED based on this data, general industry knowledge, and hypothetical web searches. All interpretations should be independently verified and do not constitute financial advice.)*"
    return simulated_response

# --- Main Report Orchestration and UI ---
# (The `REPORT_SECTIONS_CONFIG` would be defined here as in the previous iteration)
REPORT_SECTIONS_CONFIG = { # Keep keys simple for easier matching in simulation
    "executive_summary": { # New section
        "display_title": "🎯 Overall Executive Summary & Key Considerations",
        "search_queries_templates": [], # This section synthesizes others
        "llm_prompt_template": ( # Prompt for synthesizing other sections
             "You are an AI Chief Risk Officer. Based on the detailed section summaries provided below for [Company Name] (GICS: [GICS Code], Revenue: $[Revenue]B, Growth: [Growth]%, Margin: [Margin]%, Leverage: [Leverage]x, S&P Rating: [S&P Rating]), "
             "generate a concise Executive Summary (3-5 key bullet points) highlighting the most critical positive highlights, key concerns/risks, and a simulated overall risk indicator (Low, Medium, High). Focus on implications for senior management."
             "\n\n--- BEGIN NEGATIVE NEWS SUMMARY ---\n[Negative News Content]\n--- END NEGATIVE NEWS SUMMARY ---"
             "\n\n--- BEGIN COMPANY OVERVIEW SUMMARY ---\n[Company Overview Content]\n--- END COMPANY OVERVIEW SUMMARY ---"
             "\n\n--- BEGIN BASIC CREDIT PROFILE SUMMARY ---\n[Basic Credit Profile Content]\n--- END BASIC CREDIT PROFILE SUMMARY ---"
        )
    },
    "negative_news_and_red_flags": {
        "display_title": "🚩 Negative News & Red Flags",
        "search_queries_templates": [
            "[Company Name] negative news recent investigations [GICS Sector Name]",
            "[Company Name] lawsuits controversies OR litigation",
            "[Company Name] reputational risk OR ESG concerns [GICS Sector Name]",
        ],
        "llm_prompt_template": (
            "You are an AI risk analyst. For [Company Name] (GICS: [GICS Code], Revenue: $[Revenue]B, Growth: [Growth]%, Margin: [Margin]%, Leverage: [Leverage]x Debt/EBITDA, S&P Rating: [S&P Rating]):\n"
            "Based on the provided web search context (if any) AND the company's profile, identify and summarize key negative news, red flags, reputational risks, or areas needing further diligence. "
            "Focus on the 'So What?' factor - what are the potential implications for the business or its stakeholders? Clearly state if relying on general knowledge due to lack of specific search results. Provide a simulated negative news risk indicator (Low, Medium, High)."
            "\n\n--- BEGIN WEB SEARCH CONTEXT ---\n[Web Search Results Snippets]\n--- END WEB SEARCH CONTEXT ---"
        )
    },
    "company_overview": {
        "display_title": "🏢 Company Overview",
        "search_queries_templates": [
            "[Company Name] official site about operations strategy",
            "[Company Name] business model [GICS Sector Name]",
            "[Company Name] market position competitive landscape",
        ],
        "llm_prompt_template": (
            "You are an AI business analyst. For [Company Name] (GICS: [GICS Code], Revenue: $[Revenue]B, Growth: [Growth]%, Margin: [Margin]%, Leverage: [Leverage]x Debt/EBITDA, S&P Rating: [S&P Rating]):\n"
            "Provide a concise overview covering: its core business model, primary operations and geographic footprint (if known from search), key products/services, and general market positioning and strategic imperatives. "
            "Incorporate information from web searches (if any) and typical characteristics for a firm with the provided GICS code and financial scale. "
            "Clearly state if relying on general knowledge due to lack of specific search results."
            "\n\n--- BEGIN WEB SEARCH CONTEXT ---\n[Web Search Results Snippets]\n--- END WEB SEARCH CONTEXT ---"
        )
    },
    "basic_credit_profile": {
        "display_title": "💳 Basic Credit Profile",
        "search_queries_templates": [
            "[Company Name] credit analysis financial health [GICS Sector Name]",
            "[Company Name] S&P Moody's Fitch rating commentary",
            "[Company Name] debt capital structure liquidity profile news",
            "[Company Name] industry trends outlook [GICS Sector Name]",
        ],
        "llm_prompt_template": (
            "You are an AI credit analyst. For [Company Name] (GICS: [GICS Code], Revenue: $[Revenue]B, YoY Growth: [Growth]%, EBITDA Margin: [Margin]%, Leverage: [Leverage]x Debt/EBITDA, S&P Rating: [S&P Rating]):\n"
            "Generate a 'Basic Credit Profile'. Directly use the provided financial metrics and S&P rating as factual inputs. Synthesize other qualitative aspects based on web searches (if any) and typical characteristics for such a firm. Provide a simulated credit condition indicator (e.g. Very Strong, Stable, Moderate Concern, Elevated Concern). For each point, emphasize implications. Address:\n"
            "- **Overall Credit Condition Sentiment & Simulated Indicator:** \n"
            "- **Key Financial Strengths (up to 3 with implications):** \n"
            "- **Key Credit Concerns & Risks (up to 3 with implications):** \n"
            "- **Corporate Credit Rating Commentary:** (Comment on consistency of provided '{S&P Rating}' with other metrics).\n"
            "- **Capital Structure & Liquidity Insights (with implications):** \n"
            "- **Market & Industry Outlook (with implications for the company):** \n"
            "- **Peer Context (General, if available from search, how does it compare?):** \n"
            "Clearly state when an insight is primarily inferred from the provided metrics/GICS versus specific search results."
            "\n\n--- BEGIN WEB SEARCH CONTEXT ---\n[Web Search Results Snippets]\n--- END WEB SEARCH CONTEXT ---"
        )
    }
}


# UI Elements (same as before)
company_input = widgets.Text(value='Apple Inc.', placeholder='Enter Company Name', description='Company:', layout=widgets.Layout(width='90%'))
gics_code_input = widgets.Text(value='452020', placeholder='e.g., 452020 (Tech Hardware)', description='GICS Code (e.g., 8-digit):', layout=widgets.Layout(width='90%'))
gics_sector_name_input = widgets.Text(value='Technology Hardware, Storage & Peripherals', placeholder='e.g., Technology Hardware', description='GICS Sector/Industry Name:', layout=widgets.Layout(width='90%')) # Helps LLM if code not easily parsed
revenue_input = widgets.FloatText(value=385.1, description='Revenue (Annual, B USD):', layout=widgets.Layout(width='90%'))
growth_input = widgets.FloatText(value=2.8, description='YoY Revenue Growth (%):', layout=widgets.Layout(width='90%'))
margin_input = widgets.FloatText(value=30.5, description='EBITDA Margin (%):', layout=widgets.Layout(width='90%'))
leverage_input = widgets.FloatText(value=0.8, description='Leverage (Net Debt/EBITDA x):', layout=widgets.Layout(width='90%'))
sp_rating_input = widgets.Text(value='AA+', placeholder='e.g., AA+, BBB', description='S&P Rating (if known):', layout=widgets.Layout(width='90%'))
use_live_apis_checkbox = widgets.Checkbox(value=False, description='Attempt Live API Calls (Requires User-Configured API Keys & Internet)', indent=False, layout=widgets.Layout(width='90%'))
generate_button = widgets.Button(description='Generate AI Overview Annex', button_style='success', icon='cogs', layout=widgets.Layout(width='300px'))
output_area = widgets.Output()


def get_section_content_from_jsonl(company_name, section_json_key_from_config):
    """Helper to extract specific section from JSONL if report is a dict."""
    if SIMULATED_DATA_DF is not None and company_name in SIMULATED_DATA_DF.index:
        company_data_jsonl = SIMULATED_DATA_DF.loc[company_name]
        report_data = company_data_jsonl.get('report')
        if isinstance(report_data, dict):
            return report_data.get(section_json_key_from_config, f"Section '{section_json_key_from_config}' not found in JSONL report dict for {company_name}.")
        elif isinstance(report_data, str): # If the whole report is one string
             return f"JSONL report for {company_name} is a single string; section-specific extraction not directly possible. Full string: {report_data[:200]}..."
    return f"No data for section '{section_json_key_from_config}' for {company_name} in JSONL."


def generate_report_section_orchestrator(company_name, user_inputs, section_key_for_sim, config, use_live_apis, generated_sections_content_for_summary=None):
    """Orchestrates fetching/generating for a single section with refined fallback & context."""

    prompt_replacements = {
        "[Company Name]": company_name,
        "[GICS Code]": str(user_inputs.get('gics_code', "N/A")),
        "[GICS Sector Name]": str(user_inputs.get('gics_sector_name', "N/A")),
        "[Revenue]": str(user_inputs.get('revenue', "N/A")),
        "[Growth]": str(user_inputs.get('growth', "N/A")),
        "[Margin]": str(user_inputs.get('margin', "N/A")),
        "[Leverage]": str(user_inputs.get('leverage', "N/A")),
        "[S&P Rating]": str(user_inputs.get('sp_rating', "N/A"))
    }

    # Add content from other sections if generating executive summary
    if section_key_for_sim == "executive_summary" and generated_sections_content_for_summary:
        prompt_replacements["[Negative News Content]"] = generated_sections_content_for_summary.get("negative_news_and_red_flags","N/A")
        prompt_replacements["[Company Overview Content]"] = generated_sections_content_for_summary.get("company_overview","N/A")
        prompt_replacements["[Basic Credit Profile Content]"] = generated_sections_content_for_summary.get("basic_credit_profile","N/A")

    if use_live_apis and API_KEYS_AVAILABLE:
        print(f"Attempting LIVE API fetch for {company_name} - {config['display_title']}")
        search_context_snippets = ""
        if config["search_queries_templates"]: # Exec summary might not have searches
            for query_template in config["search_queries_templates"]:
                query = query_template
                for key, val in prompt_replacements.items(): query = query.replace(key, val)
                # search_results = Google Search(queries=[query]) # ACTUAL LIVE CALL
                search_results = simulate_search_api_call(query) # Fallback simulation
                if search_results: # Process results
                    for res in search_results:
                        search_context_snippets += f"Title: {res.get('title', 'N/A')}\nSnippet: {res.get('snippet', 'N/A')}\n\n"
                else:
                    search_context_snippets += f"No specific live search results found for query: '{query}'.\n"
        else:
             search_context_snippets = "This section is a synthesis of other generated report sections."


        llm_prompt = config["llm_prompt_template"].replace("[Web Search Results Snippets]", search_context_snippets)
        for key, val in prompt_replacements.items(): llm_prompt = llm_prompt.replace(key, val)

        # ACTUAL LLM CALL
        # llm_response = genai.GenerativeModel('gemini-1.5-flash-latest').generate_content(llm_prompt).text
        llm_response = simulate_llm_api_call(llm_prompt, company_name, user_inputs, section_key_for_sim, generated_sections_content_for_summary) # Mock call
        return f"*(Source: Live Web Search & LLM Synthesis)*\n{llm_response}"

    # Fallback to JSONL or Pure Simulation
    # For JSONL, need to map `section_key_for_sim` to how it's stored in the JSONL file (if structure differs)
    # The JSONL file created earlier has keys like "negative_news_and_red_flags"
    jsonl_report_section_key = section_key_for_sim # Assuming keys match

    if SIMULATED_DATA_DF is not None and company_name in SIMULATED_DATA_DF.index and section_key_for_sim != "executive_summary":
        # Executive summary is always generated dynamically based on other sections for this logic
        print(f"Falling back to JSONL data for {company_name} - {config['display_title']}")
        retrieved_content = get_section_content_from_jsonl(company_name, jsonl_report_section_key)
        # Optional: Re-process with LLM using JSONL content as context + new user inputs
        # For simplicity, directly returning, but a more advanced step could call simulate_llm_api_call
        # with this content as the "web search results" to tailor it to new inputs.
        return f"*(Source: Loaded from JSONL: {JSONL_FILE_PATH})*\n{retrieved_content}"

    # Pure LLM Simulation (if no live, not in JSONL, or for Exec Summary always)
    print(f"Using PURE LLM SIMULATION for {company_name} - {config['display_title']}")
    llm_prompt = config["llm_prompt_template"].replace("[Web Search Results Snippets]", "No specific web search results were used for this section; relying on user-provided metrics and general industry knowledge.")
    for key, val in prompt_replacements.items(): llm_prompt = llm_prompt.replace(key, val)

    llm_response = simulate_llm_api_call(llm_prompt, company_name, user_inputs, section_key_for_sim, generated_sections_content_for_summary)
    return f"*(Source: LLM-Generated Simulation based on user inputs and general knowledge)*\n{llm_response}"


# --- Button Click Handler (Orchestrator) ---
def on_generate_clicked(b):
    with output_area:
        output_area.clear_output(wait=True)

        company_name = company_input.value
        user_inputs = {
            "gics_code": gics_code_input.value,
            "gics_sector_name": gics_sector_name_input.value,
            "revenue": revenue_input.value,
            "growth": growth_input.value,
            "margin": margin_input.value,
            "leverage": leverage_input.value,
            "sp_rating": sp_rating_input.value
        }
        use_live_apis_flag = use_live_apis_checkbox.value

        if not company_name:
            display(Markdown("### Please enter a company name."))
            return

        main_disclaimer = f"*(Disclaimer: This AI Overview Annex is generated for illustrative purposes. All information, especially AI-synthesized interpretations, financial metrics not directly provided by user, and simulated content, should be independently verified and cross-referenced with primary sources. This does not constitute financial advice. Report generated on {datetime.now(timezone.utc).strftime('%B %d, %Y %H:%M %Z')}.)*"
        display(Markdown(main_disclaimer))
        display(Markdown(f"# AI Overview Annex: {company_name}"))
        display(Markdown(f"*Input Metrics: GICS `{user_inputs['gics_code']}` ({user_inputs['gics_sector_name']}), Revenue `${user_inputs['revenue']}B`, Growth `{user_inputs['growth']}%`, Margin `{user_inputs['margin']}%`, Leverage `{user_inputs['leverage']}x`, S&P Rating `{user_inputs['sp_rating']}`*"))
        display(Markdown(f"*Data Sourcing Mode: {'Live API Calls Attempted' if use_live_apis_flag and API_KEYS_AVAILABLE else 'Fallback to Simulated/JSONL Data'}*"))
        display(Markdown("---"))

        generated_sections_content = {} # To store content of main sections for exec summary

        # Generate main sections first
        main_section_order = ["negative_news_and_red_flags", "company_overview", "basic_credit_profile"]
        for section_key in main_section_order:
            config = REPORT_SECTIONS_CONFIG[section_key]
            display(Markdown(f"## {config['display_title']}"))
            section_content = generate_report_section_orchestrator(company_name, user_inputs, section_key, config, use_live_apis_flag)
            display(Markdown(section_content))
            generated_sections_content[section_key] = section_content # Store the raw generated string
            display(HTML("<hr style='border: 1px solid #ccc;'>"))

        # Now generate Executive Summary using the content of other sections
        exec_summary_config = REPORT_SECTIONS_CONFIG["executive_summary"]
        display(Markdown(f"## {exec_summary_config['display_title']}"))
        # Pass the already generated content for synthesis
        summary_content = generate_report_section_orchestrator(company_name, user_inputs, "executive_summary", exec_summary_config, use_live_apis_flag, generated_sections_content)
        display(Markdown(summary_content))
        display(HTML("<hr style='border: 1px solid #ccc;'>"))

generate_button.on_click(on_generate_clicked)

# --- Display UI ---
input_widgets = widgets.VBox([
    company_input, gics_code_input, gics_sector_name_input, revenue_input, growth_input,
    margin_input, leverage_input, sp_rating_input,
    use_live_apis_checkbox, generate_button
])
display(Markdown("### Company Profile Input & AI Overview Generation"), input_widgets, output_area)
