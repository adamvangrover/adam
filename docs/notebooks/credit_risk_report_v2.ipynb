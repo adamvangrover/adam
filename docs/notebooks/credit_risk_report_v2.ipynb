{
 "cells": [
  {
   "cell_type": "markdown",
   "metadata": {},
   "source": [
    "# Credit Risk Rating Report\n",
    "This Jupyter Notebook performs a credit risk analysis for a company using financial data provided by the user. The analysis includes calculations of key financial ratios, a Discounted Cash Flow (DCF) valuation, credit risk assessment, and a detailed report with visualizations.\n",
    "\n",
    "## Steps:\n",
    "1. Input financial data.\n",
    "2. Validate and process the data.\n",
    "3. Perform financial ratio analysis.\n",
    "4. Perform DCF valuation.\n",
    "5. Assess credit risk.\n",
    "6. Generate a report with a detailed analysis and visualizations."
   ]
  },
  {
   "cell_type": "code",
   "execution_count": 1,
   "metadata": {},
   "outputs": [],
   "source": [
    "# Import necessary libraries\n",
    "import pandas as pd\n",
    "import numpy as np\n",
    "import matplotlib.pyplot as plt\n",
    "import logging\n",
    "from datetime import datetime\n",
    "\n",
    "# Initialize logging\n",
    "logging.basicConfig(level=logging.INFO, format='%(asctime)s - %(levelname)s - %(message)s')\n",
    "logger = logging.getLogger(__name__)\n",
    "\n",
    "# Create a simple error handler\n",
    "class ErrorHandler:\n",
    "    @staticmethod\n",
    "    def handle_error(code, message):\n",
    "        logger.error(f'Error {code}: {message}')\n",
    "        raise Exception(message)\n"
   ]
  },
  {
   "cell_type": "markdown",
   "metadata": {},
   "source": [
    "## 1. Input Financial Data\n",
    "Please provide the financial data for your company. The data required includes values like revenue, cost of sales, operating expenses, total assets, liabilities, debt, and interest expenses. You can enter the values in the form of a dictionary."
   ]
  },
  {
   "cell_type": "code",
   "execution_count": 2,
   "metadata": {},
   "outputs": [],
   "source": [
    "# Collect user input for financial data\n",
    "def get_financial_data():\n",
    "    # Simulate user input\n",
    "    financial_data = {\n",
    "        'Year': [int(input('Enter first year (e.g., 2024): ')), int(input('Enter second year (e.g., 2023): '))],\n",
    "        'Revenue': [float(input('Enter revenue for year 1: ')), float(input('Enter revenue for year 2: '))],\n",
    "        'Cost of Sales': [float(input('Enter cost of sales for year 1: ')), float(input('Enter cost of sales for year 2: '))],\n",
    "        'Operating Expenses': [float(input('Enter operating expenses for year 1: ')), float(input('Enter operating expenses for year 2: '))],\n",
    "        'Total Assets': [float(input('Enter total assets for year 1: ')), float(input('Enter total assets for year 2: '))],\n",
    "        'Total Liabilities': [float(input('Enter total liabilities for year 1: ')), float(input('Enter total liabilities for year 2: '))],\n",
    "        'Cash': [float(input('Enter cash for year 1: ')), float(input('Enter cash for year 2: '))],\n",
    "        'Short-term Debt': [float(input('Enter short-term debt for year 1: ')), float(input('Enter short-term debt for year 2: '))],\n",
    "        'Long-term Debt': [float(input('Enter long-term debt for year 1: ')), float(input('Enter long-term debt for year 2: '))],\n",
    "        'Interest Expense': [float(input('Enter interest expense for year 1: ')), float(input('Enter interest expense for year 2: '))],\n",
    "    }\n",
    "    return pd.DataFrame(financial_data)\n",
    "\n",
    "# Get the financial data from the user\n",
    "financial_data = get_financial_data()\n",
    "logger.info('Financial data loaded.')\n",
    "financial_data"
   ]
  },
  {
   "cell_type": "markdown",
   "metadata": {},
   "source": [
    "## 2. Validate and Process Data\n",
    "After collecting the financial data, we need to validate it and ensure that all entries are positive numbers. If any invalid data is encountered, we will handle it gracefully."
   ]
  },
  {
   "cell_type": "code",
   "execution_count": 3,
   "metadata": {},
   "outputs": [],
   "source": [
    "# Validate the financial data\n",
    "def validate_financial_data(financial_data):\n",
    "    try:\n",
    "        for col in financial_data.columns:\n",
    "            if pd.api.types.is_numeric_dtype(financial_data[col]):\n",
    "                assert (financial_data[col] >= 0).all(), f'{col} contains negative values'\n",
    "        logger.info('Financial data validated successfully.')\n",
    "    except Exception as e:\n",
    "        ErrorHandler.handle_error(101, f'Data validation failed: {e}')\n",
    "\n",
    "# Validate the user-provided data\n",
    "validate_financial_data(financial_data)"
   ]
  },
  {
   "cell_type": "markdown",
   "metadata": {},
   "source": [
    "## 3. Perform Financial Ratio Analysis\n",
    "Next, we will calculate key financial ratios including profit margin, debt-to-equity ratio, and interest coverage ratio."
   ]
  },
  {
   "cell_type": "code",
   "execution_count": 4,
   "metadata": {},
   "outputs": [],
   "source": [
    "# Performing financial analysis\n",
    "financial_metrics = pd.DataFrame({\n",
    "    'Year': financial_data['Year'],\n",
    "    'Profit Margin': (financial_data['Revenue'] - financial_data['Cost of Sales'] - financial_data['Operating Expenses']) / financial_data['Revenue'],\n",
    "    'Debt-to-Equity': financial_data['Long-term Debt'] / (financial_data['Total Assets'] - financial_data['Total Liabilities']),\n",
    "    'Current Ratio': financial_data['Cash'] / financial_data['Short-term Debt'],\n",
    "    'Interest Coverage': (financial_data['Revenue'] - financial_data['Cost of Sales'] - financial_data['Operating Expenses']) / financial_data['Interest Expense'],\n",
    "    'Leverage Ratio': financial_data['Total Assets'] / (financial_data['Total Assets'] - financial_data['Total Liabilities'])\n",
    "})\n",
    "logger.info('Financial metrics calculated.')\n",
    "financial_metrics"
   ]
  },
  {
   "cell_type": "markdown",
   "metadata": {},
   "source": [
    "## 4. Discounted Cash Flow (DCF) Valuation\n",
    "We will now calculate the Discounted Cash Flow (DCF) for the company as a proxy for its valuation. This is a simplified version for demonstration purposes."
   ]
  },
  {
   "cell_type": "code",
   "execution_count": 5,
   "metadata": {},
   "outputs": [],
   "source": [
    "# Simple DCF calculation (for demonstration purposes)\n",
    "discount_rate = 0.1  # 10% discount rate\n",
    "cash_flows = [15000, 16000, 17000, 18000, 19000]  # Sample future cash flows for 5 years\n",
    "\n",
    "# Calculate DCF\n",
    "dcf_value = sum([cf / (1 + discount_rate) ** (i+1) for i, cf in enumerate(cash_flows)])\n",
    "logger.info(f'DCF valuation calculated: {dcf_value:.2f}')\n",
    "dcf_value"
   ]
  },
  {
   "cell_type": "markdown",
   "metadata": {},
   "source": [
    "## 5. Credit Risk Assessment\n",
    "We will now assess the credit risk based on key financial metrics like the Debt-to-Equity ratio. The rating will align with the S&P corporate credit rating scale:\n",
    "- AAA to BBB (Investment Grade)\n",
    "- BB to B (High Yield / Speculative)\n",
    "- CCC to C (Distressed)\n",
    "- D (Default)\n"
   ]
  },
  {
   "cell_type": "code",
   "execution_count": 6,
   "metadata": {},
   "outputs": [],
   "source": [
    "# Credit Risk Assessment using S&P Rating Scale\n",
    "def assess_credit_risk(debt_to_equity_ratio, interest_coverage):\n",
    "    if debt_to_equity_ratio < 1 and interest_coverage > 5:\n",
    "        return 'AAA'\n",
    "    elif debt_to_equity_ratio < 1.5 and interest_coverage > 3:\n",
    "        return 'AA'\n",
    "    elif debt_to_equity_ratio < 2 and interest_coverage > 2:\n",
    "        return 'A'\n",
    "    elif debt_to_equity_ratio < 3 and interest_coverage > 1:\n",
    "        return 'BBB'\n",
    "    elif debt_to_equity_ratio < 4 and interest_coverage > 0.5:\n",
    "        return 'BB'\n",
    "    elif debt_to_equity_ratio < 5 and interest_coverage > 0.2:\n",
    "        return 'B'\n",
    "    elif debt_to_equity_ratio < 6 and interest_coverage > 0.1:\n",
    "        return 'CCC'\n",
    "    elif debt_to_equity_ratio >= 6 or interest_coverage <= 0.1:\n",
    "        return 'C'\n",
    "    else:\n",
    "        return 'D'\n",
    "\n",
    "# Apply credit risk assessment\n",
    "financial_metrics['Credit Risk Rating'] = financial_metrics.apply(lambda x: assess_credit_risk(x['Debt-to-Equity'], x['Interest Coverage']), axis=1)\n",
    "logger.info('Credit risk rating assigned for each year.')\n",
    "financial_metrics[['Year', 'Debt-to-Equity', 'Interest Coverage', 'Credit Risk Rating']]"
   ]
  },
  {
   "cell_type": "markdown",
   "metadata": {},
   "source": [
    "## 6. Generate Report\n",
    "Now, we will generate the credit risk report, including key financial highlights, DCF valuation, credit risk assessment, and any visualizations."
   ]
  },
  {
   "cell_type": "code",
   "execution_count": 7,
   "metadata": {},
   "outputs": [],
   "source": [
    "# Generating the credit risk report\n",
    "report = f\"\"\"\n",
    "# Credit Risk Analysis Report\n",
    "\n",
    "## I. Company Overview\n",
    "* Company Name: Example Corp\n",
    "* Analysis Period: {financial_metrics['Year'][0]} - {financial_metrics['Year'][1]}\n",
    "\n",
    "## II. Financial Highlights\n",
    "### A. Key Financial Metrics\n",
    "{financial_metrics.to_markdown(index=False)}\n",
    "\n",
    "### B. Valuation Summary\n",
    "* DCF Value: {dcf_value:.2f}\n",
    "\n",
    "## III. Credit Risk Assessment\n",
    "* Credit Risk Rating: {financial_metrics['Credit Risk Rating'].iloc[0]}, {financial_metrics['Credit Risk Rating'].iloc[1]}\n",
    "\n",
    "## IV. Model Summary\n",
    "* Valuation Model: DCF\n",
    "* Risk Assessment Model: Debt-to-Equity and Interest Coverage\n",
    "\n",
    "## V. Visualizations\n",
    "```python\n",
    "# Generate financial ratio bar chart\n",
    "financial_metrics.plot(x='Year', y=['Debt-to-Equity', 'Interest Coverage'], kind='bar', figsize=(10,6))\n",
    "plt.title('Financial Ratios (Debt-to-Equity and Interest Coverage)')\n",
    "plt.show()\n",
    "``` \n",
    "\"\"\"\n",
    "logger.info('Report generated.')\n",
    "print(report)"
   ]
  }
 ],
 "metadata": {
  "kernelspec": {
   "display_name": "Python 3",
   "language": "python",
   "name": "python3"
  },
  "language_info": {
   "codemirror_mode": {
    "name": "ipython",
    "version": 3
   },
   "name": "python",
   "version": "3.8.8"
  }
 },
 "nbformat": 4,
 "nbformat_minor": 5
}
