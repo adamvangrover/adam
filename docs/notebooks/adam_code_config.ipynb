{
 "cells": [
  {
   "cell_type": "markdown",
   "metadata": {},
   "source": [
    "# Configuration Overview\n",
    "\n",
    "This notebook contains the configuration structure for the `adam_code_compilation` system. The system is divided into several categories, including agents, core systems, utilities, and configuration files."
   ]
  },
  {
   "cell_type": "markdown",
   "metadata": {},
   "source": [
    "## Core Agents\n",
    "The following are the core agents in the system, each responsible for a specific task or function in the system. Some agents are still in development and are marked as `STUB`."
   ]
  },
  {
   "cell_type": "code",
   "execution_count": 1,
   "metadata": {},
   "outputs": [],
   "source": [
    "import json\n",
    "\n",
    "# Load configuration from external JSON file\n",
    "def load_config(config_path):\n",
    "    with open(config_path, 'r') as f:\n",
    "        return json.load(f)\n",
    "\n",
    "# Load core agents configuration\n",
    "core_agents = [\n",
    "    {\n",
    "        'path': 'core/agents/agent_base.py',\n",
    "        'description': 'Base class for all agents. Provides core functionality for agent initialization and interaction.'\n",
    "    },\n",
    "    {\n",
    "        'path': 'core/agents/query_understanding_agent.py',\n",
    "        'description': 'Analyzes incoming queries and provides initial processing.'\n",
    "    },\n",
    "    {\n",
    "        'path': 'core/agents/data_retrieval_agent.py',\n",
    "        'description': 'Responsible for retrieving data from external sources or internal databases.'\n",
    "    },\n",
    "    {\n",
    "        'path': 'core/agents/result_aggregation_agent.py',\n",
    "        'description': 'Aggregates data from multiple agents to create a cohesive result.'\n",
    "    },\n",
    "    {\n",
    "        'path': 'core/agents/market_sentiment_agent.py',\n",
    "        'description': 'Analyzes market sentiment. Currently a stub and under development.'\n",
    "    }\n",
    "]\n",
    "\n",
    "# Display loaded core agents\n",
    "core_agents"
   ]
  },
  {
   "cell_type": "markdown",
   "metadata": {},
   "source": [
    "### Core System Components\n",
    "The core system components manage the orchestration, interaction, and error handling of agents."
   ]
  },
  {
   "cell_type": "code",
   "execution_count": 2,
   "metadata": {},
   "outputs": [],
   "source": [
    "# Load core system components configuration\n",
    "core_system = [\n",
    "    {\n",
    "        'path': 'core/system/agent_orchestrator.py',\n",
    "        'description': 'Manages the lifecycle of agents, including orchestration and coordination.'\n",
    "    },\n",
    "    {\n",
    "        'path': 'core/system/interaction_loop.py',\n",
    "        'description': 'Main interaction loop, responsible for orchestrating the agent interactions.'\n",
    "    },\n",
    "    {\n",
    "        'path': 'core/system/knowledge_base.py',\n",
    "        'description': 'In-memory knowledge base to store context for agent interactions.'\n",
    "    },\n",
    "    {\n",
    "        'path': 'core/system/error_handler.py',\n",
    "        'description': 'Handles errors and reports them through a structured logging system.'\n",
    "    }\n",
    "]\n",
    "\n",
    "# Display loaded core system components\n",
    "core_system"
   ]
  },
  {
   "cell_type": "markdown",
   "metadata": {},
   "source": [
    "### Core Utilities\n",
    "The utilities assist in tasks like loading configurations, manipulating data, and token counting. Some are still under development (marked as `STUB`)."
   ]
  },
  {
   "cell_type": "code",
   "execution_count": 3,
   "metadata": {},
   "outputs": [],
   "source": [
    "# Load core utilities configuration\n",
    "core_utils = [\n",
    "    {\n",
    "        'path': 'core/utils/config_utils.py',\n",
    "        'description': 'Handles loading and parsing of configuration files.'\n",
    "    },\n",
    "    {\n",
    "        'path': 'core/utils/data_utils.py',\n",
    "        'description': 'Contains utilities for data manipulation and transformation.'\n",
    "    },\n",
    "    {\n",
    "        'path': 'core/utils/token_utils.py',\n",
    "        'description': 'Stub implementation for token counting utilities.'\n",
    "    }\n",
    "]\n",
    "\n",
    "# Display loaded core utilities\n",
    "core_utils"
   ]
  },
  {
   "cell_type": "markdown",
   "metadata": {},
   "source": [
    "### Configuration Files\n",
    "These are the configuration files that define settings for agents, system configurations, workflows, etc."
   ]
  },
  {
   "cell_type": "code",
   "execution_count": 4,
   "metadata": {},
   "outputs": [],
   "source": [
    "# Load configuration files paths\n",
    "config_files = [\n",
    "    {\n",
    "        'path': 'config/agents.yaml',\n",
    "        'description': 'Configuration for agents\' behavior and parameters.'\n",
    "    },\n",
    "    {\n",
    "        'path': 'config/data_sources.yaml',\n",
    "        'description': 'Definitions for data sources used across the system.'\n",
    "    },\n",
    "    {\n",
    "        'path': 'config/system.yaml',\n",
    "        'description': 'Global system settings and configurations.'\n",
    "    },\n",
    "    {\n",
    "        'path': 'config/workflows.yaml',\n",
    "        'description': 'Predefined workflows for agent execution.'\n",
    "    },\n",
    "    {\n",
    "        'path': 'config/errors.yaml',\n",
    "        'description': 'Configuration for error codes and descriptions.'\n",
    "    }\n",
    "]\n",
    "\n",
    "# Display loaded configuration files\n",
    "config_files"
   ]
  },
  {
   "cell_type": "markdown",
   "metadata": {},
   "source": [
    "### Data Files\n",
    "These data files contain key mappings and knowledge used by agents for analysis and decision-making."
   ]
  },
  {
   "cell_type": "code",
   "execution_count": 5,
   "metadata": {},
   "outputs": [],
   "source": [
    "# Load data files configuration\n",
    "data_files = [\n",
    "    {\n",
    "        'path': 'data/risk_rating_mapping.json',\n",
    "        'description': 'Mapping of companies to their respective risk ratings.'\n",
    "    },\n",
    "    {\n",
    "        'path': 'data/knowledge_base.json',\n",
    "        'description': 'General knowledge used for various agent tasks.'\n",
    "    },\n",
    "    {\n",
    "        'path': 'data/adam_market_baseline.json',\n",
    "        'description': 'Market baseline data used for analysis.'\n",
    "    }\n",
    "]\n",
    "\n",
    "# Display loaded data files\n",
    "data_files"
   ]
  }
 ],
 "metadata": {
  "kernelspec": {
   "display_name": "Python 3",
   "language": "python",
   "name": "python3"
  },
  "language_info": {
   "codemirror_mode": {
    "name": "ipython",
    "version": 3
   },
   "file_extension": ".py",
   "mimetype": "text/x-python",
   "name": "python",
   "nbconvert_exporter": "python",
   "version": "3.8.8"
  }
 },
 "nbformat": 4,
 "nbformat_minor": 5
}
