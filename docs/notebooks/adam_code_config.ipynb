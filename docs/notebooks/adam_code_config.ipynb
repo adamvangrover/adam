{
 "cells": [
  {
   "cell_type": "markdown",
   "metadata": {},
   "source": [
    "# Configuration Overview\n",
    "\n",
    "This notebook contains the configuration structure for the `adam_code_compilation` system. The system is divided into several categories, including agents, core systems, utilities, and configuration files."
   ]
  },
  {
   "cell_type": "markdown",
   "metadata": {},
   "source": [
    "## Core Agents\n",
    "The following are the core agents in the system, each responsible for a specific task or function in the system. Some agents are still in development and are marked as `STUB`."
   ]
  },
  {
   "cell_type": "code",
   "execution_count": 1,
   "metadata": {},
   "outputs": [],
   "source": [
    "core_agents = [\n",
    "    {\n",
    "        'path': 'core/agents/agent_base.py',\n",
    "        'description': 'Base class for all agents. Provides core functionality for agent initialization and interaction.'\n",
    "    },\n",
    "    {\n",
    "        'path': 'core/agents/query_understanding_agent.py',\n",
    "        'description': 'Analyzes incoming queries and provides initial processing.'\n",
    "    },\n",
    "    {\n",
    "        'path': 'core/agents/data_retrieval_agent.py',\n",
    "        'description': 'Responsible for retrieving data from external sources or internal databases.'\n",
    "    },\n",
    "    {\n",
    "        'path': 'core/agents/result_aggregation_agent.py',\n",
    "        'description': 'Aggregates data from multiple agents to create a cohesive result.'\n",
    "    },\n",
    "    {\n",
    "        'path': 'core/agents/market_sentiment_agent.py',\n",
    "        'description': 'Analyzes market sentiment. Currently a stub and under development.'\n",
    "    }\n",
    "]\n",
    "core_agents"
   ]
  },
  {
   "cell_type": "markdown",
   "metadata": {},
   "source": [
    "### Core System Components\n",
    "The core system components manage the orchestration, interaction, and error handling of agents."
   ]
  },
  {
   "cell_type": "code",
   "execution_count": 2,
   "metadata": {},
   "outputs": [],
   "source": [
    "core_system = [\n",
    "    {\n",
    "        'path': 'core/system/agent_orchestrator.py',\n",
    "        'description': 'Manages the lifecycle of agents, including orchestration and coordination.'\n",
    "    },\n",
    "    {\n",
    "        'path': 'core/system/interaction_loop.py',\n",
    "        'description': 'Main interaction loop, responsible for orchestrating the agent interactions.'\n",
    "    },\n",
    "    {\n",
    "        'path': 'core/system/knowledge_base.py',\n",
    "        'description': 'In-memory knowledge base to store context for agent interactions.'\n",
    "    },\n",
    "    {\n",
    "        'path': 'core/system/error_handler.py',\n",
    "        'description': 'Handles errors and reports them through a structured logging system.'\n",
    "    }\n",
    "]\n",
    "core_system"
   ]
  },
  {
   "cell_type": "markdown",
   "metadata": {},
   "source": [
    "### Core Utilities\n",
    "The utilities assist in tasks like loading configurations, manipulating data, and token counting. Some are still under development (marked as `STUB`)."
   ]
  },
  {
   "cell_type": "code",
   "execution_count": 3,
   "metadata": {},
   "outputs": [],
   "source": [
    "core_utils = [\n",
    "    {\n",
    "        'path': 'core/utils/config_utils.py',\n",
    "        'description': 'Handles loading and parsing of configuration files.'\n",
    "    },\n",
    "    {\n",
    "        'path': 'core/utils/data_utils.py',\n",
    "        'description': 'Contains utilities for data manipulation and transformation.'\n",
    "    },\n",
    "    {\n",
    "        'path': 'core/utils/token_utils.py',\n",
    "        'description': 'Stub implementation for token counting utilities.'\n",
    "    }\n",
    "]\n",
    "core_utils"
   ]
  },
  {
   "cell_type": "markdown",
   "metadata": {},
   "source": [
    "### Configuration Files\n",
    "These are the configuration files that define settings for agents, system configurations, workflows, etc."
   ]
  },
  {
   "cell_type": "code",
   "execution_count": 4,
   "metadata": {},
   "outputs": [],
   "source": [
    "config_files = [\n",
    "    {\n",
    "        'path': 'config/agents.yaml',\n",
    "        'description': 'Configuration for agents\' behavior and parameters.'\n",
    "    },\n",
    "    {\n",
    "        'path': 'config/data_sources.yaml',\n",
    "        'description': 'Definitions for data sources used across the system.'\n",
    "    },\n",
    "    {\n",
    "        'path': 'config/system.yaml',\n",
    "        'description': 'Global system settings and configurations.'\n",
    "    },\n",
    "    {\n",
    "        'path': 'config/workflows.yaml',\n",
    "        'description': 'Predefined workflows for agent execution.'\n",
    "    },\n",
    "    {\n",
    "        'path': 'config/errors.yaml',\n",
    "        'description': 'Configuration for error codes and descriptions.'\n",
    "    }\n",
    "]\n",
    "config_files"
   ]
  },
  {
   "cell_type": "markdown",
   "metadata": {},
   "source": [
    "### Data Files\n",
    "These data files contain key mappings and knowledge used by agents for analysis and decision-making."
   ]
  },
  {
   "cell_type": "code",
   "execution_count": 5,
   "metadata": {},
   "outputs": [],
   "source": [
    "data_files = [\n",
    "    {\n",
    "        'path': 'data/risk_rating_mapping.json',\n",
    "        'description': 'Mapping of companies to their respective risk ratings.'\n",
    "    },\n",
    "    {\n",
    "        'path': 'data/knowledge_base.json',\n",
    "        'description': 'General knowledge used for various agent tasks.'\n",
    "    },\n",
    "    {\n",
    "        'path': 'data/adam_market_baseline.json',\n",
    "        'description': 'Market baseline data used for analysis.'\n",
    "    }\n",
    "]\n",
    "data_files"
   ]
  }
 ]
}
