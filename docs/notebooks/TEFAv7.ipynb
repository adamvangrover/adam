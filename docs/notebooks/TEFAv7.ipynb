# %%-- Single Cell Jupyter Notebook - Transformer Enhanced Financial Analysis v7 - Indentation Fix --%%

# --- Imports and Setup ---
import ipywidgets as widgets
from IPython.display import display, clear_output, HTML
import math
import re
import time
import warnings
import html 
from collections import defaultdict 

warnings.filterwarnings("ignore", category=UserWarning, module='transformers') 
warnings.filterwarnings("ignore", category=FutureWarning) 

# --- Configuration Constants ---
MODEL_QA = "deepset/roberta-base-squad2" 
MODEL_SUMMARIZER = "sshleifer/distilbart-cnn-12-6"
MODEL_ZERO_SHOT = "facebook/bart-large-mnli"
MODEL_SENTIMENT = "ProsusAI/finbert"
QA_CONTEXT_WINDOW_SIZE = 400 
QA_MAX_SNIPPETS_PER_KEY = 7   
QA_SCORE_THRESHOLD = 0.05   
ZERO_SHOT_LABELS = ["Volume/Demand", "Pricing/Mix", "Cost Control", "M&A", "FX/Rates", "Capex", "WC", "Debt/Financing", "Product/Service", "Market/Comp.", "Inflation", "Supply Chain", "Restructuring"]
ZERO_SHOT_CONFIDENCE_THRESHOLD = 0.40
TEXT_ANALYSIS_MAX_CHARS_ZS = 500 
TEXT_ANALYSIS_MAX_CHARS_SENTIMENT = 450 

# --- Dependency Check ---
TRANSFORMERS_AVAILABLE = False
try:
    try: import torch; print("INFO: PyTorch backend found.")
    except ImportError: import tensorflow; print("INFO: TensorFlow backend found.")
    from transformers import pipeline
    _ = pipeline('sentiment-analysis', model='distilbert/distilbert-base-uncased-finetuned-sst-2-english') 
    TRANSFORMERS_AVAILABLE = True
    print("INFO: 'transformers' library installed and functional.")
except ImportError as e: print(f"WARNING: Dependency issue ({e}). Advanced features disabled.")
except Exception as e: print(f"WARNING: Transformer pipeline init failed: {e}. Advanced features disabled.")

# --- Global Variables / Model Placeholders ---
pipelines = {"qa": None, "summarizer": None, "zero_shot": None, "sentiment": None}
models_loaded = False; model_load_error = False 

# --- Status Display Widgets ---
load_status_label = widgets.HTML(value="Status: Models not loaded.")
parse_status_label = widgets.HTML(value="Status: Ready.")
analysis_status_label = widgets.HTML(value="Status: Ready.")
custom_qa_status_label = widgets.HTML(value="") 

# --- Model Loading Function ---
def load_models(status_widget):
    """Loads required Hugging Face Transformer models via pipeline API."""
    global models_loaded, model_load_error, pipelines
    if not TRANSFORMERS_AVAILABLE: status_widget.value = "<span style='color: orange;'>Status: Cannot load - dependency issue.</span>"; return
    if models_loaded: status_widget.value = "<span style='color: green;'>Status: Models already loaded.</span>"; return
    models_loaded = False; model_load_error = False 
    model_list = {"qa": MODEL_QA, "summarizer": MODEL_SUMMARIZER, "zero_shot": MODEL_ZERO_SHOT, "sentiment": MODEL_SENTIMENT}
    total_start = time.time(); all_ok = True 
    for key, name in model_list.items():
        start = time.time()
        try:
            status_widget.value = f"Status: Loading {key} ({name})..."; print(f"Loading {key}: {name}...")
            task = {"qa": "question-answering", "summarizer": "summarization", "zero_shot": "zero-shot-classification", "sentiment": "sentiment-analysis"}.get(key); assert task
            pipelines[key] = pipeline(task, model=name, tokenizer=name, device=-1) # Force CPU
            print(f"-> {key.upper()} OK ({time.time() - start:.1f}s).")
            status_widget.value = f"Status: Loaded {key} model."
        except Exception as e:
            print(f"ERROR loading {key} ({name}): {e}"); status_widget.value = f"<span style='color: red;'>Status: ERROR loading {key}.</span>"
            model_load_error = True; all_ok = False; pipelines[key] = None 
    total_elapsed = time.time() - total_start; final_status_color = "green" if all_ok else ("orange" if any(pipelines.values()) else "red")
    final_status_msg = "All models loaded!" if all_ok else ("Some models loaded, errors occurred." if any(pipelines.values()) else "Failed to load any models.")
    status_widget.value = f"<span style='color: {final_status_color};'>Status: {final_status_msg} ({total_elapsed:.1f}s)</span>"; models_loaded = all_ok and not model_load_error

# --- Helper Functions (Formatting) ---
def format_currency(value):
    """Formats number (base units) into $ millions string."""
    if not isinstance(value, (int, float)) or value is None or math.isnan(value) or math.isinf(value): return "$N/A"
    try: v_mm = value / 1e6; return f"${v_mm:,.1f}mm" if abs(v_mm) >= 0.05 else "$0.0mm"
    except: return "$N/A"
def format_percentage(value):
    """Formats number as percentage string."""
    if not isinstance(value, (int, float)) or value is None or math.isnan(value): return "N/A%"
    try: return "Infinite %" if math.isinf(value) else f"{value:.1f}%"
    except: return "N/A%"
def format_leverage(value):
    """Formats leverage ratio number."""
    if not isinstance(value, (int, float)) or value is None or math.isnan(value) or math.isinf(value): return "N/Ax"
    try: return f"{value:.1f}x"
    except: return "N/Ax"

# --- REGEX FALLBACK IMPLEMENTATION ---
def extract_financial_figure_regex(text, keywords):
    """Fallback: Uses Regex to find likely financial figure near keywords."""
    num_pattern = r'[\$€£]?\s?\(?(\d{1,3}(?:,\d{3})*(?:\.\d+)?)\)?\s*(million|billion|thousand)\b'
    window = 250; figures = [] 
    for kw in keywords:
        try:
            for m in re.finditer(r'\b' + re.escape(kw) + r'\b', text, re.IGNORECASE):
                s, _ = m.span(); start = max(0, s - window); end = min(len(text), s + window)
                seg = text[start:end]
                for nm in re.finditer(num_pattern, seg, re.IGNORECASE):
                    v_str, unit = nm.groups(); ns, _ = nm.span()
                    neg = (ns > 0 and seg[ns - 1] == '-') or nm.group(0).startswith('(')
                    try:
                        v = float(v_str.replace(',', '')); v = -v if neg else v
                        unit = unit.lower() if unit else ""; v *= 1e3 if 'bil' in unit else (1e-3 if 'tho' in unit else 1)
                        figures.append({'value': v, 'pos': start + ns})
                    except ValueError: continue
        except Exception as e: print(f"Regex warn: {e}"); continue 
    if not figures: return None
    first_kw_m = re.search(r'\b' + re.escape(keywords[0]) + r'\b', text, re.IGNORECASE); kw_pos = first_kw_m.start() if first_kw_m else 0
    after = [f for f in figures if f['pos'] >= kw_pos]
    best = min(after if after else figures, key=lambda f: abs(f['pos'] - kw_pos))
    return best['value']
def parse_press_release_regex(text):
    """Regex fallback: extracts only key current figures."""
    print("Regex Fallback: Extracting key figures only..."); extracted = defaultdict(lambda: None) 
    extracted['revenue_current'] = extract_financial_figure_regex(text, ["revenue", "total revenue", "net sales"]) 
    extracted['ebitda_current'] = extract_financial_figure_regex(text, ["ebitda", "adjusted ebitda"]) 
    extracted['fcf_current'] = extract_financial_figure_regex(text, ["free cash flow", "fcf"])
    print("Regex Fallback: Other data needs manual input.")
    return extracted

# --- BASIC KEYWORD FALLBACK ---
def analyze_drivers_fallback(text):
    """Fallback: Analyzes text using simple keyword spotting."""
    if not text or text.strip().lower() == 'n/a': return "<i>(No text)</i>"; text_lower = text.lower()
    kws = {"Vol/Demand": ["volume", "demand"], "Price/Mix": ["price", "mix"], "Cost": ["cost", "margin"], "M&A": ["acquisition"], "FX": ["fx", "currency"], "Capex": ["capex"], "WC": ["working capital"], "Debt/Lev": ["debt", "leverage"], "Prod/Market": ["product", "market"]}
    themes = [t for t, wds in kws.items() if any(w in text_lower for w in wds)]
    return f"<i>(Fallback: Mentions {', '.join(themes)})</i>" if themes else "<i>(Fallback: No keywords)</i>"

# --- TRANSFORMER IMPLEMENTATIONS ---
def _get_targeted_context(text, keywords, window_size=QA_CONTEXT_WINDOW_SIZE):
    """Finds keywords, extracts context windows, merges overlaps."""
    snippets = []; processed_spans = []
    matches = []
    for kw in keywords:
        try: matches.extend(m.span() for m in re.finditer(r'\b' + re.escape(kw) + r'\b', text, re.IGNORECASE))
        except Exception as e: print(f"Warn: Regex err kw '{kw}': {e}")
    if not matches: print(f"  -> No keywords {keywords} found. Using doc start."); return [text[:window_size*2]]
    matches.sort()
    merged = []
    if matches:
        cs, ce = matches[0]
        for ns, ne in matches[1:]: ce = max(ce, ne) if ns < ce + window_size // 2 else (merged.append((cs, ce)), ns)[1]; cs = ns
        merged.append((cs, ce))
    for s, e in merged:
        cs = max(0, s - window_size); ce = min(len(text), e + window_size)
        if not any(max(cs, ps) < min(ce, pe) for ps, pe in processed_spans):
            snippets.append(text[cs:ce]); processed_spans.append((cs, ce))
    print(f"  -> Found {len(snippets)} relevant context snippets for: {keywords}")
    if len(snippets) > QA_MAX_SNIPPETS_PER_KEY: print(f"  -> Limiting to {QA_MAX_SNIPPETS_PER_KEY} snippets."); return snippets[:QA_MAX_SNIPPETS_PER_KEY]
    return snippets if snippets else [text[:window_size*2]]

def parse_financial_answer(answer_text, is_qualitative=False):
    """Parses QA answer: returns cleaned text if qualitative, else number (in millions)."""
    if not answer_text: return None
    if is_qualitative: return answer_text.strip() 
    txt = answer_text.lower().replace('approx.','').strip(); txt = re.sub(r'[\$€£]', '', txt).strip(); txt = re.sub(r'\s+(dollars|euros|pounds)\b','', txt)
    txt = txt.replace('(','-').replace(')','') 
    num_pat = r'([-+]?\d{1,3}(?:,\d{3})*(?:\.\d+)?)\s*(million|billion|thousand|mn|bn|k)?'; m = re.search(num_pat, txt)
    if not m: m = re.search(r'([-+]?\d{1,3}(?:,\d{3})*(?:\.\d+)?)', txt); v_str = m.group(1) if m else None; unit = "" 
    else: v_str, u_m = m.groups(); unit = u_m if u_m else ""
    if not v_str: return None
    try: v = float(v_str.replace(',', ''))
    except: return None 
    unit = unit.lower(); v *= 1e3 if 'bil' in unit or unit=='bn' else (1e-3 if 'tho' in unit or unit=='k' else 1)
    return v

def run_qa_query_on_snippets(qa_pipeline, question_list, context_snippets, key, status_widget, q_ran_count, q_total_to_run):
    """Runs QA questions against context snippets, returns best answer found."""
    best_ans = None; best_score = -1; is_qual = "text" in key 
    for s_idx, ctx in enumerate(context_snippets):
        # print(f"    ...Querying snippet {s_idx+1}/{len(context_snippets)} for '{key}'...") # Verbose
        for q_idx, q in enumerate(question_list):
            q_ran_count += 1
            if (q_ran_count % 5 == 0) or (s_idx == 0 and q_idx == 0): status_widget.value = f"<span style='color: blue;'>Status: QA ({q_ran_count}/{q_total_to_run}) '{key}'...</span>"
            try:
                res = qa_pipeline(question=q, context=ctx, handle_impossible_answer=True); ans, score = res.get('answer'), res.get('score', 0)
                # print(f"      Q: {q} (Snip {s_idx+1}) -> A: '{ans}' (Score: {score:.3f})") # Verbose
                if ans and score > QA_SCORE_THRESHOLD: 
                    parsed = parse_financial_answer(ans, is_qualitative=is_qual); 
                    if parsed is not None and score > best_score: best_score = score; best_ans = parsed; print(f"    -> New best answer for '{key}' (Score: {best_score:.3f}).")
            except Exception as e: print(f"QA Err q='{q}', snip={s_idx+1}: {e}")
            time.sleep(0.01) 
    return best_ans, q_ran_count

def parse_press_release_transformer(text, status_widget):
    """Uses Transformer QA with targeted context snippets."""
    qa_pipe = pipelines.get("qa"); assert qa_pipe, "QA model not loaded."
    kw_map = {'revenue_current': ['revenue', 'sales', 'current'], 'revenue_prior': ['revenue', 'sales', 'prior year'], 'ebitda_current': ['ebitda', 'adjusted ebitda', 'current'], 'ebitda_prior': ['ebitda', 'adjusted ebitda', 'prior year'], 'fcf_current': ['free cash flow', 'fcf', 'current'], 'fcf_prior': ['free cash flow', 'fcf', 'prior year'], 'revenue_drivers_text': ['revenue', 'sales', 'drivers', 'increase', 'decrease', 'performance'], 'ebitda_drivers_text': ['ebitda', 'margin', 'drivers', 'profitability'], 'fcf_drivers_text': ['free cash flow', 'fcf', 'cash flow', 'capex', 'working capital', 'drivers'], 'leverage_drivers_text': ['leverage', 'net debt', 'debt', 'drivers'], 'cogs_current': ['cost of goods', 'cogs', 'cost of sales', 'current'], 'cogs_prior': ['cost of goods', 'cogs', 'cost of sales', 'prior year'], 'opex_current': ['operating expenses', 'opex', 'sg&a', 'current'], 'opex_prior': ['operating expenses', 'opex', 'sg&a', 'prior year'], 'da_current': ['depreciation', 'amortization', 'd&a', 'current'], 'da_prior': ['depreciation', 'amortization', 'd&a', 'prior year'], 'op_income_current': ['operating income', 'ebit', 'current'], 'op_income_prior': ['operating income', 'ebit', 'prior year'], 'ocf_current': ['operating activities', 'cash flow from operations', 'ocf', 'current'], 'ocf_prior': ['operating activities', 'cash flow from operations', 'ocf', 'prior year'], 'capex_current': ['capital expenditure', 'capex', 'pp&e', 'current'], 'capex_prior': ['capital expenditure', 'capex', 'pp&e', 'prior year'], 'debt_total_current': ['total debt', 'borrowings'], 'leverage_current': ['leverage ratio', 'net debt to ebitda']}
    q = defaultdict(list); q_fin = list(kw_map.keys()); q_qual = [k for k in q_fin if 'text' in k]; q_fin = [k for k in q_fin if 'text' not in k]
    # Auto-generate basic questions + add manual variations
    for k in q_fin + q_qual: q[k].append(f"What is the {k.replace('_', ' ').replace('text','drivers').replace('current','current period').replace('prior','prior year period')}?")
    q['revenue_current'].extend(["Net sales current period?", "Latest revenue?"]); q['revenue_prior'].extend(["Net sales prior year?", "Prior revenue?"])
    q['ebitda_current'].extend(["Adjusted EBITDA current?", "Latest EBITDA?"]); q['ebitda_prior'].extend(["Adjusted EBITDA prior year?", "Prior EBITDA?"])
    q['revenue_drivers_text'].extend(["Why did revenue change?", "Factors impacting sales?"]); q['ebitda_drivers_text'].extend(["Why did EBITDA change?", "What affected margins?"])
    q['fcf_drivers_text'].extend(["Explain FCF change.", "Reasons for cash flow diff?"]); q['leverage_drivers_text'].extend(["Explain leverage change.", "Reasons for debt change?"])
    q['opex_current'].append("What was SG&A expense?"); q['opex_prior'].append("What was SG&A expense one year ago?") # Add more Qs...

    extracted = defaultdict(lambda: None); q_total = sum(len(v) for v in q.values()); q_ran = 0
    status_widget.value = "<span style='color: blue;'>Status: Finding context & QA...</span>"; print(f"Starting Targeted QA ({q_total} variations)...")
    for key, q_list in q.items():
        print(f"\nProcessing key: '{key}'...")
        related_kw = kw_map.get(key, key.split('_')[0:1])
        ctx_snips = _get_targeted_context(text, related_kw)
        best_ans, q_ran = run_qa_query_on_snippets(qa_pipe, q_list, ctx_snips, key, status_widget, q_ran, q_total); extracted[key] = best_ans
    status_widget.value = "<span style='color: green;'>Status: Transformer QA complete.</span>"; print(f"\nFinished QA. Extracted {len([v for v in extracted.values() if v is not None])} values.")
    return extracted

def analyze_drivers_transformer(text, status_widget):
    """Analyzes driver text using AI pipelines."""
    if not text or text.strip().lower() == 'n/a': return "<i>(No text)</i>"
    analysis = {}; status_widget.value = "<span style='color: blue;'>Status: Analyzing text...</span>"
    # Summarization
    pipe = pipelines.get("summarizer")
    if pipe:
        try: analysis["Summary"] = f"<i>{html.escape(pipe(text, max_length=80, min_length=15, do_sample=False)[0]['summary_text'])}</i>"
        except Exception as e: print(f"Summary fail: {e}"); analysis["Summary"] = "<i>Error</i>"
    else: analysis["Summary"] = "<i>(N/A)</i>"
    # Zero-Shot
    pipe = pipelines.get("zero_shot")
    if pipe:
        try:
            text_trunc = text[:TEXT_ANALYSIS_MAX_CHARS_ZS] if len(text) > TEXT_ANALYSIS_MAX_CHARS_ZS else text
            if not text_trunc.strip(): raise ValueError("Empty ZS text")
            results = pipe(text_trunc, candidate_labels=ZERO_SHOT_LABELS, multi_label=True); 
            themes = sorted([(l, s) for l, s in zip(results['labels'], results['scores']) if s > ZERO_SHOT_CONFIDENCE_THRESHOLD], key=lambda i: i[1], reverse=True)
            analysis["Themes"] = html.escape(", ".join([f"{l} ({s:.0%})" for l, s in themes])) if themes else "<i>None</i>"
        except Exception as e: print(f"Zero-shot fail: {e}"); analysis["Themes"] = "<i>Error</i>"
    else: analysis["Themes"] = "<i>(N/A)</i>"
    # Sentiment
    pipe = pipelines.get("sentiment")
    if pipe:
        try:
            chunks = [text[i:i+TEXT_ANALYSIS_MAX_CHARS_SENTIMENT] for i in range(0, len(text), TEXT_ANALYSIS_MAX_CHARS_SENTIMENT)]; sentiments = []; scores = []
            for chunk in chunks:
                 if not chunk.strip(): continue 
                 res = pipe(chunk)[0]; sentiments.append(res['label']); scores.append(res['score']) 
            if sentiments: sentiment = max(set(sentiments), key=sentiments.count); avg_score = sum(s for s, lab in zip(scores, sentiments) if lab == sentiment) / sentiments.count(sentiment); analysis["Sentiment"] = f"{html.escape(sentiment.capitalize())} ({avg_score:.1%})" 
            else: analysis["Sentiment"] = "<i>N/A</i>"
        except Exception as e: print(f"Sentiment fail: {e}"); analysis["Sentiment"] = "<i>Error</i>"
    else: analysis["Sentiment"] = "<i>(N/A)</i>"
    # Format
    out = "<ul style='margin:0; padding-left:20px; font-size:0.9em;'>"; 
    if "Summary" in analysis: out += f"<li><b>Summary:</b> {analysis['Summary']}</li>"
    if "Themes" in analysis: out += f"<li><b>Themes:</b> {analysis['Themes']}</li>"
    if "Sentiment" in analysis: out += f"<li><b>Sentiment:</b> {analysis['Sentiment']}</li></ul>"
    return out if analysis else "<i>(Analysis failed)</i>"

# --- UI Widgets Setup ---
style = {'description_width': 'initial'}; layout_half = widgets.Layout(width='48%'); layout_text = widgets.Layout(width='98%', height='100px') 
pr_input = widgets.Textarea(description="Paste Text:", placeholder="Paste press release...", layout=widgets.Layout(width='98%', height='200px'), style=style)
parse_btn = widgets.Button(description="Parse", button_style='info', icon='paste', tooltip="Extract data")
parse_out = widgets.Output() 
custom_q_in = widgets.Text(description="Question:", placeholder="Ask about the text...", layout=widgets.Layout(width='80%'), style=style)
custom_q_btn = widgets.Button(description="Ask", button_style='primary', tooltip="Run custom question")
custom_q_out = widgets.Output() 
rev_c_in = widgets.FloatText(description="Revenue (C, $mm):", placeholder='Num', style=style, layout=layout_half)
rev_p_in = widgets.FloatText(description="Revenue (P, $mm):", placeholder='Num', style=style, layout=layout_half)
rev_drv_in = widgets.Textarea(description="Revenue Drivers:", placeholder="(Auto/Manual)", style=style, layout=layout_text)
ebitda_c_in = widgets.FloatText(description="EBITDA (C, $mm):", placeholder='Num', style=style, layout=layout_half)
ebitda_p_in = widgets.FloatText(description="EBITDA (P, $mm):", placeholder='Num', style=style, layout=layout_half)
ebitda_drv_in = widgets.Textarea(description="EBITDA Drivers:", placeholder="(Auto/Manual)", style=style, layout=layout_text)
fcf_c_in = widgets.FloatText(description="FCF (C, $mm):", placeholder='Num', style=style, layout=layout_half)
fcf_p_in = widgets.FloatText(description="FCF (P, $mm):", placeholder='Num', style=style, layout=layout_half)
fcf_drv_in = widgets.Textarea(description="FCF Drivers:", placeholder="(Auto/Manual)", style=style, layout=layout_text)
lev_c_in = widgets.FloatText(description="Leverage (C, x):", placeholder='Num', style=style, layout=layout_half)
lev_p_in = widgets.FloatText(description="Leverage (P, x):", placeholder='Num', style=style, layout=layout_half)
lev_drv_in = widgets.Textarea(description="Leverage Drivers:", placeholder="(Auto/Manual)", style=style, layout=layout_text)
gen_btn = widgets.Button(description="Generate Summary", button_style='success', icon='cogs', tooltip="Generate analysis")
analysis_out = widgets.Output() 

# --- Event Handlers ---
def on_load_models_click(b):
    b.disabled = True; b.description = "Loading..."; b.icon = "spinner"
    load_models(load_status_label) 
    b.disabled = False; b.description = "Load Models"; b.icon = "download"
    analysis_status_label.value = "Status: Ready."

def on_parse_button_click(b):
    parse_out.clear_output(wait=True); analysis_out.clear_output() 
    with parse_out: 
        parse_status_label.value = "<span style='color: blue;'>Status: Parsing...</span>"; print("Initiating parse...")
        pr_txt = pr_input.value
        if not pr_txt or not pr_txt.strip(): print("Error: Empty text."); parse_status_label.value = "<span style='color: red;'>Status: Error - Empty text.</span>"; return
        
        extracted = defaultdict(lambda: None); method = "Unknown"; success = False # <<< METHOD INITIALIZED
        use_transformer = TRANSFORMERS_AVAILABLE and models_loaded and pipelines.get("qa")

        if use_transformer:
            try: print("Using Transformer QA..."); method = "Transformer"; extracted = parse_press_release_transformer(pr_txt, parse_status_label); print("Transformer OK."); success = True 
            except Exception as e: print(f"Transformer fail: {e}. Fallback."); parse_status_label.value = f"<span style='color: orange;'>Status: Transformer fail. Fallback...</span>"; # Fallback handled below
        
        if not use_transformer or not success: 
             reason = "(Transformer Failed)" if use_transformer else ("(Lib N/A)" if not TRANSFORMERS_AVAILABLE else "(Models not loaded)")
             print(f"Using Regex {reason}..."); parse_status_label.value = f"<span style='color: orange;'>Status: Using Regex {reason}...</span>"
             try: extracted = parse_press_release_regex(pr_txt); method = "Regex"; print("Regex OK."); success = True
             except Exception as e: print(f"Regex fail: {e}"); method = "Failed"; parse_status_label.value = "<span style='color: red;'>Status: Parse failed.</span>"; success = False
        
        # Estimation Logic
        final = dict(extracted); log = []; est_done = False
        if success:
            print("\nAttempting estimations..."); 
            def _valid(*args): return all(isinstance(x,(int,float)) and x is not None and not math.isnan(x) for x in args)
            # Estimate EBITDA(C)
            if final.get('ebitda_current') is None:
                opinc, da, rev, cogs, opex = (final.get(k) for k in ['op_income_current', 'da_current', 'revenue_current', 'cogs_current', 'opex_current'])
                if _valid(opinc, da): est = opinc + da; final['ebitda_current'] = est; log.append(f"Est. EBITDA(C)=OpInc+D&A={est:.1f}"); est_done=True
                elif _valid(rev, cogs, opex): base = rev - cogs - opex; est = base + (da if _valid(da) else 0); final['ebitda_current'] = est; log.append(f"Est. EBITDA(C)=Rev-Exp+(D&A?)={est:.1f}"); est_done=True
            # Estimate EBITDA(P)
            if final.get('ebitda_prior') is None:
                 opinc_p, da_p = (final.get(k) for k in ['op_income_prior', 'da_prior'])
                 if _valid(opinc_p, da_p): est = opinc_p + da_p; final['ebitda_prior'] = est; log.append(f"Est. EBITDA(P)=OpInc_p+D&A_p={est:.1f}"); est_done=True
            # Estimate FCF(C)
            if final.get('fcf_current') is None:
                 ocf, capex = (final.get(k) for k in ['ocf_current', 'capex_current'])
                 if _valid(ocf, capex): est = ocf - abs(capex); final['fcf_current'] = est; log.append(f"Est. FCF(C)=OCF-Capex={est:.1f}"); est_done=True
            # Estimate FCF(P)
            if final.get('fcf_prior') is None:
                 ocf_p, capex_p = (final.get(k) for k in ['ocf_prior', 'capex_prior'])
                 if _valid(ocf_p, capex_p): est = ocf_p - abs(capex_p); final['fcf_prior'] = est; log.append(f"Est. FCF(P)=OCF_p-Capex_p={est:.1f}"); est_done=True
            # Estimate Leverage(C) *** CORRECTED INDENTATION BLOCK ***
            if final.get('leverage_current') is None:
                debt, ebitda = (final.get(k) for k in ['debt_total_current', 'ebitda_current']) 
                if _valid(debt, ebitda) and abs(ebitda) > 1e-6: 
                    est = debt / ebitda 
                    if 0 < est < 20: # Sanity check ratio
                        final['leverage_current'] = est
                        log.append(f"Est. Lev(C)=Debt({debt:.1f})/EBITDA({ebitda:.1f})={est:.1f}x") 
                        est_done = True
                    else: # Unrealistic ratio
                        log.append(f"Est. Lev(C) skipped (ratio {est:.1f}x unreal.)")
            # Log estimation results
            if est_done: print("\n--- Estimations ---"); [print(f"- {l}") for l in log]; print("---")
            else: print("\nNo estimations performed.")

        # Populate UI
        if success:
            w_map = {'revenue_current': rev_c_in, 'revenue_prior': rev_p_in, 'ebitda_current': ebitda_c_in, 'ebitda_prior': ebitda_p_in, 'fcf_current': fcf_c_in, 'fcf_prior': fcf_p_in, 'leverage_current': lev_c_in, 'leverage_prior': lev_p_in, 'revenue_drivers_text': rev_drv_in, 'ebitda_drivers_text': ebitda_drv_in, 'fcf_drivers_text': fcf_drv_in, 'leverage_drivers_text': lev_drv_in}
            print("\nPopulating UI:"); pop_count = 0
            for k, w in w_map.items():
                val = final.get(k); est = any(k.split('_')[0] in l.lower() for l in log if k in l.lower()) 
                if val is not None:
                    try: w.value = float(f"{val:.2f}") if isinstance(w, widgets.FloatText) and isinstance(val, float) else val; pop_count += 1
                    except: w.value = None 
                    print(f"  - Set {k}{' (Est.)' if est else ''}: {'(text)' if isinstance(val, str) and len(val)>50 else val}")
            print(f"\nPopulated {pop_count} fields. Method: {method}") # Use method variable here
            print("\n>>> !! CRITICAL: Review ALL fields. Edit as needed. !! <<<")
            parse_status_label.value = f"<span style='color: green;'>Status: Parse OK ({method}). VERIFY VALUES.</span>"
        elif success: parse_status_label.value = f"<span style='color: orange;'>Status: Parsed ({method}), no data.</span>"
        analysis_status_label.value = "Status: Ready." 

def on_custom_qa_click(b):
    """Handles 'Ask Custom Question' button."""
    custom_qa_output.clear_output(wait=True)
    custom_qa_status_label.value = "<span style='color: blue;'>Processing...</span>"
    with custom_qa_output:
        q = custom_q_in.value; txt = pr_input.value; qa_pipe = pipelines.get("qa")
        if not q or not q.strip(): print("ERROR: Enter a question."); custom_qa_status_label.value = "<span style='color: red;'>Status: Enter question.</span>"; return
        if not txt or not txt.strip(): print("ERROR: Paste press release first."); custom_qa_status_label.value = "<span style='color: red;'>Status: Paste text.</span>"; return
        if not qa_pipe: print("ERROR: QA model not loaded."); custom_qa_status_label.value = "<span style='color: red;'>Status: Load QA model.</span>"; return
        print(f"Asking AI: '{q}'"); 
        try:
            # Use full text for custom QA, model pipeline might handle truncation internally if needed
            res = qa_pipe(question=q, context=txt, handle_impossible_answer=True)
            ans, score = res.get('answer'), res.get('score', 0)
            print(f"\nAnswer: {ans}"); print(f"Confidence: {score:.3f}")
            if not ans or score < QA_SCORE_THRESHOLD: print("(Low confidence or no answer found)"); custom_qa_status_label.value = "<span style='color: orange;'>Status: Custom QA done (low conf).</span>"
            else: custom_qa_status_label.value = "<span style='color: green;'>Status: Custom QA complete.</span>"
        except Exception as e: print(f"\nERROR: {e}"); custom_qa_status_label.value = "<span style='color: red;'>Status: Custom QA Error.</span>"

def on_generate_click(b):
    """Handles 'Generate Analysis Summary' button."""
    analysis_out.clear_output(wait=True) 
    with analysis_out: 
        analysis_status_label.value = "<span style='color: blue;'>Status: Generating...</span>"; print("Generating Summary...")
        # Get Values
        try:
            def get_units(w): v=w.value; return v * 1e6 if isinstance(v,(int,float)) and v is not None and not math.isnan(v) else None
            rev_c, rev_p = get_units(rev_c_in), get_units(rev_p_in); ebitda_c, ebitda_p = get_units(ebitda_c_in), get_units(ebitda_p_in)
            fcf_c, fcf_p = get_units(fcf_c_in), get_units(fcf_p_in); lev_c, lev_p = lev_c_in.value, lev_p_in.value
        except Exception as e: print(f"Input Error: {e}"); analysis_status_label.value = f"<span style='color: red;'>Status: Input Error</span>"; return
        # Get qualitative
        qual_in = {"Rev": rev_drv_in.value or "N/A", "EBITDA": ebitda_drv_in.value or "N/A", "FCF": fcf_drv_in.value or "N/A", "Lev": lev_drv_in.value or "N/A"}
        
        # Analyze Qualitative
        analysis_status_label.value = "<span style='color: blue;'>Status: Analyzing text...</span>"; qual_an = {}; method = "Basic Fallback" 
        analysis_ok = TRANSFORMERS_AVAILABLE and models_loaded and any(pipelines.get(k) for k in ["summarizer", "zero_shot", "sentiment"])
        if analysis_ok:
            print("Attempting AI analysis..."); method = "Transformer (AI)"
            for k, txt in qual_in.items():
                analysis_status_label.value = f"<span style='color: blue;'>Status: Analyzing '{k}'...</span>"
                try: qual_an[k] = analyze_drivers_transformer(txt, analysis_status_label) 
                except Exception as e: print(f"AI analysis fail {k}: {e}"); qual_an[k] = analyze_drivers_fallback(txt); method = "Mixed (AI Attempted)"
        else:
             reason = "(Lib N/A)" if not TRANSFORMERS_AVAILABLE else "(Models not loaded)"; print(f"Using basic analysis {reason}.")
             analysis_status_label.value = f"<span style='color: orange;'>Status: Basic analysis {reason}...</span>"
             for k, txt in qual_in.items(): qual_an[k] = analyze_drivers_fallback(txt)
        analysis_status_label.value = f"<span style='color: blue;'>Status: Text analysis done ({method}).</span>"

        # Calculations
        analysis_status_label.value = "<span style='color: blue;'>Status: Calculating...</span>"
        try:
            def calc_chg(c, p):
                if not all(isinstance(x, (int, float)) and x is not None and not math.isnan(x) for x in [c, p]): return None, None
                delta = c - p; return (float('inf') if c>1e-9 else (float('-inf') if c<-1e-9 else 0.0)) if abs(p)<1e-9 else (delta/abs(p)*100), delta
            rev_pc, _ = calc_chg(rev_c, rev_p); ebitda_pc, _ = calc_chg(ebitda_c, ebitda_p); fcf_pc, _ = calc_chg(fcf_c, fcf_p)
            lev_d = (lev_c - lev_p) if all(isinstance(x,(int,float)) and x is not None and not math.isnan(x) for x in [lev_c, lev_p]) else None
            margin_c = (ebitda_c / rev_c * 100) if rev_c and abs(rev_c) > 1e-9 and ebitda_c is not None else None
            margin_p = (ebitda_p / rev_p * 100) if rev_p and abs(rev_p) > 1e-9 and ebitda_p is not None else None
        except Exception as e: print(f"Calc Error: {e}"); analysis_status_label.value = f"<span style='color: red;'>Status: Calc Error</span>"; return

        analysis_status_label.value = "<span style='color: blue;'>Status: Formatting...</span>"

        # Generate Output HTML
        out = f"<h2>Financial Performance Summary</h2><p style='font-size:0.9em; color:grey;'><i>(Text analysis: {method})</i></p>"
        def fmt_qual(lbl, k): txt = qual_in.get(k, "N/A"); analysis = qual_an.get(k, ""); block = f"<div style='margin-left:15px; margin-top:3px; font-size:0.9em; color:#333; border-left: 2px solid #eee; padding-left: 5px;'><b>AI Analysis:</b> {analysis}</div>" if analysis and "<i>(" not in analysis and "N/A" not in analysis else (analysis if "<i>(" in analysis else ""); esc_txt = html.escape(txt) if txt else "N/A"; txt_disp = f"<p style='margin:2px 0; white-space:pre-wrap;'>{esc_txt}</p>"; return f"<li><b>{lbl}:</b> {txt_disp}{block}</li>"

        # Revenue
        out += "<h3>Revenue</h3><ul>"; s1 = "<li>Data incomplete.</li>"
        if rev_pc is not None: 
            if abs(rev_p or 0)<1e-9: s1 = f"<li>Revenue: <strong>{format_currency(rev_c)}</strong> (vs $0.0mm prior).</li>"
            else: d = "increased" if rev_pc >= 0 else "decreased"; d = "was ~flat" if abs(rev_pc) < 0.05 else d; s1 = f"<li>Revenue {d} <strong>{format_percentage(abs(rev_pc))}</strong> YoY to <strong>{format_currency(rev_c)}</strong> (from {format_currency(rev_p)}).</li>"
        elif rev_c is not None: s1 = f"<li>Current Revenue: <strong>{format_currency(rev_c)}</strong> (Prior N/A).</li>"
        out += s1; out += fmt_qual("Drivers/Factors", "Rev"); out += "</ul>"

        # EBITDA
        out += "<h3>EBITDA & Margin</h3><ul>"; s1 = "<li>Data incomplete.</li>"; s2 = "<li>Margin N/A.</li>" 
        if ebitda_pc is not None: 
            if abs(ebitda_p or 0)<1e-9: s1 = f"<li>EBITDA: <strong>{format_currency(ebitda_c)}</strong> (vs $0.0mm prior).</li>"
            else: d = "increased" if ebitda_pc >= 0 else "decreased"; d = "was ~flat" if abs(ebitda_pc) < 0.05 else d; s1 = f"<li>EBITDA {d} <strong>{format_percentage(abs(ebitda_pc))}</strong> YoY to <strong>{format_currency(ebitda_c)}</strong> (from {format_currency(ebitda_p)}).</li>"
            if margin_c is not None and margin_p is not None: margin_d = margin_c - margin_p; bps = margin_d * 100; s2 = f"<li>Margin stable at ~{format_percentage(margin_c)}.</li>" if abs(margin_d)<0.05 else f"<li>Margin {'expanded' if margin_d>0 else 'contracted'} {abs(bps):.0f} bps YoY to <strong>{format_percentage(margin_c)}</strong>.</li>"
            elif margin_c is not None: s2 = f"<li>Current margin: {format_percentage(margin_c)}.</li>"
        elif ebitda_c is not None: # Corrected elif logic
            s1 = f"<li>Current EBITDA: <strong>{format_currency(ebitda_c)}</strong> (Prior N/A).</li>"
            if margin_c is not None: s2 = f"<li>Current margin: {format_percentage(margin_c)}.</li>"
        out += s1; out += s2; out += fmt_qual("Drivers/Factors", "EBITDA"); out += "</ul>"
        
        # FCF
        out += "<h3>Free Cash Flow</h3><ul>"; s1 = "<li>Data incomplete.</li>"
        if fcf_pc is not None and fcf_c is not None and fcf_p is not None: 
            neg_p=fcf_p<-1e-9; neg_c=fcf_c<-1e-9; zero_p=abs(fcf_p)<1e-9
            if neg_p and not neg_c: s1 = f"<li>FCF improved to <strong>{format_currency(fcf_c)}</strong> (from {format_currency(fcf_p)}).</li>"
            elif not neg_p and neg_c: s1 = f"<li>FCF declined to <strong>{format_currency(fcf_c)}</strong> (from {format_currency(fcf_p)}).</li>"
            elif zero_p: s1 = f"<li>FCF: <strong>{format_currency(fcf_c)}</strong> (vs $0.0mm prior).</li>"
            elif neg_p and neg_c: d="improved" if fcf_c>fcf_p else "worsened"; s1 = f"<li>FCF {d} to <strong>{format_currency(fcf_c)}</strong> (from {format_currency(fcf_p)}).</li>"
            else: d="increased" if fcf_pc >= 0 else "decreased"; d="was ~flat" if abs(fcf_pc)<0.05 else d; s1 = f"<li>FCF {d} <strong>{format_percentage(abs(fcf_pc))}</strong> YoY to <strong>{format_currency(fcf_c)}</strong> (from {format_currency(fcf_p)}).</li>"
        elif fcf_c is not None: s1 = f"<li>Current FCF: <strong>{format_currency(fcf_c)}</strong> (Prior N/A).</li>"
        out += s1; out += fmt_qual("Drivers/Factors", "FCF"); out += "</ul>"

        # Leverage
        out += "<h3>Leverage</h3><ul>"; s1 = "<li>Data incomplete.</li>"
        if lev_d is not None and lev_c is not None and lev_p is not None: 
            delta=abs(lev_d); s1=f"<li>Leverage stable at ~<strong>{format_leverage(lev_c)}</strong>.</li>" if delta<0.05 else (f"<li>Leverage increased {delta:.1f}x YoY to <strong>{format_leverage(lev_c)}</strong>.</li>" if lev_d>0 else f"<li>Leverage decreased {delta:.1f}x YoY to <strong>{format_leverage(lev_c)}</strong>.</li>")
        elif lev_c is not None: s1 = f"<li>Current Leverage: <strong>{format_leverage(lev_c)}</strong> (Prior N/A).</li>"
        out += s1; out += fmt_qual("Drivers/Factors", "Lev"); out += "</ul>"
        
        # Display
        clear_output(wait=True); display(HTML(out)); 
        analysis_status_label.value = "<span style='color: green;'>Status: Analysis complete.</span>"; print("\nAnalysis finished.") 

# --- UI Layout Construction ---
load_models_button = widgets.Button(description="Load AI Models", button_style='warning', icon='download', tooltip="Load AI models")
load_models_button.on_click(on_load_models_click) # Link button

# Arrange section 1 (Parsing & Interactive QA)
pr_section = widgets.VBox([
    widgets.HTML("<b>Press Release Text & Parsing Control</b>"), 
    pr_input, 
    parse_btn, 
    parse_status_label, 
    parse_out, # Parsing process messages go here
    widgets.HTML("<hr style='margin: 10px 0;'><b>Interactive Follow-up QA:</b>"), 
    widgets.HTML("<p style='font-size:0.9em;'>Ask specific questions about the text above (AI models must be loaded).</p>"),
    widgets.HBox([custom_q_in, custom_q_btn]), # Custom question input & button
    custom_qa_status_label, 
    custom_q_out # Custom question results go here
])

# Arrange section 2 (Data Verification/Input)
manual_input_section = widgets.VBox([
     widgets.HTML("<b>Enter / Verify Financial Data ($ millions unless specified):</b>"),
     widgets.HTML("<b>Revenue</b>"), widgets.HBox([rev_c_in, rev_p_in]), rev_drv_in, 
     widgets.HTML("<hr style='margin:5px 0; border-top:1px dashed #ccc;'><b>EBITDA</b>"), widgets.HBox([ebitda_c_in, ebitda_p_in]), ebitda_drv_in, 
     widgets.HTML("<hr style='margin:5px 0; border-top:1px dashed #ccc;'><b>FCF</b>"), widgets.HBox([fcf_c_in, fcf_p_in]), fcf_drv_in, 
     widgets.HTML("<hr style='margin:5px 0; border-top:1px dashed #ccc;'><b>Leverage (x)</b>"), widgets.HBox([lev_c_in, lev_p_in]), lev_drv_in, 
])

# Use Accordion to structure the UI
ui_accordion = widgets.Accordion(children=[pr_section, manual_input_section])
ui_accordion.set_title(0, '1. Press Release & Interactive QA') 
ui_accordion.set_title(1, '2. Data Input / Verification')
ui_accordion.selected_index = 1 # Start with data input section open

# --- Final App Layout ---
app_layout = widgets.VBox([
    widgets.HTML("<h2>Financial Analysis Assistant v7</h2>"), # Added version
    widgets.HTML("<b>AI Model Control:</b>"), 
    widgets.HBox([load_models_button, load_status_label]), 
    widgets.HTML("<hr>"),
    ui_accordion, # Main input sections
    widgets.HTML("<hr>"),
    gen_btn, # Generate final report button
    analysis_status_label, # Status for final report generation
    analysis_out # Final report output area
])

# --- Link Buttons to Handlers ---
parse_btn.on_click(on_parse_button_click)
custom_q_btn.on_click(on_custom_qa_click) # Link interactive QA button
gen_btn.on_click(on_generate_click)

# --- Display the UI ---
print("Displaying UI...") 
display(app_layout)

# --- Post-Display Info ---
if not TRANSFORMERS_AVAILABLE: print("\nREMINDER: `transformers` missing/broken. Advanced AI features disabled.")

# %%-- End of Single Cell --%%
