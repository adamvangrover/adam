{
 "cells": [
  {
   "cell_type": "code",
   "execution_count": null,
   "metadata": {},
   "outputs": [],
   "source": [
    "import ccxt\n",
    "import pandas as pd\n",
    "import matplotlib.pyplot as plt"
   ]
  },
  {
   "cell_type": "code",
   "execution_count": null,
   "metadata": {},
   "outputs": [],
   "source": [
    "# Choose an exchange (e.g., Binance, Coinbase)\n",
    "# You might need to install ccxt with specific exchange support (e.g., pip install ccxt[binance])\n",
    "exchange_id = 'binance'  # Or another exchange\n",
    "\n",
    "try:\n",
    "    exchange_class = getattr(ccxt, exchange_id)\n",
    "    exchange = exchange_class()  # You might need API keys for some exchanges\n",
    "    exchange.load_markets()\n",
    "    print(f\"Connected to {exchange.name}\")\n",
    "except Exception as e:\n",
    "    print(f\"Error connecting to exchange: {e}\")"
   ]
  },
  {
   "cell_type": "code",
   "execution_count": null,
   "metadata": {},
   "outputs": [],
   "source": [
    "# Get crypto symbol from user (e.g., BTC/USDT, ETH/BTC)\n",
    "symbol = input(\"Enter crypto symbol (e.g., BTC/USDT): \")\n",
    "\n",
    "# Fetch historical data\n",
    "try:\n",
    "    ohlcv = exchange.fetch_ohlcv(symbol, '1d', limit=365)  # 1-day timeframe, adjust limit as needed\n",
    "    df = pd.DataFrame(ohlcv, columns=['timestamp', 'open', 'high', 'low', 'close', 'volume'])\n",
    "    df['timestamp'] = pd.to_datetime(df['timestamp'], unit='ms')\n",
    "    df.set_index('timestamp', inplace=True)\n",
    "    print(f\"Fetched {len(df)} days of data for {symbol}\")\n",
    "except Exception as e:\n",
    "    print(f\"Error fetching data: {e}\")"
   ]
  },
  {
   "cell_type": "code",
   "execution_count": null,
   "metadata": {},
   "outputs": [],
   "source": [
    "# Plot the closing prices\n",
    "plt.figure(figsize=(12, 6))\n",
    "plt.plot(df['close'], label=f'{symbol} Closing Price')\n",
    "plt.title(f'{symbol} Price Chart')\n",
    "plt.xlabel('Date')\n",
    "plt.ylabel('Price')\n",
    "plt.legend()\n",
    "plt.grid(True)\n",
    "plt.show()"
   ]
  },
  {
   "cell_type": "code",
   "execution_count": null,
   "metadata": {},
   "outputs": [],
   "source": [
    "# Calculate a simple moving average (SMA)\n",
    "df['SMA_20'] = df['close'].rolling(window=20).mean()  # 20-day SMA\n",
    "\n",
    "# Plot the closing prices with the SMA\n",
    "plt.figure(figsize=(12, 6))\n",
    "plt.plot(df['close'], label=f'{symbol} Closing Price')\n",
    "plt.plot(df['SMA_20'], label='20-day SMA')\n",
    "plt.title(f'{symbol} Price Chart with SMA')\n",
    "plt.xlabel('Date')\n",
    "plt.ylabel('Price')\n",
    "plt.legend()\n",
    "plt.grid(True)\n",
    "plt.show()"
   ]
  }
 ],
 "metadata": {
  "kernelspec": {
   "display_name": "Python 3",
   "language": "python",
   "name": "python3"
  },
  "language_info": {
   "codemirror_mode": {
    "name": "ipython",
    "version": 3
   },
   "file_extension": ".py",
   "mimetype": "text/x-python",
   "name": "python",
   "nbconvert_exporter": "python",
   "pygments_lexer": "ipython3",
   "version": "3.9.13"
  }
 },
 "nbformat": 4,
 "nbformat_minor": 4
}
