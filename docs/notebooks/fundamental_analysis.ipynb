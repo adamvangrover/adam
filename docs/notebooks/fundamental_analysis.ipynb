import yfinance as yf
import pandas as pd
import matplotlib.pyplot as plt

# Get company ticker from user
ticker = input("Enter company ticker: ")

# Get company data using yfinance
company = yf.Ticker(ticker)

# Get financial statements
income_statement = company.financials
balance_sheet = company.balance_sheet
cash_flow = company.cashflow

# Print available data types to help the user explore
print("Available data types:")
print("Income Statement:", list(income_statement.index))
print("Balance Sheet:", list(balance_sheet.index))
print("Cash Flow Statement:", list(cash_flow.index))

# Calculate key financial ratios

# Price-to-Earnings (P/E) Ratio
try:
    pe_ratio = company.info['trailingPE']
    print(f"P/E Ratio: {pe_ratio:.2f}")
except KeyError:
    print("P/E Ratio not available")

# Debt-to-Equity Ratio
try:
    total_liabilities = balance_sheet.loc['Total Liab'].iloc[0]
    total_stockholder_equity = balance_sheet.loc['Total Stockholder Equity'].iloc[0]
    debt_to_equity_ratio = total_liabilities / total_stockholder_equity
    print(f"Debt-to-Equity Ratio: {debt_to_equity_ratio:.2f}")
except (KeyError, IndexError):
    print("Debt-to-Equity Ratio not available")


# ... (rest of the code is the same) ...

# Return on Equity (ROE)
try:
    net_income = income_statement.loc['Net Income'].iloc[0]
    # Get total_stockholder_equity within the ROE try block
    total_stockholder_equity = balance_sheet.loc['Total Stockholder Equity'].iloc[0]  
    roe = net_income / total_stockholder_equity
    print(f"Return on Equity (ROE): {roe:.2f}")
except (KeyError, IndexError):
    print("Return on Equity (ROE) not available")

# ... (rest of the code is the same) ...

# Visualize historical price data
historical_data = company.history(period="1y")  # You can adjust the period

plt.figure(figsize=(10, 5))
plt.plot(historical_data['Close'])
plt.title(f"{ticker} Historical Closing Price")
plt.xlabel("Date")
plt.ylabel("Closing Price")
plt.grid(True)
plt.show()
