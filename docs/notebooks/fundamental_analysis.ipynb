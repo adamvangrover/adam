{
 "cells": [
  {
   "cell_type": "code",
   "execution_count": null,
   "metadata": {},
   "outputs":,
   "source": [
    "import yfinance as yf\n",
    "import pandas as pd\n",
    "import matplotlib.pyplot as plt"
   ]
  },
  {
   "cell_type": "code",
   "execution_count": null,
   "metadata": {},
   "outputs":,
   "source": [
    "# Get company ticker from user\n",
    "ticker = input(\"Enter company ticker: \")\n",
    "\n",
    "# Get company data using yfinance\n",
    "company = yf.Ticker(ticker)"
   ]
  },
  {
   "cell_type": "code",
   "execution_count": null,
   "metadata": {},
   "outputs":,
   "source": [
    "# Get financial statements\n",
    "income_statement = company.financials\n",
    "balance_sheet = company.balance_sheet\n",
    "cash_flow = company.cashflow\n",
    "\n",
    "# Print available data types to help the user explore\n",
    "print(\"Available data types:\")\n",
    "print(\"Income Statement:\", list(income_statement.index))\n",
    "print(\"Balance Sheet:\", list(balance_sheet.index))\n",
    "print(\"Cash Flow Statement:\", list(balance_sheet.index))\n",
    "print(\"Cash Flow Statement:\", list(cash_flow.index))"
   ]
  },
  {
   "cell_type": "code",
   "execution_count": null,
   "metadata": {},
   "outputs":,
   "source": [
    "# Calculate key financial ratios\n",
    "\n",
    "# Price-to-Earnings (P/E) Ratio\n",
    "try:\n",
    "    pe_ratio = company.info['trailingPE']\n",
    "    print(f\"P/E Ratio: {pe_ratio:.2f}\")\n",
    "except KeyError:\n",
    "    print(\"P/E Ratio not available\")\n",
    "\n",
    "# Debt-to-Equity Ratio\n",
    "try:\n",
    "    total_liabilities = balance_sheet.loc['Total Liab'].iloc[0]\n",
    "    total_stockholder_equity = balance_sheet.loc['Total Stockholder Equity'].iloc[0]\n",
    "    debt_to_equity_ratio = total_liabilities / total_stockholder_equity\n",
    "    print(f\"Debt-to-Equity Ratio: {debt_to_equity_ratio:.2f}\")\n",
    "except (KeyError, IndexError):\n",
    "    print(\"Debt-to-Equity Ratio not available\")"
   ]
  },
  {
   "cell_type": "code",
   "execution_count": null,
   "metadata": {},
   "outputs":,
   "source": [
    "# Return on Equity (ROE)\n",
    "try:\n",
    "    net_income = income_statement.loc['Net Income'].iloc[0]\n",
    "    # Get total_stockholder_equity within the ROE try block\n",
    "    total_stockholder_equity = balance_sheet.loc['Total Stockholder Equity'].iloc[0]    \n",
    "    roe = net_income / total_stockholder_equity\n",
    "    print(f\"Return on Equity (ROE): {roe:.2f}\")\n",
    "except (KeyError, IndexError):\n",
    "    print(\"Return on Equity (ROE) not available\")"
   ]
  },
  {
   "cell_type": "code",
   "execution_count": null,
   "metadata": {},
   "outputs":,
   "source": [
    "# Visualize historical price data\n",
    "historical_data = company.history(period=\"1y\")  # You can adjust the period\n",
    "\n",
    "plt.figure(figsize=(10, 5))\n",
    "plt.plot(historical_data['Close'])\n",
    "plt.title(f\"{ticker} Historical Closing Price\")\n",
    "plt.xlabel(\"Date\")\n",
    "plt.ylabel(\"Closing Price\")\n",
    "plt.grid(True)\n",
    "plt.show()"
   ]
  }
 ],
 "metadata": {
  "kernelspec": {
   "display_name": "Python 3",
   "language": "python",
   "name": "python3"
  },
  "language_info": {
   "codemirror_mode": {
    "name": "ipython",
    "version": 3
   },
   "file_extension": ".py",
   "mimetype": "text/x-python",
   "name": "python",
   "nbconvert_exporter": "python",
   "pygments_lexer": "ipython3",
   "version": "3.9.13"
  }
 },
 "nbformat": 4,
 "nbformat_minor": 4
}
