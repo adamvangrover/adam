{
 "cells": [
  {
   "cell_type": "markdown",
   "metadata": {},
   "source": [
    "### Interactive Corporate Credit Risk Analysis\n",
    "\n",
    "This notebook provides an interactive tool for corporate credit risk analysis. It uses a simplified S&P framework, key financial metrics, and DCF/EV calculations to generate a credit rating report and simplified financial outputs. Users can input company-specific data to receive a personalized analysis."
   ]
  },
  {
   "cell_type": "code",
   "execution_count": null,
   "metadata": {},
   "outputs": [],
   "source": [
    "import ipywidgets as widgets\n",
    "from IPython.display import display\n",
    "import pandas as pd\n",
    "import numpy as np\n",
    "import matplotlib.pyplot as plt"
   ]
  },
  {
   "cell_type": "markdown",
   "metadata": {},
   "source": [
    "### User Input Section\n",
    "\n",
    "Below, you can input the company's financial data and assumptions for the analysis."
   ]
  },
  {
   "cell_type": "code",
   "execution_count": null,
   "metadata": {},
   "outputs": [],
   "source": [
    "# --- Input Widgets ---\n",
    "company_name_input = widgets.Text(description='Company Name')\n",
    "ticker_symbol_input = widgets.Text(description='Ticker Symbol')\n",
    "\n",
    "revenue_input = widgets.FloatText(description='Revenue')\n",
    "ebitda_input = widgets.FloatText(description='EBITDA')\n",
    "cash_input = widgets.FloatText(description='Cash')\n",
    "total_debt_input = widgets.FloatText(description='Total Debt')\n",
    "capex_input = widgets.FloatText(description='Capex')\n",
    "interest_expense_input = widgets.FloatText(description='Interest Expense')\n",
    "market_cap_input = widgets.FloatText(description='Market Cap')  # For EV\n",
    "growth_rate_input = widgets.FloatText(description='Growth Rate (%)')  # For DCF\n",
    "discount_rate_input = widgets.FloatText(description='Discount Rate (%)')  # For DCF\n",
    "terminal_growth_input = widgets.FloatText(description='Terminal Growth (%)')  # For DCF\n",
    "\n",
    "# --- Helper Function to Display Inputs ---\n",
    "def display_inputs():\n",
    "    display(company_name_input, ticker_symbol_input, revenue_input, ebitda_input, cash_input,\n",
    "            total_debt_input, capex_input, interest_expense_input, market_cap_input, growth_rate_input,\n",
    "            discount_rate_input, terminal_growth_input)"
   ]
  },
  {
   "cell_type": "markdown",
   "metadata": {},
   "source": [
    "### Input Validation and Error Handling\n",
    "\n",
    "The following code validates the user inputs to ensure they are positive and reasonable."
   ]
  },
  {
   "cell_type": "code",
   "execution_count": null,
   "metadata": {},
   "outputs": [],
   "source": [
    "# --- Input Validation Function ---\n",
    "def validate_inputs(data):\n",
    "    \"\"\"\n",
    "    Validates the user input data to ensure they are positive and reasonable.\n",
    "    \"\"\"\n",
    "    for field, value in data.items():\n",
    "        if value <= 0:\n",
    "            raise ValueError(f\"{field} must be a positive value.\")\n",
    "    return True"
   ]
  },
  {
   "cell_type": "markdown",
   "metadata": {},
   "source": [
    "### Calculations\n",
    "\n",
    "This section contains the calculations for financial ratios, credit rating predictions, DCF, and EV analysis."
   ]
  },
  {
   "cell_type": "code",
   "execution_count": null,
   "metadata": {},
   "outputs": [],
   "source": [
    "# --- Calculation Functions ---\n",
    "def calculate_ratios(data):\n",
    "    \"\"\"\n",
    "    Calculates key financial ratios.\n",
    "    \"\"\"\n",
    "    debt_to_ebitda = data['Total Debt'] / data['EBITDA'] if data['EBITDA'] != 0 else 0\n",
    "    interest_coverage = data['EBITDA'] / data['Interest Expense'] if data['Interest Expense'] != 0 else 0\n",
    "    debt_to_equity = data['Total Debt'] / data['Cash'] if data['Cash'] != 0 else 0\n",
    "    ebitda_margin = data['EBITDA'] / data['Revenue'] if data['Revenue'] != 0 else 0\n",
    "\n",
    "    return {\n",
    "        'Debt-to-EBITDA': debt_to_ebitda,\n",
    "        'Interest Coverage': interest_coverage,\n",
    "        'Debt-to-Equity': debt_to_equity,\n",
    "        'EBITDA Margin': ebitda_margin\n",
    "    }\n",
    "\n",
    "def predict_rating(ratios):\n",
    "    \"\"\"\n",
    "    Predicts the credit rating based on calculated ratios.\n",
    "    \"\"\"\n",
    "    debt_to_ebitda = ratios['Debt-to-EBITDA']\n",
    "    interest_coverage = ratios['Interest Coverage']\n",
    "    ebitda_margin = ratios['EBITDA Margin']\n",
    "\n",
    "    if debt_to_ebitda < 2.5 and interest_coverage > 5 and ebitda_margin > 0.2:\n",
    "        rating = 'AA'\n",
    "    elif 2.5 <= debt_to_ebitda <= 3.5 and interest_coverage > 3 and ebitda_margin > 0.15:\n",
    "        rating = 'A'\n",
    "    elif 3.5 < debt_to_ebitda <= 4.5 and interest_coverage > 2 and ebitda_margin > 0.1:\n",
    "        rating = 'BBB'\n",
    "    else:\n",
    "        rating = 'BB'\n",
    "\n",
    "    return rating\n",
    "\n",
    "def calculate_dcf(data):\n",
    "    \"\"\"\n",
    "    Performs a simplified Discounted Cash Flow (DCF) calculation.\n",
    "    \"\"\"\n",
    "    fcf = data['EBITDA'] - data['Capex']\n",
    "    pv_fcf = 0\n",
    "    for year in range(1, 6):\n",
    "        fcf *= (1 + data['Growth Rate'])\n",
    "        pv_fcf += fcf / (1 + data['Discount Rate'])**year\n",
    "    terminal_value = fcf / data['Discount Rate']\n",
    "    pv_terminal_value = terminal_value / (1 + data['Discount Rate'])**5\n",
    "    enterprise_value = pv_fcf + pv_terminal_value\n",
    "    return {\n",
    "        'Present Value of FCF': pv_fcf,\n",
    "        'Terminal Value': pv_terminal_value,\n",
    "        'Enterprise Value': enterprise_value\n",
    "    }\n",
    "\n",
    "def calculate_ev(data):\n",
    "    \"\"\"\n",
    "    Performs a simplified Enterprise Value (EV) calculation.\n",
    "    \"\"\"\n",
    "    return data['Market Cap'] + data['Total Debt'] - data['Cash']"
   ]
  },
  {
   "cell_type": "markdown",
   "metadata": {},
   "source": [
    "### Visualizations\n",
    "\n",
    "The following plot displays the results of the DCF and EV calculations."
   ]
  },
  {
   "cell_type": "code",
   "execution_count": null,
   "metadata": {},
   "outputs": [],
   "source": [
    "# --- Plotting Function ---\n",
    "def plot_results(dcf_output, ev_output):\n",
    "    \"\"\"\n",
    "    Plots the simplified DCF and EV results.\n",
    "    \"\"\"\n",
    "    labels = ['Present Value of FCF', 'Terminal Value', 'Enterprise Value']\n",
    "    values = [dcf_output['Present Value of FCF'], dcf_output['Terminal Value'], dcf_output['Enterprise Value']]\n",
    "    plt.bar(labels, values)\n",
    "    plt.title('Simplified DCF Results')\n",
    "    plt.show()"
   ]
  },
  {
   "cell_type": "markdown",
   "metadata": {},
   "source": [
    "### Dynamic Execution\n",
    "\n",
    "Click the button below to calculate the credit rating and financial outputs."
   ]
  },
  {
   "cell_type": "code",
   "execution_count": null,
   "metadata": {},
   "outputs": [],
   "source": [
    "# --- Button Click Event ---\n",
    "def on_button_click(b):\n",
    "    try:\n",
    "        # Retrieve data from user input\n",
    "        user_data = {\n",
    "            'Company Name': company_name_input.value,\n",
    "            'Ticker Symbol': ticker_symbol_input.value,\n",
    "            'Revenue': revenue_input.value,\n",
    "            'EBITDA': ebitda_input.value,\n",
    "            'Cash': cash_input.value,\n",
    "            'Total Debt': total_debt_input.value,\n",
    "            'Capex': capex_input.value,\n",
    "            'Interest Expense': interest_expense_input.value,\n",
    "            'Market Cap': market_cap_input.value,\n",
    "            'Growth Rate': growth_rate_input.value / 100,  # Convert to decimal\n",
    "            'Discount Rate': discount_rate_input.value / 100,  # Convert to decimal\n",
    "            'Terminal Growth': terminal_growth_input.value / 100  # Convert to decimal\n",
    "        }\n",
    "        # Validate Inputs\n",
    "        validate_inputs(user_data)\n",
    "        # Calculate financial ratios\n",
    "        ratios = calculate_ratios(user_data)\n",
    "        # Predict Credit Rating\n",
    "        rating = predict_rating(ratios)\n",
    "        # Perform DCF and EV calculations\n",
    "        dcf_output = calculate_dcf(user_data)\n",
    "        ev_output = calculate_ev(user_data)\n",
    "        # Display results\n",
    "        display(f\"Predicted Credit Rating: {rating}\")\n",
    "        display(f\"Debt-to-EBITDA: {ratios['Debt-to-EBITDA']:.2f}\")\n",
    "        display(f\"Interest Coverage: {ratios['Interest Coverage']:.2f}\")\n",
    "        display(f\"Debt-to-Equity: {ratios['Debt-to-Equity']:.2f}\")\n",
    "        display(f\"EBITDA Margin: {ratios['EBITDA Margin']:.2f}\")\n",
    "        display(f\"Present Value of Free Cash Flows: {dcf_output['Present Value of FCF']:.2f}\")\n",
    "        display(f\"Terminal Value: {dcf_output['Terminal Value']:.2f}\")\n",
    "        display(f\"Enterprise Value: {dcf_output['Enterprise Value']:.2f}\")\n",
    "        display(f\"Enterprise Value (EV): {ev_output:.2f}\")\n",
    "        # Plot Results\n",
    "        plot_results(dcf_output, ev_output)\n",
    "    except ValueError as e:\n",
    "        display(f\"Error: {e}\")\n",
    "        display_inputs()\n",
    "\n",
    "# --- Add a Button to Trigger Calculations ---\n",
    "button = widgets.Button(description='Calculate Credit Rating')\n",
    "button.on_click(on_button_click)\n",
    "display(button)"
   ]
  }
 ],
 "metadata": {},
 "nbformat": 4,
 "nbformat_minor": 5
}
