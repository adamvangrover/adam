{
 "cells": [
  {
   "cell_type": "code",
   "execution_count": null,
   "metadata": {},
   "outputs": [],
   "source": [
    "import yfinance as yf\n",
    "import pandas as pd\n",
    "import matplotlib.pyplot as plt"
   ]
  },
  {
   "cell_type": "code",
   "execution_count": null,
   "metadata": {},
   "outputs": [],
   "source": [
    "# Get company ticker from user\n",
    "ticker = input(\"Enter company ticker: \")\n",
    "\n",
    "# Get company data using yfinance\n",
    "company = yf.Ticker(ticker)"
   ]
  },
  {
   "cell_type": "code",
   "execution_count": null,
   "metadata": {},
   "outputs": [],
   "source": [
    "# Get historical price data\n",
    "historical_data = company.history(period=\"1y\")  # You can adjust the period\n",
    "df = historical_data.copy()"
   ]
  },
  {
   "cell_type": "code",
   "execution_count": null,
   "metadata": {},
   "outputs": [],
   "source": [
    "# Calculate Moving Averages\n",
    "df['SMA_20'] = df['Close'].rolling(window=20).mean()  # 20-day Simple Moving Average\n",
    "df['SMA_50'] = df['Close'].rolling(window=50).mean()  # 50-day Simple Moving Average"
   ]
  },
  {
   "cell_type": "code",
   "execution_count": null,
   "metadata": {},
   "outputs": [],
   "source": [
    "# Calculate Relative Strength Index (RSI)\n",
    "delta = df['Close'].diff()\n",
    "up = delta.clip(lower=0)\n",
    "down = -1 * delta.clip(upper=0)\n",
    "ema_up = up.rolling(window=14).mean()\n",
    "ema_down = down.rolling(window=14).mean()\n",
    "rs = ema_up / ema_down\n",
    "df['RSI'] = 100 - (100 / (1 + rs))"
   ]
  },
  {
   "cell_type": "code",
   "execution_count": null,
   "metadata": {},
   "outputs": [],
   "source": [
    "# Plotting the Price Chart with Moving Averages\n",
    "plt.figure(figsize=(12, 6))\n",
    "plt.plot(df['Close'], label='Closing Price')\n",
    "plt.plot(df['SMA_20'], label='20-day SMA')\n",
    "plt.plot(df['SMA_50'], label='50-day SMA')\n",
    "plt.title(f\"{ticker} Price Chart with Moving Averages\")\n",
    "plt.xlabel(\"Date\")\n",
    "plt.ylabel(\"Price\")\n",
    "plt.legend()\n",
    "plt.grid(True)\n",
    "plt.show()"
   ]
  },
  {
   "cell_type": "code",
   "execution_count": null,
   "metadata": {},
   "outputs": [],
   "source": [
    "# Plotting the RSI\n",
    "plt.figure(figsize=(12, 4))\n",
    "plt.plot(df['RSI'], label='RSI')\n",
    "plt.title(f\"{ticker} Relative Strength Index (RSI)\")\n",
    "plt.xlabel(\"Date\")\n",
    "plt.ylabel(\"RSI\")\n",
    "plt.axhline(70, color='red', linestyle='--', label='Overbought (70)')\n",
    "plt.axhline(30, color='green', linestyle='--', label='Oversold (30)')\n",
    "plt.legend()\n",
    "plt.grid(True)\n",
    "plt.show()"
   ]
  }
 ],
 "metadata": {
  "kernelspec": {
   "display_name": "Python 3",
   "language": "python",
   "name": "python3"
  },
  "language_info": {
   "codemirror_mode": {
    "name": "ipython",
    "version": 3
   },
   "file_extension": ".py",
   "mimetype": "text/x-python",
   "name": "python",
   "nbconvert_exporter": "python",
   "pygments_lexer": "ipython3",
   "version": "3.9.13"
  }
 },
 "nbformat": 4,
 "nbformat_minor": 4
}
