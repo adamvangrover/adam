# =============================================================================
# Integrated Credit Analysis Tool - Combined Notebook v1.3 (Fixes Indentation Error)
# Purpose: Generates Corp Credit Rating (S&P), Justification, Outlook, Triggers,
#          Simple DCF, and Regulatory Rating (SNC) based on user inputs.
# Required Libraries: pandas, numpy, matplotlib, seaborn, ipywidgets, textblob, IPython
# Runs in a single Jupyter Notebook cell.
# =============================================================================

# =============================================================================
# Step 1: Imports
# =============================================================================
import pandas as pd
import numpy as np
import matplotlib.pyplot as plt
import matplotlib.ticker as mticker # For formatting axes
import seaborn as sns
import ipywidgets as widgets
from ipywidgets import VBox, HBox, HTML, Label, Layout, Button, Textarea, FloatText, Tab
from IPython.display import display, clear_output
import re
from textblob import TextBlob
import warnings
import traceback # For detailed error printing
import json # To potentially load data if moved externally later
from math import sqrt # For potential future use (e.g., volatility)

print("Libraries imported successfully.")

# =============================================================================
# Step 1.5: Configuration, Constants & Embedded Data
# =============================================================================
warnings.filterwarnings('ignore', category=FutureWarning, module='seaborn')
warnings.filterwarnings('ignore', category=UserWarning, module='matplotlib')

# --- Analysis Constants ---
FACTOR_KEYWORDS = {
    "Management & Governance": ["management", "leadership", "CEO", "executive", "board", "strategy", "track record", "guidance", "governance", "shareholder rights", "compensation", "ethics", "audit", "transparency", "internal control", "compliance", "board independence", "executive pay", "shareholder alignment", "business ethics", "risk management oversight"],
    "Financial Policy": ["financial policy", "dividend", "share repurchase", "buyback", "acquisition", "M&A", "leverage target", "capital allocation", "debt reduction", "funding", "financing", "debt structure", "maturity profile"],
    "Competitive Position & Industry": ["market share", "competition", "competitors", "competitive advantage", "pricing power", "industry position", "market leadership", "moat", "industry growth", "industry cyclicality", "barriers to entry"],
    "Operational Effectiveness & Scalability": ["operational efficiency", "cost structure", "asset turnover", "supply chain", "scalability", "cost position", "resilience"],
    "Other Factors (Reg/Legal/Macro/Subs)": ["substitution", "disruption", "alternative products", "technological change", "obsolescence", "regulation", "legal", "government policy", "antitrust", "scrutiny", "tariffs", "litigation", "macroeconomic", "GDP", "inflation", "recession", "interest rates"],
    "Cash Flow Sustainability": ["cash flow stability", "recurring revenue", "customer churn", "long-term contracts", "backlog", "visibility", "subscriber base", "subscription"],
    "ESG - Environmental": ["environment", "climate", "emissions", "GHG", "greenhouse gas", "carbon footprint", "sustainability", "waste", "water", "pollution", "renewable energy", "biodiversity", "spill", "environmental impact", "climate risk", "transition risk"],
    "ESG - Social": ["social", "employees", "labor", "diversity", "inclusion", "health", "safety", "community", "human rights", "data privacy", "product safety", "supply chain labor", "stakeholder relations"],
    "ESG - Governance (Detail)": ["board independence", "executive pay", "shareholder alignment", "business ethics", "reporting transparency", "audit committee", "risk management oversight", "shareholder activism"]
}
QUALITATIVE_FACTOR_NAMES = [
    "Management & Governance", "Financial Policy", "Competitive Position & Industry",
    "Operational Effectiveness & Scalability", "Cash Flow Sustainability", "Other Factors (Reg/Legal/Macro/Subs)"
]
ESG_CATEGORIES = {"Environment": "ESG - Environmental", "Social": "ESG - Social", "Governance": "ESG - Governance (Detail)"}

RATING_SCORE_MAP_DETAILED = {
    (95, 101): "AAA", (90, 95): "AA+", (85, 90): "AA", (80, 85): "AA-",
    (75, 80): "A+", (70, 75): "A", (65, 70): "A-",
    (60, 65): "BBB+", (55, 60): "BBB", (50, 55): "BBB-",
    (45, 50): "BB+", (40, 45): "BB", (35, 40): "BB-",
    (30, 35): "B+", (25, 30): "B", (20, 25): "B-",
    (15, 20): "CCC", (10, 15): "CC", (5, 10): "C", (0, 5): "D"
}
LEVERAGE_TO_SCORE_MAP = [
    (1.0, 97), (2.0, 87), (3.0, 72), (4.0, 57), (5.0, 42), (6.0, 27), (float('inf'), 17)
]

SNC_CRITERIA = {
    "Pass": {"Leverage_max": 4.0, "CumFCF_Debt_min": 0.50, "description": "Strong repayment capacity, moderate leverage."},
    "Special Mention": {"Leverage_max": 5.0, "CumFCF_Debt_min": 0.40, "description": "Adequate capacity, higher leverage or potential weaknesses."},
    "Substandard": {"Leverage_max": 6.0, "CumFCF_Debt_min": 0.30, "description": "Weak capacity, high leverage, distinct weaknesses evident."},
    "Doubtful": {"Leverage_max": 8.0, "CumFCF_Debt_min": 0.10, "description": "Collection highly questionable. Leverage very high or coverage very weak."},
    "Loss": {"Leverage_max": float('inf'), "CumFCF_Debt_min": -float('inf'), "description": "Considered uncollectible. Metrics severely distressed or defaulted."}
}
SNC_RATING_ORDER = ["Pass", "Special Mention", "Substandard", "Doubtful", "Loss"]

SENTIMENT_THRESHOLDS = {'positive': 0.15, 'negative': -0.15}
ESG_RATING_THRESHOLDS = {'high': 0.25, 'low': -0.20}
QUAL_SCORE_ADJUSTMENT_THRESHOLD = 0.20
ESG_SCORE_ADJUSTMENT_THRESHOLD = 0.30
ADJUSTMENT_POINTS = 5
MAX_ADJUSTMENT_COUNT = 1

LEVERAGE_TRIGGERS = {'Maintain_BBB_max': 4.0, 'Risk_Below_BB_max': 5.0, 'High_Leverage_Risk': 6.0}

def map_polarity_to_score(polarity):
    if polarity > 0.5: score = 9 + (polarity - 0.5) * 2
    elif polarity > SENTIMENT_THRESHOLDS['positive']: score = 7 + (polarity - SENTIMENT_THRESHOLDS['positive']) * (2 / (0.5 - SENTIMENT_THRESHOLDS['positive']))
    elif polarity >= SENTIMENT_THRESHOLDS['negative']: score = 4 + (polarity - SENTIMENT_THRESHOLDS['negative']) * (3 / (SENTIMENT_THRESHOLDS['positive'] - SENTIMENT_THRESHOLDS['negative']))
    elif polarity > -0.5: score = 2 + (polarity - (-0.5)) * (2 / (SENTIMENT_THRESHOLDS['negative'] - (-0.5)))
    else: score = 0 + max(0, polarity + 1.0) * 2
    return round(max(0, min(10, score)), 1)

print("Configuration and constants loaded.")
# =============================================================================
# Step 2: Quantitative & DCF Analysis Functions
# =============================================================================
def calculate_projections(revenue, revenue_cagr, ebitda_margin, fcf_conversion, starting_debt, amortization, d_and_a_percent_rev, capex_percent_rev, nwc_percent_rev):
    """Calculates financial projections (Rev, EBITDA, UFCF, FCF, Debt, Leverage) over 7 years."""
    projections = []; cumulative_fcf = 0; current_debt = starting_debt; last_revenue = revenue;
    # Estimate initial NWC robustly
    initial_nwc_perc = nwc_percent_rev[0] if nwc_percent_rev else 0.0
    last_nwc = revenue * initial_nwc_perc

    if not all(isinstance(val, list) and len(val) == 7 for val in [revenue_cagr, ebitda_margin, fcf_conversion, amortization, d_and_a_percent_rev, capex_percent_rev, nwc_percent_rev]):
        raise ValueError("Yearly input lists must have 7 elements.")
    if not isinstance(revenue, (int, float)) or not isinstance(starting_debt, (int, float)):
        raise ValueError("Initial Revenue and Starting Net Debt must be numbers.")

    current_revenue = revenue
    for year in range(1, 8):
        idx = year - 1
        current_revenue *= (1 + revenue_cagr[idx])
        ebitda = current_revenue * ebitda_margin[idx]
        d_and_a = current_revenue * d_and_a_percent_rev[idx]
        ebit = ebitda - d_and_a
        tax_rate_approx = 0.25 # Simplified
        nopat = ebit * (1 - tax_rate_approx)
        capex = current_revenue * capex_percent_rev[idx]
        current_nwc = current_revenue * nwc_percent_rev[idx]
        change_nwc = current_nwc - last_nwc
        ufcf = nopat + d_and_a - capex - change_nwc

        next_debt = max(0, current_debt - amortization[idx])
        leverage = np.nan if ebitda <= 1e-6 else max(0, next_debt / ebitda)

        reported_fcf_proxy = ebitda * fcf_conversion[idx]
        cumulative_fcf += reported_fcf_proxy

        cumulative_fcf_debt = np.nan
        if next_debt > 1e-6: cumulative_fcf_debt = cumulative_fcf / next_debt
        elif cumulative_fcf > 1e-6: cumulative_fcf_debt = np.inf
        else: cumulative_fcf_debt = 0.0

        projections.append({
            'Year': year, 'Revenue': current_revenue, 'EBITDA': ebitda, 'EBIT': ebit,
            'D&A': d_and_a, 'CapEx': capex, 'Change NWC': change_nwc, 'UFCF': ufcf,
            'Reported FCF Proxy': reported_fcf_proxy,
            'Debt (EoY)': next_debt, 'Leverage (EoY Debt/EBITDA)': leverage,
            'Cumulative FCF/EoY Debt': cumulative_fcf_debt, 'Cumulative FCF': cumulative_fcf
        })
        current_debt = next_debt
        last_revenue = current_revenue
        last_nwc = current_nwc

    return pd.DataFrame(projections)

def map_leverage_to_score(leverage):
    """Maps average Debt/EBITDA leverage to an initial score (0-100)."""
    if pd.isna(leverage) or leverage == float('inf') or leverage < 0:
        return 17 # CCC score
    for threshold, score in LEVERAGE_TO_SCORE_MAP:
        if leverage < threshold:
            return score
    return 17 # Default CCC score

def map_score_to_rating(score):
    """Maps a final score (0-100) to the detailed S&P-like rating scale."""
    if pd.isna(score): return "N/A"
    score = max(0, min(100, score))
    for (lower, upper), rating in RATING_SCORE_MAP_DETAILED.items():
        if lower <= score < upper:
            return rating
    return "D"

def calculate_simple_dcf(df_projections, wacc, terminal_growth_rate, shares_outstanding, starting_net_debt):
    """Performs a simple DCF analysis using projected UFCF."""
    if df_projections is None or df_projections.empty or 'UFCF' not in df_projections.columns:
        raise ValueError("Projection data frame is missing or incomplete for DCF.")
    if not (0 < wacc < 1): raise ValueError("WACC must be between 0 and 1.")
    if not (-0.05 < terminal_growth_rate < wacc): raise ValueError("Terminal Growth Rate must be realistic and less than WACC.")
    if shares_outstanding <= 0: raise ValueError("Shares Outstanding must be positive.")
    if not isinstance(starting_net_debt, (int, float)): raise ValueError("Starting Net Debt must be a number.")

    pv_ufcf = 0
    for i, row in df_projections.iterrows():
        # Ensure UFCF is numeric before discounting
        ufcf_val = row.get('UFCF', 0)
        if not isinstance(ufcf_val, (int, float)): ufcf_val = 0
        pv_ufcf += ufcf_val / ((1 + wacc) ** (i + 1))

    last_ufcf = df_projections['UFCF'].iloc[-1]
    # Ensure last_ufcf is numeric
    if not isinstance(last_ufcf, (int, float)): last_ufcf = 0

    if (wacc - terminal_growth_rate) <= 1e-6:
        raise ValueError("WACC is too close to Terminal Growth Rate for TV calculation.")
    terminal_value = last_ufcf * (1 + terminal_growth_rate) / (wacc - terminal_growth_rate)
    pv_terminal_value = terminal_value / ((1 + wacc) ** len(df_projections))
    enterprise_value = pv_ufcf + pv_terminal_value
    equity_value = enterprise_value - starting_net_debt
    implied_share_price = equity_value / shares_outstanding

    return {
        "Enterprise Value": enterprise_value, "PV UFCFs": pv_ufcf, "PV Terminal Value": pv_terminal_value,
        "Implied Equity Value": equity_value, "Implied Share Price": implied_share_price,
        "Terminal Value % of EV": (pv_terminal_value / enterprise_value) if enterprise_value and enterprise_value != 0 else 0 # Avoid division by zero
    }

print("Quantitative and DCF functions defined.")
# =============================================================================
# Step 3: Qualitative and ESG Analysis Functions
# =============================================================================
def split_into_sentences_regex(text):
    if not isinstance(text, str) or not text.strip(): return []
    try:
        text = re.sub(r'\s+', ' ', text).strip()
        sentences = re.split(r'(?<!\w\.\w.)(?<![A-Z][a-z]\.)(?<![A-Z]\.)(?<!\s[A-Z])(?<!\sCo)\.(?!\s*[a-z])(?<!\d)\.(?!\d)(?<=\.|\?|\!)\s+', text)
        return [s.strip() for s in sentences if s and s.strip()]
    except Exception as e: print(f"Error during regex sentence splitting: {e}"); return []

def find_relevant_sentences(text, keywords, context_window=0):
    if not isinstance(text, str) or not text.strip(): return ""
    try: sentences = split_into_sentences_regex(text)
    except Exception as e: print(f"Error calling regex sentence splitting: {e}. Text snippet: '{text[:100]}...'"); return ""
    if not sentences: return ""
    relevant_texts_set = set()
    original_indices = {sent: i for i, sent in enumerate(sentences)}

    for i, sentence in enumerate(sentences):
        for keyword in keywords:
            try:
                if re.search(r'\b' + re.escape(keyword) + r'\b', sentence, re.IGNORECASE):
                    relevant_texts_set.add(sentence)
                    if context_window > 0:
                         start_index = max(0, i - context_window); end_index = min(len(sentences), i + context_window + 1)
                         for k in range(start_index, end_index):
                              if 0 <= k < len(sentences): relevant_texts_set.add(sentences[k])
                    break
            except Exception as regex_err: print(f"Regex error for keyword '{keyword}' in sentence '{sentence[:50]}...': {regex_err}"); continue

    sorted_relevant = sorted(list(relevant_texts_set), key=lambda s: original_indices.get(s, float('inf')))
    return " ".join(sorted_relevant)

def analyze_text_sentiment(text):
    if not text or text.isspace(): return 0.0, "Neutral (No relevant text)"
    try: analysis = TextBlob(text)
    except Exception as tb_err: print(f"TextBlob processing error: {tb_err}"); return 0.0, "Neutral (Analysis Error)"
    polarity = analysis.sentiment.polarity
    if polarity > SENTIMENT_THRESHOLDS['positive']: return polarity, "Positive"
    elif polarity < SENTIMENT_THRESHOLDS['negative']: return polarity, "Negative"
    else: return polarity, "Neutral"

def map_sentiment_to_esg_rating(polarity):
    if polarity > ESG_RATING_THRESHOLDS['high']: return "High"
    elif polarity < ESG_RATING_THRESHOLDS['low']: return "Low"
    else: return "Medium"

def analyze_qualitative_factors(full_text):
    results = {"factors": {}, "esg": {}}
    for factor in QUALITATIVE_FACTOR_NAMES:
        keywords = FACTOR_KEYWORDS.get(factor, [])
        relevant_text = find_relevant_sentences(full_text, keywords)
        polarity, sentiment_label = analyze_text_sentiment(relevant_text)
        mapped_score = map_polarity_to_score(polarity)
        snippet_max_len = 150
        justification_snippet = relevant_text[:snippet_max_len].strip() + "..." if len(relevant_text) > snippet_max_len else relevant_text.strip()
        if not justification_snippet or justification_snippet == "...": justification_snippet = "N/A"
        results["factors"][factor] = { "score": mapped_score, "polarity": polarity, "sentiment": sentiment_label, "justification_snippet": justification_snippet}

    total_esg_polarity = 0.0; num_esg_factors = 0
    for category, keyword_key in ESG_CATEGORIES.items():
        keywords = FACTOR_KEYWORDS.get(keyword_key, [])
        relevant_text = find_relevant_sentences(full_text, keywords)
        polarity, sentiment_label = analyze_text_sentiment(relevant_text)
        esg_rating = map_sentiment_to_esg_rating(polarity)
        mapped_score = map_polarity_to_score(polarity)
        snippet_max_len = 150; justification_snippet = relevant_text[:snippet_max_len].strip() + "..." if len(relevant_text) > snippet_max_len else relevant_text.strip()
        if not justification_snippet or justification_snippet == "...": justification_snippet = "N/A"
        results["esg"][category] = { "rating": esg_rating, "score": mapped_score, "polarity": polarity, "sentiment": sentiment_label, "justification_snippet": justification_snippet}
        if "No relevant text" not in sentiment_label and "Analysis Error" not in sentiment_label:
            total_esg_polarity += polarity; num_esg_factors += 1

    average_esg_polarity = total_esg_polarity / num_esg_factors if num_esg_factors > 0 else 0.0
    average_esg_score_10 = map_polarity_to_score(average_esg_polarity)
    results["esg"]["Overall Polarity Score"] = average_esg_polarity;
    results["esg"]["Overall Score (0-10)"] = average_esg_score_10;
    results["esg"]["Overall Rating"] = map_sentiment_to_esg_rating(average_esg_polarity)
    return results

print("Qualitative functions defined.")
# =============================================================================
# Step 4: Regulatory Rating (SNC) Function
# =============================================================================
def map_to_snc_rating(df_projections):
    """Maps quantitative metrics to a simplified SNC rating."""
    if df_projections is None or df_projections.empty:
        return "N/A", "Quantitative projections unavailable."

    try:
        final_leverage = df_projections['Leverage (EoY Debt/EBITDA)'].iloc[-1] if 'Leverage (EoY Debt/EBITDA)' in df_projections.columns and not df_projections['Leverage (EoY Debt/EBITDA)'].empty else np.nan
        final_cum_fcf_debt = df_projections['Cumulative FCF/EoY Debt'].iloc[-1] if 'Cumulative FCF/EoY Debt' in df_projections.columns and not df_projections['Cumulative FCF/EoY Debt'].empty else np.nan

        final_leverage = float('inf') if pd.isna(final_leverage) or final_leverage == float('inf') or final_leverage < 0 else final_leverage
        final_cum_fcf_debt = float('inf') if final_cum_fcf_debt == float('inf') else final_cum_fcf_debt
        final_cum_fcf_debt = -float('inf') if pd.isna(final_cum_fcf_debt) or final_cum_fcf_debt == float('-inf') else final_cum_fcf_debt

        assigned_rating = "Loss" # Default to Loss
        justification = "Metrics indicate severe distress or default."

        for rating in SNC_RATING_ORDER:
            criteria = SNC_CRITERIA[rating]
            leverage_met = final_leverage <= criteria["Leverage_max"]

            fcf_debt_met = False
            # Use try-except for comparison in case criteria value is not comparable (though it should be float here)
            try:
                if final_cum_fcf_debt == float('inf'):
                    fcf_debt_met = True # Infinite coverage meets any finite min requirement
                elif final_cum_fcf_debt != -float('inf'):
                    fcf_debt_met = final_cum_fcf_debt >= criteria["CumFCF_Debt_min"]
            except TypeError:
                fcf_debt_met = False # Treat comparison error as unmet condition

            if leverage_met and fcf_debt_met:
                assigned_rating = rating
                # *** CORRECTED FORMATTING LOGIC ***
                fcf_debt_display = 'N/A' # Default display
                if final_cum_fcf_debt == float('inf'): fcf_debt_display = 'Infinite'
                elif final_cum_fcf_debt != -float('inf') and pd.notna(final_cum_fcf_debt):
                    try: fcf_debt_display = f"{final_cum_fcf_debt:.1%}" # Format only if valid float
                    except (ValueError, TypeError): fcf_debt_display = 'Invalid FCF/Debt Value'

                leverage_display = 'Infinite' if final_leverage == float('inf') else f"{final_leverage:.2f}x"

                justification = (f"Assigned '{rating}' based on final year projections: "
                                 f"Leverage {leverage_display} (Limit: <= {criteria['Leverage_max']:.1f}x) and "
                                 f"Cum. FCF/Debt {fcf_debt_display} (Limit: >= {criteria['CumFCF_Debt_min']:.0%}). "
                                 f"{criteria['description']}")
                justification = justification.replace("infx", "Infinite")
                break # Stop checking

        if assigned_rating == "Loss" and justification == "Metrics indicate severe distress or default.": # Add detail if defaulted to Loss
             leverage_display = 'Infinite' if final_leverage == float('inf') else f"{final_leverage:.2f}x"
             if final_cum_fcf_debt == float('inf'): fcf_debt_display = 'Infinite'
             elif pd.isna(final_cum_fcf_debt) or final_cum_fcf_debt == -float('inf'): fcf_debt_display = 'N/A'
             else:
                 try: fcf_debt_display = f"{final_cum_fcf_debt:.1%}"
                 except (ValueError, TypeError): fcf_debt_display = 'Invalid FCF/Debt Value'
             justification = f"Metrics (Leverage: {leverage_display}, Cum FCF/Debt: {fcf_debt_display}) exceed defined thresholds. Assigned Loss."


        return assigned_rating, justification

    except IndexError: return "N/A", "Error accessing projection data (Index out of bounds)."
    except KeyError as ke: return "N/A", f"Error accessing projection data (Missing column: {ke})."
    except Exception as e: print(f"Error during SNC mapping: {e}"); traceback.print_exc(); return "N/A", f"Error during SNC calculation: {e}"

print("Regulatory rating function defined.")
# =============================================================================
# Step 5: Integration and Output Functions
# =============================================================================
def generate_final_assessment(initial_score, initial_quant_leverage, qual_results):
    """Combines quantitative score, qualitative factors, and ESG to propose a final rating score and generate commentary."""
    final_score = initial_score if pd.notna(initial_score) else 50 # Default score if initial is NaN
    adjustment_rationale_points = []
    adjustment_count = 0

    factors_data = qual_results.get('factors', {}) if isinstance(qual_results, dict) else {}
    esg_data = qual_results.get('esg', {}) if isinstance(qual_results, dict) else {}

    # --- Calculate Average Qualitative Score & Polarity ---
    qual_factor_scores = [d.get('score', 5.0) for d in factors_data.values()]
    valid_qual_scores = [s for s, d in zip(qual_factor_scores, factors_data.values()) if not (s == 5.0 and "No relevant text" in d.get('sentiment', ''))]
    avg_qual_score_10 = np.mean(valid_qual_scores) if valid_qual_scores else 5.0
    avg_qual_polarity_approx = (avg_qual_score_10 - 5.0) / 5.0

    # --- Qualitative Adjustment ---
    if abs(avg_qual_polarity_approx) >= QUAL_SCORE_ADJUSTMENT_THRESHOLD and adjustment_count < MAX_ADJUSTMENT_COUNT:
        adjustment = ADJUSTMENT_POINTS if avg_qual_polarity_approx > 0 else -ADJUSTMENT_POINTS
        final_score += adjustment
        rationale = "Positive qualitative assessment provides score uplift." if adjustment > 0 else "Negative qualitative assessment warrants score reduction."
        adjustment_rationale_points.append(rationale)
        adjustment_count += 1

    # --- ESG Adjustment ---
    average_esg_polarity = esg_data.get('Overall Polarity Score', 0.0)
    if abs(average_esg_polarity) >= ESG_SCORE_ADJUSTMENT_THRESHOLD and adjustment_count < MAX_ADJUSTMENT_COUNT:
         adjustment = ADJUSTMENT_POINTS if average_esg_polarity > 0 else -ADJUSTMENT_POINTS
         final_score += adjustment
         rationale = "Strong ESG profile provides further score support." if adjustment > 0 else "Weak ESG profile leads to further score reduction."
         adjustment_rationale_points.append(rationale)
         adjustment_count += 1

    # Clamp final score and map to letter
    final_score = round(max(0, min(100, final_score)))
    final_rating_letter = map_score_to_rating(final_score)

    # --- Generate Dynamic Texts ---
    strength_threshold = 7.0 # Score > 7 = Strength
    weakness_threshold = 4.0 # Score < 4 = Weakness
    strengths = [f for f, d in factors_data.items() if d.get('score', 5.0) >= strength_threshold]
    weaknesses = [f for f, d in factors_data.items() if d.get('score', 5.0) <= weakness_threshold]

    # --- Justification Bullets ---
    justification_bullets = []
    initial_rating_letter = map_score_to_rating(initial_score)
    leverage_display = f"{initial_quant_leverage:.2f}x" if not pd.isna(initial_quant_leverage) else "N/A"
    justification_bullets.append(f"Quant Score ({initial_score}/100 -> {initial_rating_letter}) based on projected average leverage of {leverage_display}.")
    if adjustment_rationale_points: justification_bullets.extend(adjustment_rationale_points)
    else: justification_bullets.append("Qual/ESG factors did not trigger score adjustment.")
    if strengths: justification_bullets.append(f"Key Strengths: {'; '.join(strengths)}.")
    if weaknesses: justification_bullets.append(f"Key Weaknesses: {'; '.join(weaknesses)}.")
    if not adjustment_rationale_points and not strengths and not weaknesses: justification_bullets.append("Qualitative profile appears neutral relative to score.")
    overall_esg_rating = esg_data.get('Overall Rating', 'Medium')
    justification_bullets.append(f"Overall ESG: {overall_esg_rating} (Avg Polarity: {average_esg_polarity:.2f}).")

    # --- Outlook ---
    outlook = "Stable"
    if avg_qual_polarity_approx > QUAL_SCORE_ADJUSTMENT_THRESHOLD: outlook = "Positive"
    elif avg_qual_polarity_approx < -QUAL_SCORE_ADJUSTMENT_THRESHOLD: outlook = "Negative"
    if outlook == "Stable":
        if average_esg_polarity > ESG_SCORE_ADJUSTMENT_THRESHOLD: outlook = "Positive (ESG Supported)"
        elif average_esg_polarity < -ESG_SCORE_ADJUSTMENT_THRESHOLD: outlook = "Negative (ESG Concern)"
    elif outlook == "Positive" and average_esg_polarity < -ESG_SCORE_ADJUSTMENT_THRESHOLD: outlook = "Stable (ESG Offset)"
    elif outlook == "Negative" and average_esg_polarity > ESG_SCORE_ADJUSTMENT_THRESHOLD: outlook = "Stable (ESG Mitigation)"

    # --- Triggers ---
    trigger_list = []
    leverage_val = initial_quant_leverage
    if not pd.isna(leverage_val):
      if leverage_val >= LEVERAGE_TRIGGERS['High_Leverage_Risk']: trigger_list.append(f"Failure to de-lever below {LEVERAGE_TRIGGERS['High_Leverage_Risk']:.1f}x (Downside)")
      elif leverage_val >= LEVERAGE_TRIGGERS['Risk_Below_BB_max']: trigger_list.append(f"Sustained leverage over {LEVERAGE_TRIGGERS['Risk_Below_BB_max']:.1f}x (Downside)")
      if final_rating_letter.startswith(("BB", "B", "CCC")): trigger_list.append(f"Deleveraging towards {LEVERAGE_TRIGGERS['Maintain_BBB_max']:.1f}x (Upside)")
    for weakness in weaknesses: trigger_list.append(f"Deterioration in '{weakness}' (Downside)")
    for strength in strengths: trigger_list.append(f"Sustained strength in '{strength}' (Upside)")
    if overall_esg_rating == "Low": trigger_list.append("Lack of ESG improvement (Downside)");
    elif overall_esg_rating == "High": trigger_list.append("Continued ESG leadership (Upside)")
    if not trigger_list: trigger_list.extend(["Significant deviation from financial projections", "Material M&A or financial policy shifts"])
    triggers_text = "Potential Rating/Outlook changes driven by: " + "; ".join(list(set(trigger_list))) + "."

    return final_score, final_rating_letter, justification_bullets, outlook, triggers_text

def display_full_results(quant_df, initial_rating_score, avg_leverage, dcf_results, snc_rating, snc_justification, final_rating_score, final_rating_letter, justification_bullets, outlook, triggers, qual_results):
    """Displays all analysis results in a structured format using Tabs for organization."""

    # --- Tab 1: Summary Assessment ---
    summary_html = f"""
    <h3>Final Credit Assessment Summary</h3>
    <p><b>Final Proposed S&P Rating:</b> <strong style='font-size: 1.2em;'>{final_rating_letter}</strong> (Score: {final_rating_score}/100)</p>
    <p><b>Outlook:</b> {outlook}</p>
    <p><b>Regulatory (SNC) Rating:</b> {snc_rating}</p>
    <h4>Justification:</h4>
    <ul>{''.join(f'<li>{bullet}</li>' for bullet in justification_bullets)}</ul>
    <h4>Ratings Triggers:</h4>
    <p>{triggers}</p>
    <h4>SNC Justification:</h4>
    <p>{snc_justification}</p>
    """
    summary_output = VBox([HTML(summary_html)])

    # --- Tab 2: Quantitative Details ---
    quant_output = VBox()
    quant_children = [HTML("<h3>Quantitative Projections & Metrics</h3>")]
    if quant_df is not None and not quant_df.empty:
        try:
             display_cols = ['Year', 'Revenue', 'EBITDA', 'UFCF', 'Reported FCF Proxy', 'Debt (EoY)', 'Leverage (EoY Debt/EBITDA)', 'Cumulative FCF/EoY Debt']
             missing_cols = [col for col in display_cols if col not in quant_df.columns]
             if missing_cols: quant_children.append(HTML(f"<p style='color:red;'>Warning: Missing expected columns for display: {', '.join(missing_cols)}</p>")); display_cols = [col for col in display_cols if col in quant_df.columns]

             if display_cols:
                 df_display = quant_df[display_cols].copy()
                 # Safely format numeric columns, handle non-numeric gracefully
                 format_dict = {
                     'Revenue': '{:,.0f}', 'EBITDA': '{:,.0f}', 'UFCF': '{:,.0f}', 'Reported FCF Proxy': '{:,.0f}',
                     'Debt (EoY)': '{:,.0f}', 'Leverage (EoY Debt/EBITDA)': '{:.2f}x',
                     'Cumulative FCF/EoY Debt': lambda x: f"{x:.1%}" if isinstance(x, (int, float)) and x != float('inf') and x != -float('inf') and pd.notna(x) else ('Infinite' if x == float('inf') else 'N/A')
                 }
                 # Apply formatting only to existing columns
                 valid_format_dict = {k: v for k, v in format_dict.items() if k in df_display.columns}

                 formatted_df_styler = df_display.style.format(valid_format_dict, na_rep='N/A').set_table_attributes('style="width:100%; font-size: 0.9em;"')
                 quant_children.append(widgets.HTML(formatted_df_styler.to_html())) # Wrap HTML in widget
             else: quant_children.append(HTML("<p>No displayable quantitative columns found.</p>"))


             initial_rating_letter = map_score_to_rating(initial_rating_score)
             leverage_display = f"{avg_leverage:.2f}x" if not pd.isna(avg_leverage) else "N/A"
             quant_children.append(HTML(f"<p><b>Average Projected Leverage:</b> {leverage_display}</p>"))
             quant_children.append(HTML(f"<p><b>Initial Rating Score (Leverage-Based):</b> {initial_rating_score}/100 ({initial_rating_letter})</p>"))

             # Add Plots
             plot_output = widgets.Output()
             with plot_output:
                print("\n--- Financial Projections Visualized ---")
                if not quant_df.empty:
                    # print(f"DataFrame non-empty, attempting plots. Columns: {', '.join(quant_df.columns)}") # Debug print
                    try:
                        fig, axes = plt.subplots(2, 2, figsize=(10, 7))
                        formatter_eng = mticker.EngFormatter()

                        plot_cols = {'Revenue': axes[0, 0], 'EBITDA': axes[0, 1], 'Leverage (EoY Debt/EBITDA)': axes[1, 0], 'UFCF': axes[1, 1]}
                        plot_titles = {'Revenue': 'Revenue', 'EBITDA': 'EBITDA', 'Leverage (EoY Debt/EBITDA)': 'Leverage (Debt/EBITDA)', 'UFCF': 'Unlevered FCF'}
                        plot_colors = {'Revenue': "Blues", 'EBITDA': "Greens", 'Leverage (EoY Debt/EBITDA)': 'red', 'UFCF': 'purple'}
                        plot_types = {'Revenue': 'bar', 'EBITDA': 'bar', 'Leverage (EoY Debt/EBITDA)': 'line', 'UFCF': 'line'}

                        for col, ax in plot_cols.items():
                            try:
                                if col in quant_df.columns and not quant_df[col].isnull().all():
                                    if plot_types[col] == 'bar':
                                        sns.barplot(data=quant_df, x='Year', y=col, ax=ax, palette=plot_colors[col], hue='Year', legend=False)
                                        ax.yaxis.set_major_formatter(formatter_eng)
                                    elif plot_types[col] == 'line':
                                        plot_data = quant_df[col].replace([np.inf, -np.inf], np.nan)
                                        if not plot_data.isnull().all():
                                             sns.lineplot(data=quant_df.assign(Plot_Data=plot_data), x='Year', y='Plot_Data', ax=ax, marker='o', color=plot_colors[col], legend=False)
                                             if col == 'Leverage (EoY Debt/EBITDA)': ax.set_ylim(bottom=0); ax.set_ylabel('Leverage Ratio (x)', fontsize=9)
                                             else: ax.yaxis.set_major_formatter(formatter_eng)
                                        else: ax.text(0.5, 0.5, 'No Valid Data', ha='center', va='center', transform=ax.transAxes, color='red')
                                    ax.set_title(f'Projected {plot_titles[col]}', fontsize=10)
                                    ax.tick_params(axis='labels', labelsize=8)
                                else:
                                    # print(f"Skipping {col} plot: Data missing or all NaN.") # Debug print
                                    ax.text(0.5, 0.5, 'No Data', ha='center', va='center', transform=ax.transAxes, color='red')
                                    ax.set_title(f'Projected {plot_titles[col]} (No Data)', fontsize=10)
                            except Exception as individual_plot_err:
                                print(f"Error plotting {col}: {individual_plot_err}")
                                ax.text(0.5, 0.5, 'Plot Error', ha='center', va='center', transform=ax.transAxes, color='red')
                                ax.set_title(f'Projected {plot_titles[col]} (Error)', fontsize=10)

                        plt.tight_layout(); plt.show()
                    except Exception as plot_err: print(f"Overall Plotting Error: {plot_err}")
                else: print("Quantitative DataFrame is empty, skipping plots.")

             quant_children.append(plot_output)

        except Exception as e: quant_children.append(HTML(f"<p style='color:red;'>Error displaying quantitative section: {e}</p>"))
    else: quant_children.append(HTML("<p>Quantitative projection data unavailable.</p>"))
    quant_output.children = tuple(quant_children)


    # --- Tab 3: DCF Analysis ---
    dcf_output = VBox()
    dcf_children = [HTML("<h3>Simple Discounted Cash Flow (DCF) Analysis</h3>")]
    if dcf_results and isinstance(dcf_results, dict):
        try:
            dcf_html = "<ul>"
            for key, label, fmt in [
                ('PV UFCFs', 'PV of Forecast UFCFs', '{:,.0f}'), ('PV Terminal Value', 'PV of Terminal Value', '{:,.0f}'),
                ('Enterprise Value', 'Implied Enterprise Value (EV)', '{:,.0f}'), ('Implied Equity Value', 'Implied Equity Value', '{:,.0f}'),
                ('Implied Share Price', 'Implied Share Price', '{:,.2f}'), ('Terminal Value % of EV', 'Terminal Value as % of EV', '{:.1%}') ]:
                value = dcf_results.get(key)
                value_str = "N/A"
                if value is not None and pd.notna(value):
                    try: value_str = fmt.format(value)
                    except (ValueError, TypeError): value_str = "Format Error"
                dcf_html += f"<li>{label}: {value_str}</li>"
            dcf_html += "</ul><p><i>Note: Simplified DCF. Assumes Starting Net Debt input was accurate for EV to Equity bridge.</i></p>"
            dcf_children.append(HTML(dcf_html))
        except Exception as e: dcf_children.append(HTML(f"<p style='color:red;'>Error displaying DCF results: {e}</p>"))
    else: dcf_children.append(HTML("<p>DCF analysis could not be performed or results unavailable.</p>"))
    dcf_output.children = tuple(dcf_children)

    # --- Tab 4: Qualitative Details ---
    qual_output = VBox()
    qual_children = [HTML("<h3>Qualitative & ESG Analysis Details</h3>")]
    qual_results = qual_results if isinstance(qual_results, dict) else {}
    factors_data = qual_results.get('factors', {})
    esg_data = qual_results.get('esg', {})

    qual_children.append(HTML("<h4>Qualitative Factor Analysis</h4>"))
    if factors_data:
        factor_html = "<ul style='list-style-type: none; padding-left: 0;'>"
        for factor, details in factors_data.items():
            details = details if isinstance(details, dict) else {}
            factor_html += f"<li style='margin-bottom: 8px;'><b>{factor}:</b> {details.get('sentiment','N/A')} (Score: {details.get('score', 5.0):.1f}/10, Polarity: {details.get('polarity', 0.0):.2f})<br/><i style='font-size:0.9em; color:grey;'>Snippet: {details.get('justification_snippet','N/A')}</i></li>"
        factor_html += "</ul>"
        qual_children.append(HTML(factor_html))
    else: qual_children.append(HTML("<p>No standard qualitative factor data available.</p>"))

    qual_children.append(HTML("<hr><h4>ESG Assessment</h4>"))
    if esg_data:
       esg_html = "<ul style='list-style-type: none; padding-left: 0;'>"
       for category in ["Environment", "Social", "Governance"]:
            details = esg_data.get(category)
            if details and isinstance(details, dict):
                 esg_html += f"<li style='margin-bottom: 8px;'><b>{category}:</b> {details.get('rating', 'N/A')} ({details.get('sentiment', 'N/A')} sentiment, Score: {details.get('score', 5.0):.1f}/10, Polarity: {details.get('polarity', 0.0):.2f})<br/><i style='font-size:0.9em; color:grey;'>Snippet: {details.get('justification_snippet','N/A')}</i></li>"
            else: esg_html += f"<li><b>{category}:</b> N/A</li>"
       esg_html += "</ul>"
       overall_rating = esg_data.get('Overall Rating', 'N/A'); overall_score_10 = esg_data.get('Overall Score (0-10)', 5.0); overall_polarity = esg_data.get('Overall Polarity Score', 0.0)
       esg_html += f"<p><b>Overall ESG Rating: {overall_rating}</b> (Avg Score: {overall_score_10:.1f}/10, Avg Polarity: {overall_polarity:.2f})</p>"
       qual_children.append(HTML(esg_html))
    else: qual_children.append(HTML("<p>No ESG data available.</p>"))
    qual_output.children = tuple(qual_children)

    # --- Assemble Tabs ---
    tab_widget = Tab()
    tab_widget.children = [summary_output, quant_output, dcf_output, qual_output]
    tab_widget.titles = ['Summary', 'Quantitative', 'DCF Analysis', 'Qualitative/ESG']

    display(tab_widget)

print("Integration and output functions defined.")
# =============================================================================
# Step 6: Widget Setup & Execution Logic
# =============================================================================
# --- Default Input Values ---
default_revenue = 1000000
default_revenue_cagr = [0.05, 0.04, 0.03, 0.02, 0.02, 0.01, 0.01]
default_ebitda_margin = [0.20, 0.21, 0.21, 0.22, 0.22, 0.21, 0.20]
default_da_perc_rev = [0.05] * 7
default_capex_perc_rev = [0.06] * 7
default_nwc_perc_rev = [0.10] * 7
default_fcf_conversion = [0.70, 0.72, 0.75, 0.75, 0.76, 0.77, 0.78]
default_starting_debt = 1200000
default_amortization = [80000, 80000, 90000, 90000, 100000, 100000, 100000]
default_company_info = """TechCorp announced strong Q4 results, driven by cloud segment growth. Management highlighted innovation pipeline. Leadership team is experienced, CEO John Smith has a good track record. Board independence is ensured. Financial policy remains conservative, focusing on debt reduction. Share repurchases paused. Market share stable but faces intense competition from GlobalTech and Innovate Solutions. Pricing power is moderate. Risk of substitution from new AI-driven platforms is emerging but currently low. Company committed to reducing carbon footprint by 15% by 2030. Sustainability report published. Investing in employee training and diversity programs. Community outreach initiatives expanded. Safety record is strong. Governance structures follow best practices, shareholder engagement is proactive. Audit committee is independent."""
default_recent_10k = """Risk Factors: Competition is increasing. Regulatory scrutiny in data privacy may impact operations. Dependence on key personnel. Financial Statements: Revenue growth consistent with projections. Debt covenants were met. Liquidity position is adequate. Management Discussion: Focus on operational efficiency and cost control. Investment in R&D continues. Legal Proceedings: Minor litigation resolved. No material pending legal issues. Environmental compliance costs are manageable. Controls and Procedures: Internal controls deemed effective. No material weaknesses identified. Executive compensation linked to performance."""
default_wacc = 0.09
default_terminal_growth = 0.02
default_shares_outstanding = 50000000

# --- Control Flag ---
use_widgets = True

# --- Style & Layout Definitions ---
num_layout_s = Layout(width='110px');
num_layout_l = Layout(width='130px');
label_layout = Layout(width='90px', display='flex', justify_content='flex-end', margin='0 5px 0 0')

# --- Interactive Widgets ---
revenue_input = FloatText(value=default_revenue, description='Revenue (Yr 0):', layout=Layout(width='auto'), style={'description_width': 'initial'}, format=',.0f', step=10000)
starting_debt_input = FloatText(value=default_starting_debt, description='Net Debt (Current):', layout=Layout(width='auto'), style={'description_width': 'initial'}, format=',.0f', step=10000)
wacc_input = FloatText(value=default_wacc, description='WACC (%):', layout=Layout(width='150px'), style={'description_width': 'initial'}, step=0.005, format='.2%')
terminal_growth_input = FloatText(value=default_terminal_growth, description='Term. Growth (%):', layout=Layout(width='180px'), style={'description_width': 'initial'}, step=0.001, format='.2%')
shares_outstanding_input = FloatText(value=default_shares_outstanding, description='Shares Out.:', layout=Layout(width='auto'), style={'description_width': 'initial'}, format=',.0f', step=100000)

yearly_input_labels = ["Rev CAGR", "EBITDA %", "D&A % Rev", "CapEx % Rev", "NWC % Rev", "FCF Conv %", "Debt Amort."]
yearly_defaults = [default_revenue_cagr, default_ebitda_margin, default_da_perc_rev, default_capex_perc_rev, default_nwc_perc_rev, default_fcf_conversion, default_amortization]
yearly_formats = ['.1%', '.1%', '.1%', '.1%', '.1%', '.1%', ',.0f']
yearly_steps = [0.01, 0.01, 0.005, 0.005, 0.005, 0.01, 1000]
yearly_layouts = [num_layout_s]*6 + [num_layout_l]

yearly_input_widgets = []
for j, defaults in enumerate(yearly_defaults):
    widgets_for_metric = [FloatText(value=defaults[i], layout=yearly_layouts[j], step=yearly_steps[j], format=yearly_formats[j]) for i in range(7)]
    yearly_input_widgets.append(widgets_for_metric)

yearly_input_boxes = []
for i in range(7):
    year_widgets = [Label(f"Year {i+1}")]
    for label_text, widget_list in zip(yearly_input_labels, yearly_input_widgets):
         year_widgets.append(HBox([Label(label_text+':', layout=label_layout), widget_list[i]]))
    year_box = VBox(year_widgets, layout=Layout(border='1px solid lightgray', margin='0 5px 5px 0', padding='5px', min_width='180px'))
    yearly_input_boxes.append(year_box)
yearly_section = HBox(yearly_input_boxes, layout=Layout(overflow_x='auto', padding='5px 0 0 0'))

company_info_input = Textarea(value=default_company_info, description='Company Info/Press Releases:', layout=Layout(width='98%', height='120px'), style={'description_width': 'initial'})
recent_10k_input = Textarea(value=default_recent_10k, description='10-K Text (Risk Factors, MD&A):', layout=Layout(width='98%', height='180px'), style={'description_width': 'initial'})
button = Button(description="Run Full Analysis", button_style='success', icon='calculator', tooltip='Click to run the analysis with the current inputs', layout=Layout(width='auto', margin='15px 0 5px 0'))
output_area = widgets.Output(layout=Layout(border='1px solid lightgray', padding='10px', margin='10px 0 0 0', width='98%'))

quant_acdn = widgets.Accordion(children=[VBox([ HBox([revenue_input, starting_debt_input]), HBox([shares_outstanding_input, wacc_input, terminal_growth_input]), Label("Yearly Assumptions:", style={'font_weight':'bold'}), yearly_section])])
quant_acdn.set_title(0, 'Quantitative & DCF Inputs')
qual_acdn = widgets.Accordion(children=[VBox([company_info_input, recent_10k_input])])
qual_acdn.set_title(0, 'Qualitative Text Inputs')

# --- Main Execution Function ---
def run_analysis(quant_inputs, dcf_inputs, qual_inputs):
    """Orchestrates all analysis steps"""
    print("Starting analysis run...")
    # Initialize all outputs to default/error states
    quant_df = None; initial_rating_score = 50; avg_leverage = np.nan
    dcf_results = None; snc_rating = "N/A"; snc_justification = "Error"
    qual_results = None
    final_rating_score = 50; final_rating_letter = "BBB-"; # Default rating
    justification_bullets = ["Analysis Error."]; outlook = "Uncertain"; triggers = "N/A"

    # --- Quantitative Analysis ---
    try:
        quant_df = calculate_projections(**quant_inputs)
        valid_leverage = quant_df['Leverage (EoY Debt/EBITDA)'][quant_df['Leverage (EoY Debt/EBITDA)'].replace([np.inf, -np.inf], np.nan).notna()]
        avg_leverage = valid_leverage.mean() if not valid_leverage.empty else np.nan
        initial_rating_score = map_leverage_to_score(avg_leverage)
    except ValueError as ve: print(f"QUANTITATIVE ERROR: {ve}")
    except Exception as e: print(f"QUANTITATIVE ERROR: {e}"); traceback.print_exc()

    # --- DCF Analysis ---
    try:
        dcf_calc_inputs = {
            'df_projections': quant_df, 'wacc': dcf_inputs['wacc'],
            'terminal_growth_rate': dcf_inputs['terminal_growth_rate'],
            'shares_outstanding': dcf_inputs['shares_outstanding'],
            'starting_net_debt': quant_inputs['starting_debt']
        }
        dcf_results = calculate_simple_dcf(**dcf_calc_inputs)
    except ValueError as ve: print(f"DCF INPUT ERROR: {ve}"); dcf_results = None
    except Exception as e: print(f"DCF ERROR: {e}"); traceback.print_exc(); dcf_results = None

    # --- Regulatory (SNC) Rating ---
    try:
        snc_rating, snc_justification = map_to_snc_rating(quant_df)
    except Exception as e: print(f"SNC MAPPING ERROR: {e}"); traceback.print_exc(); snc_rating, snc_justification = "N/A", "Error in SNC Calculation"

    # --- Qualitative Analysis ---
    try:
        full_text = qual_inputs.get('company_info','') + "\n" + qual_inputs.get('recent_10k','')
        if not full_text.strip():
            print("Warning: Qualitative text empty. Using neutral assessment.")
            qual_results = {"factors": {}, "esg": {}} # Create default neutral structure
            for factor in QUALITATIVE_FACTOR_NAMES: qual_results["factors"][factor] = {"score": 5.0, "polarity": 0.0, "sentiment": "Neutral (No Text)", "justification_snippet": "N/A"}
            for category in ESG_CATEGORIES.keys(): qual_results["esg"][category] = {"rating": "Medium", "score": 5.0, "polarity": 0.0, "sentiment": "Neutral (No Text)", "justification_snippet": "N/A"}
            qual_results["esg"]["Overall Polarity Score"] = 0.0; qual_results["esg"]["Overall Score (0-10)"] = 5.0; qual_results["esg"]["Overall Rating"] = "Medium"
        else:
            qual_results = analyze_qualitative_factors(full_text)
    except Exception as e: print(f"QUALITATIVE ERROR: {e}"); traceback.print_exc(); qual_results = None

    # --- Integration & Final Assessment ---
    # Assign defaults again before try block
    final_rating_score = initial_rating_score if pd.notna(initial_rating_score) else 50
    final_rating_letter = map_score_to_rating(final_rating_score)
    justification_bullets = ["Final Assessment Error."]; outlook = "Uncertain"; triggers = "N/A"

    if qual_results is not None:
        try:
            final_rating_score, final_rating_letter, justification_bullets, outlook, triggers = generate_final_assessment(initial_rating_score if pd.notna(initial_rating_score) else 50, avg_leverage, qual_results) # Pass initial score safely
        except Exception as e: print(f"FINAL ASSESSMENT ERROR: {e}"); traceback.print_exc()
    else: # Handle qual analysis failure specifically for justification
        print("Skipping final assessment steps: Qualitative analysis failed.")
        # Keep initial quant rating/score but note the failure
        justification_bullets = [f"Quant Score ({initial_rating_score}/100 -> {final_rating_letter}) based on projected average leverage of {avg_leverage:.2f}x." if not pd.isna(avg_leverage) else f"Quant Score ({initial_rating_score}/100 -> {final_rating_letter}) based on default mapping (leverage N/A).", "Qualitative analysis failed, no adjustments applied."]

    if qual_results is None: qual_results = {"factors": {}, "esg": {}} # Ensure dict for display

    # --- Display Results ---
    try:
        display_full_results(quant_df, initial_rating_score, avg_leverage, dcf_results, snc_rating, snc_justification, final_rating_score, final_rating_letter, justification_bullets, outlook, triggers, qual_results)
    except Exception as e: print(f"DISPLAY ERROR: {e}"); traceback.print_exc()

    print("\nAnalysis run complete.")

# --- Widget Button Click Handler ---
def on_analyze_button_click(b):
    with output_area:
        clear_output(wait=True); print("Button clicked. Gathering inputs...")
        try:
            # Gather quantitative inputs
            quant_widget_inputs = {
                'revenue': float(revenue_input.value), 'starting_debt': float(starting_debt_input.value),
                'revenue_cagr': [float(w.value) for w in yearly_input_widgets[0]],
                'ebitda_margin': [float(w.value) for w in yearly_input_widgets[1]],
                'd_and_a_percent_rev': [float(w.value) for w in yearly_input_widgets[2]],
                'capex_percent_rev': [float(w.value) for w in yearly_input_widgets[3]],
                'nwc_percent_rev': [float(w.value) for w in yearly_input_widgets[4]],
                'fcf_conversion': [float(w.value) for w in yearly_input_widgets[5]],
                'amortization': [float(w.value) for w in yearly_input_widgets[6]]
            }
            # Gather DCF inputs
            dcf_widget_inputs = {
                'wacc': float(wacc_input.value), 'terminal_growth_rate': float(terminal_growth_input.value),
                'shares_outstanding': float(shares_outstanding_input.value)
            }
            # Gather qualitative inputs
            qual_widget_inputs = {'company_info': company_info_input.value, 'recent_10k': recent_10k_input.value};
            print("Inputs gathered successfully. Running analysis...")
            run_analysis(quant_widget_inputs, dcf_widget_inputs, qual_widget_inputs)
        except ValueError as ve: print(f"\nINPUT ERROR: Please ensure all inputs are valid numbers. Error: {ve}")
        except Exception as e: print(f"\nFATAL ERROR: {e}"); traceback.print_exc()

# --- Execution Logic ---
if use_widgets:
    button.on_click(on_analyze_button_click)
    ui = VBox([HTML("<h2>Integrated Credit Analysis Tool (v1.3)</h2>"), quant_acdn, qual_acdn, button, output_area])
    display(ui)
    print("Widget interface displayed. Adjust inputs and click 'Run Full Analysis'.")
else: # Non-widget testing mode
    print("Running analysis with predefined default inputs (non-widget mode)...")
    test_quant_inputs = {
        'revenue': default_revenue, 'starting_debt': default_starting_debt,
        'revenue_cagr': default_revenue_cagr, 'ebitda_margin': default_ebitda_margin,
        'd_and_a_percent_rev': default_da_perc_rev, 'capex_percent_rev': default_capex_perc_rev,
        'nwc_percent_rev': default_nwc_perc_rev, 'fcf_conversion': default_fcf_conversion,
        'amortization': default_amortization
    }
    test_dcf_inputs = { 'wacc': default_wacc, 'terminal_growth_rate': default_terminal_growth,'shares_outstanding': default_shares_outstanding }
    test_qual_inputs = { 'company_info': default_company_info, 'recent_10k': default_recent_10k }
    with output_area: clear_output(wait=True); run_analysis(test_quant_inputs, test_dcf_inputs, test_qual_inputs)
    display(output_area)

print("Notebook cell execution finished.")
