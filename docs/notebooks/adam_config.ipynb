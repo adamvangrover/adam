{
  "cells": [
    {
      "cell_type": "markdown",
      "metadata": {},
      "source": [
        "# Configuration Overview\n",
        "\n",
        "This notebook contains the configuration structure for the `adam_code_compilation` system. The system is divided into several categories, including agents, core systems, utilities, and configuration files."
      ]
    },
    {
      "cell_type": "markdown",
      "metadata": {},
      "source": [
        "## Core Agents\n",
        "The following are the core agents in the system, each responsible for a specific task or function in the system. Some agents are still in development and are marked as `STUB`."
      ]
    },
    {
      "cell_type": "code",
      "execution_count": 1,
      "metadata": {},
      "outputs": [],
      "source": [
        "import json\n",
        "import logging\n",
        "import os\n",
        "\n",
        "# Set up basic logging\n",
        "logging.basicConfig(level=logging.INFO, format='%(asctime)s - %(levelname)s - %(message)s')\n",
        "\n",
        "# Utility function to handle loading of both JSON and YAML configurations\n",
        "def load_config(config_path):\n",
        "    \"\"\"\n",
        "    Loads configuration from a given path. Supports JSON and YAML formats.\n",
        "    \"\"\"\n",
        "    try:\n",
        "        file_extension = os.path.splitext(config_path)[1].lower()\n",
        "        with open(config_path, 'r') as f:\n",
        "            if file_extension == '.json':\n",
        "                return json.load(f)\n",
        "            elif file_extension == '.yaml':\n",
        "                import yaml\n",
        "                return yaml.safe_load(f)\n",
        "            else:\n",
        "                raise ValueError(f\"Unsupported file format: {file_extension}\")\n",
        "    except FileNotFoundError:\n",
        "        logging.error(f\"Configuration file not found: {config_path}\")\n",
        "        raise\n",
        "    except Exception as e:\n",
        "        logging.error(f\"Error loading configuration from {config_path}: {e}\")\n",
        "        raise\n",
        "\n",
        "# Load core agents configuration\n",
        "def load_core_agents():\n",
        "    core_agents = [\n",
        "        {'path': 'core/agents/agent_base.py', 'description': 'Base class for all agents. Provides core functionality for agent initialization and interaction.'},\n",
        "        {'path': 'core/agents/query_understanding_agent.py', 'description': 'Analyzes incoming queries and provides initial processing.'},\n",
        "        {'path': 'core/agents/data_retrieval_agent.py', 'description': 'Responsible for retrieving data from external sources or internal databases.'},\n",
        "        {'path': 'core/agents/result_aggregation_agent.py', 'description': 'Aggregates data from multiple agents to create a cohesive result.'},\n",
        "        {'path': 'core/agents/market_sentiment_agent.py', 'description': 'Analyzes market sentiment. Currently a stub and under development.'}\n",
        "    ]\n",
        "    logging.info(f\"Loaded {len(core_agents)} core agents.\")\n",
        "    return core_agents\n",
        "\n",
        "# Load core system components configuration\n",
        "def load_core_system():\n",
        "    core_system = [\n",
        "        {'path': 'core/system/agent_orchestrator.py', 'description': 'Manages the lifecycle of agents, including orchestration and coordination.'},\n",
        "        {'path': 'core/system/interaction_loop.py', 'description': 'Main interaction loop, responsible for orchestrating the agent interactions.'},\n",
        "        {'path': 'core/system/knowledge_base.py', 'description': 'In-memory knowledge base to store context for agent interactions.'},\n",
        "        {'path': 'core/system/error_handler.py', 'description': 'Handles errors and reports them through a structured logging system.'}\n",
        "    ]\n",
        "    logging.info(f\"Loaded {len(core_system)} core system components.\")\n",
        "    return core_system\n",
        "\n",
        "# Load core utilities configuration\n",
        "def load_core_utils():\n",
        "    core_utils = [\n",
        "        {'path': 'core/utils/config_utils.py', 'description': 'Handles loading and parsing of configuration files.'},\n",
        "        {'path': 'core/utils/data_utils.py', 'description': 'Contains utilities for data manipulation and transformation.'},\n",
        "        {'path': 'core/utils/token_utils.py', 'description': 'Stub implementation for token counting utilities.'}\n",
        "    ]\n",
        "    logging.info(f\"Loaded {len(core_utils)} core utilities.\")\n",
        "    return core_utils\n",
        "\n",
        "# Load configuration files paths\n",
        "def load_config_files():\n",
        "    config_files = [\n",
        "        {'path': 'config/agents.yaml', 'description': 'Configuration for agents\' behavior and parameters.'},\n",
        "        {'path': 'config/data_sources.yaml', 'description': 'Definitions for data sources used across the system.'},\n",
        "        {'path': 'config/system.yaml', 'description': 'Global system settings and configurations.'},\n",
        "        {'path': 'config/workflows.yaml', 'description': 'Predefined workflows for agent execution.'},\n",
        "        {'path': 'config/errors.yaml', 'description': 'Configuration for error codes and descriptions.'}\n",
        "    ]\n",
        "    logging.info(f\"Loaded {len(config_files)} configuration files.\")\n",
        "    return config_files\n",
        "\n",
        "# Load data files configuration\n",
        "def load_data_files():\n",
        "    data_files = [\n",
        "        {'path': 'data/risk_rating_mapping.json', 'description': 'Mapping of companies to their respective risk ratings.'},\n",
        "        {'path': 'data/knowledge_base.json', 'description': 'General knowledge used for various agent tasks.'},\n",
        "        {'path': 'data/adam_market_baseline.json', 'description': 'Market baseline data used for analysis.'}\n",
        "    ]\n",
        "    logging.info(f\"Loaded {len(data_files)} data files.\")\n",
        "    return data_files\n",
        "\n",
        "# Main function to load all configurations\n",
        "def load_all_configs():\n",
        "    try:\n",
        "        core_agents = load_core_agents()\n",
        "        core_system = load_core_system()\n",
        "        core_utils = load_core_utils()\n",
        "        config_files = load_config_files()\n",
        "        data_files = load_data_files()\n",
        "\n",
        "        # Return all configurations as a dictionary\n",
        "        return {\n",
        "            'core_agents': core_agents,\n",
        "            'core_system': core_system,\n",
        "            'core_utils': core_utils,\n",
        "            'config_files': config_files,\n",
        "            'data_files': data_files\n",
        "        }\n",
        "\n",
        "    except Exception as e:\n",
        "        logging.error(\"Failed to load configurations.\")\n",
        "        raise e\n",
        "\n",
        "# Example usage\n",
        "configurations = load_all_configs()\n",
        "configurations"
      ]
    },
    {
      "cell_type": "markdown",
      "metadata": {},
      "source": [
        "### Configuration Files\n",
        "These are the configuration files that define settings for agents, system configurations, workflows, etc."
      ]
    },
    {
      "cell_type": "code",
      "execution_count": 2,
      "metadata": {},
      "outputs": [],
      "source": [
        "config_files"
      ]
    },
    {
      "cell_type": "markdown",
      "metadata": {},
      "source": [
        "### Data Files\n",
        "These data files contain key mappings and knowledge used by agents for analysis and decision-making."
      ]
    },
    {
      "cell_type": "code",
      "execution_count": 3,
      "metadata": {},
      "outputs": [],
      "source": [
        "data_files"
      ]
    }
  ],
  "metadata": {
    "kernelspec": {
      "display_name": "Python 3",
      "language": "python",
      "name": "python3"
    },
    "language_info": {
      "codemirror_mode": {
        "name": "ipython",
        "version": 3
      },
      "file_extension": ".py",
      "mimetype": "text/x-python",
      "name": "python",
      "nbconvert_exporter": "python",
      "version": "3.8.8"
    }
  },
  "nbformat": 4,
  "nbformat_minor": 5
}
