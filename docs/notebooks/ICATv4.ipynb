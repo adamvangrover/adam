# =============================================================================
# Integrated Credit Analysis Tool - Production Ready Code v4
# Required Libraries: pandas, numpy, matplotlib, seaborn, ipywidgets, textblob
# Optional: nltk (if specific functions beyond basic TextBlob are needed later)
# =============================================================================

# =============================================================================
# Step 1: Imports
# =============================================================================
import pandas as pd
import numpy as np
import matplotlib.pyplot as plt
import seaborn as sns
import ipywidgets as widgets
from ipywidgets import VBox, HBox, HTML, Label, Layout, Button, Textarea, FloatText
from IPython.display import display, clear_output
import re
from textblob import TextBlob
# import nltk # Kept for potential future use, but not strictly required now
import warnings
import traceback # For detailed error printing

# =============================================================================
# Step 1.5: Configuration & Constants
# =============================================================================
print("Using regex-based sentence splitting.")
# warnings.filterwarnings('ignore') # Optional: Suppress warnings

# --- Analysis Constants (Modify these to tune the model) ---
# DEV NOTE: Keyword lists are crucial for accuracy and need domain-specific refinement.
FACTOR_KEYWORDS = {
    "Management Quality": ["management", "leadership", "CEO", "executive", "board", "strategy", "track record", "guidance", "management team"],
    "Governance": ["governance", "board structure", "shareholder rights", "compensation", "ethics", "audit", "transparency", "internal control", "compliance"],
    "Financial Policy": ["financial policy", "dividend", "share repurchase", "buyback", "acquisition", "M&A", "leverage target", "capital allocation", "debt reduction", "funding", "financing"],
    "Competitive Position": ["market share", "competition", "competitors", "competitive advantage", "pricing power", "industry position", "market leadership", "moat"],
    "Substitution Risk": ["substitution", "disruption", "alternative products", "technological change", "obsolescence", "innovation risk"],
    "Regulatory Environment": ["regulation", "compliance", "legal", "government policy", "environmental laws", "antitrust", "scrutiny", "tariffs", "legislation"],
    "Sustainability of Cash Flows": ["cash flow stability", "recurring revenue", "customer churn", "long-term contracts", "backlog", "visibility", "subscriber base"],
    "ESG - Environmental": ["environment", "climate", "emissions", "GHG", "greenhouse gas", "carbon footprint", "sustainability", "waste", "water", "pollution", "renewable energy", "biodiversity", "spill", "environmental impact", "climate risk"],
    "ESG - Social": ["social", "employees", "labor", "diversity", "inclusion", "health", "safety", "community", "human rights", "data privacy", "product safety", "supply chain labor", "stakeholder relations"],
    "ESG - Governance (Detail)": ["board independence", "executive pay", "shareholder alignment", "business ethics", "reporting transparency", "audit committee", "risk management oversight", "shareholder activism"]
}
QUALITATIVE_FACTOR_NAMES = [ "Management Quality", "Governance", "Financial Policy", "Competitive Position", "Substitution Risk", "Regulatory Environment", "Sustainability of Cash Flows" ]
ESG_CATEGORIES = {"Environment": "ESG - Environmental", "Social": "ESG - Social", "Governance": "ESG - Governance (Detail)"}
RATING_SCALE = ["AAA", "AA", "A", "BBB", "BB", "B", "CCC/C", "D"]

# DEV NOTE: Thresholds for sentiment and ESG mapping are subjective and may need calibration.
SENTIMENT_THRESHOLDS = {'positive': 0.1, 'negative': -0.1}
ESG_THRESHOLDS = {'high': 0.2, 'low': -0.1}
RATING_ADJUSTMENT_THRESHOLDS = {'positive_qual': 0.25, 'negative_qual': -0.2, 'strength': 0.2, 'weakness': -0.15}
LEVERAGE_TRIGGERS = {'high': 4.5, 'low': 2.0}

# =============================================================================
# Step 2: Define Quantitative Analysis Functions
# =============================================================================
def calculate_projections(revenue, revenue_cagr, ebitda_margin, fcf_conversion, starting_debt, amortization):
    """Calculates financial projections (Revenue, EBITDA, FCF, Debt, Leverage) over 7 years."""
    projections = []; cumulative_fcf = 0; current_debt = starting_debt
    # Basic validation
    if not all(isinstance(val, list) and len(val) == 7 for val in [revenue_cagr, ebitda_margin, fcf_conversion, amortization]):
         raise ValueError("Yearly input lists (CAGR, Margin, FCF Conv, Amort) must have 7 elements.")
    if not isinstance(revenue, (int, float)) or not isinstance(starting_debt, (int, float)):
         raise ValueError("Initial Revenue and Starting Debt must be numbers.")

    for year in range(1, 8):
        revenue *= (1 + revenue_cagr[year-1]); ebitda = revenue * ebitda_margin[year-1]
        # Use np.nan for invalid leverage instead of inf for better downstream calculation (e.g., mean)
        leverage = np.nan if ebitda <= 0 else max(0, current_debt / ebitda)
        fcf = ebitda * fcf_conversion[year-1]; cumulative_fcf += fcf
        current_debt = max(0, current_debt - amortization[year-1])
        cumulative_fcf_debt = np.nan # Default to NaN
        if current_debt > 0: cumulative_fcf_debt = cumulative_fcf / current_debt
        elif cumulative_fcf > 0: cumulative_fcf_debt = np.inf # Indicate infinite coverage if debt is zero but FCF positive
        else: cumulative_fcf_debt = 0.0 # Zero coverage if both debt and cumulative FCF are zero

        projections.append({'Year': year, 'Revenue': revenue, 'EBITDA': ebitda, 'FCF': fcf, 'Debt': current_debt, 'Leverage': leverage, 'Cumulative FCF/Debt': cumulative_fcf_debt, 'Cumulative FCF': cumulative_fcf})
    return pd.DataFrame(projections)

def map_leverage_to_sp_scale(leverage):
    """Maps average Debt/EBITDA leverage to an indicative S&P-like rating scale."""
    # Handle NaN or infinite leverage --> 'D' rating
    if pd.isna(leverage) or leverage == float('inf'): return "D"
    # Map numerical leverage to rating categories
    elif leverage < 1.0: return "AAA"
    elif leverage < 2.0: return "AA"
    elif leverage < 3.0: return "A"
    elif leverage < 4.0: return "BBB"
    elif leverage < 5.0: return "BB"
    elif leverage < 6.0: return "B"
    else: return "CCC/C" # Handles leverage >= 6.0

# =============================================================================
# Step 3: Define Qualitative and ESG Analysis Functions
# =============================================================================
def split_into_sentences_regex(text):
    """Splits text into sentences using regular expressions (handles basic abbreviations)."""
    if not isinstance(text, str) or not text.strip(): return []
    try:
        text = re.sub(r'\s+', ' ', text).strip() # Normalize whitespace
        # DEV NOTE: This regex is improved but may still misinterpret complex sentences or specific abbreviations.
        # Consider a more robust NLP library (like spaCy) if higher accuracy is needed and environment allows.
        sentences = re.split(r'(?<!\w\.\w.)(?<![A-Z][a-z]\.)(?<![A-Z]\.)(?<! M[rs])(?<! D[r])(?<! Co)\.(?!\s*[a-z])(?<=\.|\?|\!)\s+', text)
        return [s.strip() for s in sentences if s and s.strip()] # Filter empty strings
    except Exception as e: print(f"Error during regex sentence splitting: {e}"); return []

def find_relevant_sentences(text, keywords, context_window=1):
    """Finds unique sentences containing keywords and includes surrounding context sentences (using regex split)."""
    if not isinstance(text, str) or not text.strip(): return ""
    try: sentences = split_into_sentences_regex(text)
    except Exception as e: print(f"Error calling regex sentence splitting: {e}. Text snippet: '{text[:100]}...'"); return ""
    if not sentences: return ""
    relevant_texts_ordered = []; indices_found = set()
    for i, sentence in enumerate(sentences):
        for keyword in keywords:
            try:
                # Case-insensitive word boundary search
                if re.search(r'\b' + re.escape(keyword) + r'\b', sentence, re.IGNORECASE):
                    start_index = max(0, i - context_window); end_index = min(len(sentences), i + context_window + 1)
                    for k in range(start_index, end_index):
                        if k not in indices_found: # Add unique indices
                             if 0 <= k < len(sentences): relevant_texts_ordered.append(sentences[k]); indices_found.add(k)
                    break # Move to next sentence once keyword found for this one
            except Exception as regex_err: print(f"Regex error for keyword '{keyword}' in sentence '{sentence[:50]}...': {regex_err}"); continue
    # Join sentences found, order roughly preserved. Duplicates from overlapping context windows are allowed.
    # Using list(dict.fromkeys(relevant_texts_ordered)) would enforce uniqueness but might change order slightly.
    return " ".join(relevant_texts_ordered)

def analyze_text_sentiment(text):
    """Analyzes sentiment of a given text using TextBlob, returns polarity and descriptive label."""
    if not text or text.isspace(): return 0.0, "Neutral (No relevant text found)"
    try: analysis = TextBlob(text)
    except Exception as tb_err: print(f"TextBlob processing error: {tb_err}"); return 0.0, "Neutral (Analysis Error)"
    polarity = analysis.sentiment.polarity
    # Use defined thresholds
    if polarity > SENTIMENT_THRESHOLDS['positive']: return polarity, "Positive"
    elif polarity < SENTIMENT_THRESHOLDS['negative']: return polarity, "Negative"
    else: return polarity, "Neutral"

def map_sentiment_to_esg_rating(polarity):
    """Maps sentiment polarity (-1 to 1) to High/Medium/Low ESG rating based on thresholds."""
    if polarity > ESG_THRESHOLDS['high']: return "High"
    elif polarity < ESG_THRESHOLDS['low']: return "Low"
    else: return "Medium"

def analyze_qualitative_factors(full_text):
    """Analyzes combined text for predefined qualitative and ESG factors."""
    results = {"factors": {}, "esg": {}}
    print("\n--- Analyzing Qualitative Factors ---")
    # Analyze standard qualitative factors
    for factor in QUALITATIVE_FACTOR_NAMES:
        keywords = FACTOR_KEYWORDS.get(factor, [])
        # print(f"Analyzing Factor: {factor}...") # Optional verbose logging
        relevant_text = find_relevant_sentences(full_text, keywords)
        polarity, sentiment_label = analyze_text_sentiment(relevant_text)
        snippet_max_len = 200
        justification_snippet = relevant_text[:snippet_max_len].strip() + "..." if len(relevant_text) > snippet_max_len else relevant_text.strip()
        if not justification_snippet: justification_snippet = "N/A"
        results["factors"][factor] = { "score": polarity, "sentiment": sentiment_label, "justification": f"{sentiment_label}. Evidence snippet: '{justification_snippet}'"}

    # Analyze ESG factors
    print("\n--- Analyzing ESG Factors ---")
    total_esg_polarity = 0.0; num_esg_factors = 0
    for category, keyword_key in ESG_CATEGORIES.items():
        keywords = FACTOR_KEYWORDS.get(keyword_key, [])
        # print(f"Analyzing ESG: {category}...") # Optional verbose logging
        relevant_text = find_relevant_sentences(full_text, keywords)
        polarity, sentiment_label = analyze_text_sentiment(relevant_text)
        esg_rating = map_sentiment_to_esg_rating(polarity) # Use corrected function
        snippet_max_len = 200; justification_snippet = relevant_text[:snippet_max_len].strip() + "..." if len(relevant_text) > snippet_max_len else relevant_text.strip()
        if not justification_snippet: justification_snippet = "N/A"
        results["esg"][category] = { "rating": esg_rating, "score": polarity, "sentiment": sentiment_label, "justification": f"{sentiment_label} sentiment ({esg_rating}). Snippet: '{justification_snippet}'"}
        # Include score in average only if relevant text was found and analyzed
        if sentiment_label != "Neutral (No relevant text found)" and sentiment_label != "Neutral (Analysis Error)":
            total_esg_polarity += polarity; num_esg_factors += 1

    # Calculate overall ESG score and rating
    average_esg_score = total_esg_polarity / num_esg_factors if num_esg_factors > 0 else 0.0
    results["esg"]["Overall Sentiment Score"] = average_esg_score;
    results["esg"]["Overall Rating"] = map_sentiment_to_esg_rating(average_esg_score)
    print("Qualitative and ESG analysis complete."); return results

# =============================================================================
# Step 4: Define Integration and Output Functions (Syntax Error Corrected)
# =============================================================================
def generate_final_assessment(quant_rating, quant_leverage, qual_results):
    """Combines quantitative rating, qualitative factors, and ESG to propose a final rating and generate commentary."""
    print("Generating final assessment...")
    final_rating = quant_rating; adjustment_rationale = []

    # Ensure qual_results and nested dictionaries exist before accessing
    factors_data = qual_results.get('factors', {})
    esg_data = qual_results.get('esg', {})

    # Determine initial rating index
    if quant_rating not in RATING_SCALE:
        print(f"Warning: Initial quantitative rating '{quant_rating}' is not standard. Cannot perform standard adjustments.")
        current_index = -1
    else:
        current_index = RATING_SCALE.index(quant_rating)

    # Calculate average qualitative score
    qual_factor_scores = [d.get('score', 0.0) for d in factors_data.values()]
    valid_qual_scores = [s for s, d in zip(qual_factor_scores, factors_data.values()) if not (s == 0 and "No relevant text found" in d.get('sentiment', ''))]
    avg_qual_score = np.mean(valid_qual_scores) if valid_qual_scores else 0.0

    overall_esg_rating = esg_data.get('Overall Rating', 'Medium') # Default to Medium

    # --- Rating Adjustment Logic ---
    # DEV NOTE: This adjustment logic is simplistic. Real-world ratings involve more complex weighting and judgment.
    if current_index != -1: # Only adjust if initial rating is standard
        # Qualitative Adjustment
        if avg_qual_score > RATING_ADJUSTMENT_THRESHOLDS['positive_qual'] and current_index > 0:
            final_rating = RATING_SCALE[current_index - 1]; adjustment_rationale.append("Strong overall positive qualitative sentiment suggests potential for upward rating adjustment."); current_index -= 1
        elif avg_qual_score < RATING_ADJUSTMENT_THRESHOLDS['negative_qual'] and current_index < len(RATING_SCALE) - 2: # Avoid adjusting 'D' further down
            final_rating = RATING_SCALE[current_index + 1]; adjustment_rationale.append("Strong overall negative qualitative sentiment suggests potential for downward rating adjustment."); current_index += 1
        # ESG Adjustment (applied after potential qual adjustment)
        if overall_esg_rating == "Low" and current_index < len(RATING_SCALE) - 2: # Avoid adjusting 'D' further down
            final_rating = RATING_SCALE[current_index + 1]; adjustment_rationale.append("Low ESG rating negatively impacts credit profile, warranting a further downward adjustment.")

    # --- Generate Dynamic Texts ---
    strengths = [f for f, d in factors_data.items() if d.get('score', 0.0) > RATING_ADJUSTMENT_THRESHOLDS['strength']]
    weaknesses = [f for f, d in factors_data.items() if d.get('score', 0.0) < RATING_ADJUSTMENT_THRESHOLDS['weakness']]

    # Justification
    justification = f"Proposed Rating: {final_rating}. "
    if quant_rating != "N/A" and not pd.isna(quant_leverage): justification += f"Initial quantitative assessment based on average projected leverage ({quant_leverage:.2f}x) indicated {quant_rating}. "
    elif quant_rating != "N/A": justification += f"Initial quantitative assessment indicated {quant_rating} (leverage calculation unavailable). "
    else: justification += "Quantitative assessment unavailable. "

    # *** Correctly indented if/else block ***
    if adjustment_rationale:
        justification += " ".join(adjustment_rationale) + " "
    else:
        justification += "Qualitative factors did not warrant rating adjustment from quantitative level. "

    if strengths: justification += f"Key qualitative strengths identified: {', '.join(strengths)}. "
    if weaknesses: justification += f"Key qualitative weaknesses identified: {', '.join(weaknesses)}. "
    # Add neutral text only if no adjustment AND no major strengths/weaknesses found
    if not adjustment_rationale and not strengths and not weaknesses: justification += "Qualitative analysis indicated a generally neutral profile relative to thresholds. "
    justification += f"Overall ESG assessment is {overall_esg_rating}."

    # Outlook
    outlook = "Stable";
    if avg_qual_score > RATING_ADJUSTMENT_THRESHOLDS['positive_qual']: outlook = "Positive"; # Link to same threshold as adjustment
    elif avg_qual_score < RATING_ADJUSTMENT_THRESHOLDS['negative_qual']: outlook = "Negative"

    # Triggers
    triggers = "Potential rating changes could be triggered by: "; trigger_list = []
    if not pd.isna(quant_leverage):
      if quant_leverage > LEVERAGE_TRIGGERS['high']: trigger_list.append(f"failure to de-lever below {LEVERAGE_TRIGGERS['high']:.1f}x as projected");
      elif quant_leverage < LEVERAGE_TRIGGERS['low']: trigger_list.append(f"maintenance of leverage below {LEVERAGE_TRIGGERS['low']:.1f}x (upside)")
    for weakness in weaknesses: trigger_list.append(f"further deterioration in '{weakness}'")
    if overall_esg_rating == "Low": trigger_list.append("lack of demonstrable improvement in ESG factors");
    elif overall_esg_rating == "High": trigger_list.append("sustained high performance in ESG factors (upside)")
    if not trigger_list: trigger_list.extend(["significant deviation from projected financial performance", "major unforeseen operational or market events", "material changes in financial policy or governance"])
    triggers += ", ".join(list(set(trigger_list))) + "."; # Use set to avoid duplicates
    print("Final assessment generated.")
    return final_rating, justification, outlook, triggers

def display_full_results(quant_df, quant_rating, final_rating, justification, outlook, triggers, qual_results):
    """Displays all analysis results in a structured format, robustly handling missing data."""
    # Quantitative Section
    print("\n" + "="*80); print("=== QUANTITATIVE PROJECTIONS & RATING ==="); print("="*80)
    if quant_df is not None and not quant_df.empty:
        try: display(quant_df.style.format({ 'Revenue': '{:,.0f}', 'EBITDA': '{:,.0f}', 'FCF': '{:,.0f}', 'Debt': '{:,.0f}', 'Leverage': '{:.2f}x', 'Cumulative FCF/Debt': '{:.2%}'.replace('%', r'\%'), 'Cumulative FCF': '{:,.0f}'}).format('{:.2f}', na_rep='N/A', subset=['Leverage', 'Cumulative FCF/Debt']))
        except Exception as e: print(f"Could not display formatted DataFrame: {e}"); display(quant_df)
        # Calculate average leverage excluding NaN/inf for display
        valid_leverage = quant_df['Leverage'][quant_df['Leverage'].replace([np.inf, -np.inf], np.nan).notna()]
        avg_leverage_display = valid_leverage.mean() if not valid_leverage.empty else np.nan
        if not pd.isna(avg_leverage_display): print(f"\nAverage Projected Leverage (Debt/EBITDA): {avg_leverage_display:.2f}x")
        else: print("\nAverage Projected Leverage could not be calculated.")
        print(f"Initial Rating based on Leverage: {quant_rating}")
    else: print("Quantitative projection data is unavailable or empty."); print(f"Initial Rating based on Leverage: {quant_rating}")

    # Plotting Section
    # DEV NOTE: Consider adding more plot types or customization options.
    if quant_df is not None and not quant_df.empty and ('matplotlib' in globals() or 'plt' in globals()):
        print("\n--- Financial Projections Visualized ---")
        try:
            fig, axes = plt.subplots(2, 2, figsize=(12, 8))
            # Revenue Plot
            sns.barplot(data=quant_df, x='Year', y='Revenue', ax=axes[0, 0], palette="Blues", hue='Year', legend=False); axes[0, 0].set_title('Projected Revenue'); axes[0, 0].ticklabel_format(style='plain', axis='y'); axes[0, 0].yaxis.set_major_formatter(plt.FuncFormatter(lambda x, p: format(int(x), ',')))
            # EBITDA Plot
            sns.barplot(data=quant_df, x='Year', y='EBITDA', ax=axes[0, 1], palette="Greens", hue='Year', legend=False); axes[0, 1].set_title('Projected EBITDA'); axes[0, 1].ticklabel_format(style='plain', axis='y'); axes[0, 1].yaxis.set_major_formatter(plt.FuncFormatter(lambda x, p: format(int(x), ',')))
            # Leverage Plot (handle NaN)
            plot_leverage = quant_df['Leverage'].replace([np.inf, -np.inf], np.nan); sns.lineplot(data=quant_df.assign(Leverage_Plot=plot_leverage), x='Year', y='Leverage_Plot', ax=axes[1, 0], marker='o', color='red', legend=False); axes[1, 0].set_title('Projected Leverage (Debt/EBITDA)'); axes[1, 0].set_ylabel('Leverage Ratio (x)'); axes[1, 0].set_ylim(bottom=0)
            # Cumulative FCF Plot
            sns.lineplot(data=quant_df, x='Year', y='Cumulative FCF', ax=axes[1, 1], marker='o', color='purple', legend=False); axes[1, 1].set_title('Cumulative FCF Generation'); axes[1, 1].ticklabel_format(style='plain', axis='y'); axes[1, 1].yaxis.set_major_formatter(plt.FuncFormatter(lambda x, p: format(int(x), ',')))
            plt.tight_layout(); plt.show()
        except Exception as plot_err: print(f"Could not generate plots: {plot_err}")
    else: print("\nSkipping visualization as quantitative data or plotting libraries are unavailable.")

    # Qualitative Section
    print("\n" + "="*80); print("=== QUALITATIVE & ESG ANALYSIS ==="); print("="*80)
    # Ensure qual_results is a dictionary before proceeding
    qual_results = qual_results if isinstance(qual_results, dict) else {}
    factors_data = qual_results.get('factors', {})
    esg_data = qual_results.get('esg', {})

    print("\n--- Qualitative Factor Scores & Justifications ---")
    if factors_data:
        for factor, details in factors_data.items(): print(f"- {factor}: {details.get('sentiment','N/A')} ({details.get('score',0.0):.2f})\n  Justification: {details.get('justification','N/A')}")
    else: print("No standard qualitative factor data available.")

    print("\n--- ESG Assessment ---")
    if esg_data:
       for category in ["Environment", "Social", "Governance"]:
            details = esg_data.get(category) # Use .get() on the main esg_data dict too
            if details and isinstance(details, dict): # Check if details is a dictionary
                 rating_value = details.get('rating', 'N/A'); sentiment_value = details.get('sentiment', 'N/A'); score_value = details.get('score', 0.0); justification_value = details.get('justification', 'N/A')
                 print(f"- {category}: {rating_value} ({sentiment_value} sentiment, Score: {score_value:.2f})\n  Justification: {justification_value}")
            else: print(f"- {category}: Not analyzed or data invalid.")
       overall_rating = esg_data.get('Overall Rating', 'N/A'); overall_score = esg_data.get('Overall Sentiment Score', 0.0)
       print(f"\nOverall ESG Rating: {overall_rating}"); print(f"(Based on average sentiment score: {overall_score:.2f})")
    else: print("No ESG data available.")

    # Final Assessment Section
    print("\n" + "="*80); print("=== FINAL CREDIT ASSESSMENT ==="); print("="*80)
    print(f"Final Proposed Corporate Credit Rating: {final_rating}")
    print(f"\nJustification:\n{justification}")
    print(f"\nOutlook: {outlook}")
    print(f"\nRatings Triggers:\n{triggers}")
    print("="*80)

# =============================================================================
# Step 5: Define Inputs & Widget Setup / Execution Logic
# =============================================================================
# --- Default Input Values ---
# DEV NOTE: These defaults are examples; adjust them as needed for typical use cases.
default_revenue = 1000000; default_revenue_cagr = [0.05, 0.04, 0.03, 0.02, 0.02, 0.01, 0.01]; default_ebitda_margin = [0.20, 0.21, 0.21, 0.22, 0.22, 0.21, 0.20]; default_fcf_conversion = [0.70, 0.72, 0.75, 0.75, 0.76, 0.77, 0.78]; default_starting_debt = 1200000; default_amortization = [80000, 80000, 90000, 90000, 100000, 100000, 100000]; default_company_info = """TechCorp announced strong Q4 results, driven by cloud segment growth. Management highlighted innovation pipeline. Leadership team is experienced, CEO John Smith has a good track record. Board independence is ensured. Financial policy remains conservative, focusing on debt reduction. Share repurchases paused. Market share stable but faces intense competition from GlobalTech and Innovate Solutions. Pricing power is moderate. Risk of substitution from new AI-driven platforms is emerging but currently low. Company committed to reducing carbon footprint by 15% by 2030. Sustainability report published. Investing in employee training and diversity programs. Community outreach initiatives expanded. Safety record is strong. Governance structures follow best practices, shareholder engagement is proactive. Audit committee is independent.""" ; default_recent_10k = """Risk Factors: Competition is increasing. Regulatory scrutiny in data privacy may impact operations. Dependence on key personnel. Financial Statements: Revenue growth consistent with projections. Debt covenants were met. Liquidity position is adequate. Management Discussion: Focus on operational efficiency and cost control. Investment in R&D continues. Legal Proceedings: Minor litigation resolved. No material pending legal issues. Environmental compliance costs are manageable. Controls and Procedures: Internal controls deemed effective. No material weaknesses identified. Executive compensation linked to performance."""

# --- Control Flag ---
use_widgets = True # Set to True for interactive widget interface

# --- Style & Layout Definitions ---
num_layout = Layout(width='120px'); # Width for number input boxes
num_style = {'description_width': '80px'} # Width for labels next to number boxes

# --- Interactive Widgets ---
# DEV NOTE: Consider adding validation feedback directly to widgets if possible (more advanced ipywidgets).
revenue_input = FloatText(value=default_revenue, description='Revenue (Yr 0):', layout=Layout(width='auto'), style={'description_width': 'initial'}, format=',.0f', step=10000) # Added step
starting_debt_input = FloatText(value=default_starting_debt, description='Start Debt (Yr 0):', layout=Layout(width='auto'), style={'description_width': 'initial'}, format=',.0f', step=10000) # Added step
revenue_cagr_input = [FloatText(value=default_revenue_cagr[i], description=f'Rev CAGR', layout=num_layout, style=num_style, step=0.01, format='.2%') for i in range(7)]
ebitda_margin_input = [FloatText(value=default_ebitda_margin[i], description=f'EBITDA %', step=0.01, layout=num_layout, style=num_style, format='.1%') for i in range(7)]
fcf_conversion_input = [FloatText(value=default_fcf_conversion[i], description=f'FCF Conv %', step=0.01, layout=num_layout, style=num_style, format='.1%') for i in range(7)]
amortization_input = [FloatText(value=default_amortization[i], description=f'Amort.', layout=num_layout, style=num_style, format=',.0f', step=1000) for i in range(7)] # Added step
company_info_input = Textarea(value=default_company_info, description='Company Info/Press Releases:', layout=Layout(width='98%', height='120px'), style={'description_width': 'initial'})
recent_10k_input = Textarea(value=default_recent_10k, description='10-K Text (Risk Factors, MD&A):', layout=Layout(width='98%', height='180px'), style={'description_width': 'initial'})
button = Button(description="Run Full Analysis", button_style='success', icon='calculator', tooltip='Click to run the analysis with the current inputs', layout=Layout(width='auto', margin='15px 0 5px 0')) # Adjusted margin
output_area = widgets.Output(layout=Layout(border='1px solid #ccc', padding='10px', margin='10px 0 0 0', width='98%')) # Adjusted border color

# --- Main Execution Function ---
def run_analysis(quant_inputs, qual_inputs):
    """Orchestrates the quantitative, qualitative, and integration steps, including error handling."""
    print("Starting analysis..."); quant_df = None; quant_rating = "N/A"; avg_leverage = np.nan
    # --- Quantitative Analysis ---
    try:
        print("Running quantitative projections...")
        # Use dictionary unpacking for clarity
        quant_df = calculate_projections(**quant_inputs)
        # Calculate average leverage excluding NaN/inf
        valid_leverage = quant_df['Leverage'][quant_df['Leverage'].replace([np.inf, -np.inf], np.nan).notna()]
        avg_leverage = valid_leverage.mean() if not valid_leverage.empty else np.nan
        quant_rating = map_leverage_to_sp_scale(avg_leverage) # Pass NaN if average couldn't be calculated
        print(f"Quantitative analysis complete. Initial rating: {quant_rating}")
    except ValueError as ve: # Catch specific validation errors from calculate_projections
        print(f"\nERROR during quantitative setup: {ve}")
    except Exception as e:
        print(f"\nERROR during quantitative analysis: {e}")
        traceback.print_exc()

    # --- Qualitative Analysis ---
    qual_results = None
    try:
        print("\nRunning qualitative analysis...")
        # Safely get text inputs using .get with default empty string
        full_text = qual_inputs.get('company_info','') + "\n" + qual_inputs.get('recent_10k','')
        if not full_text.strip():
            print("Warning: Qualitative text input is empty. Skipping qualitative analysis.")
            qual_results = {"factors": {}, "esg": {}} # Set empty structure
        else:
            qual_results = analyze_qualitative_factors(full_text)
    except Exception as e:
        print(f"\nERROR during qualitative analysis: {e}");
        traceback.print_exc()
        qual_results = None # Ensure it's None if analysis fails

    # --- Integration & Final Assessment ---
    final_rating = "N/A"; justification = "Analysis incomplete."; outlook = "Uncertain"; triggers = "N/A"
    # Proceed only if qualitative analysis succeeded (or was skipped) and quant rating is available
    if qual_results is not None and quant_rating != "N/A":
        try:
            print("\nGenerating final assessment...")
            final_rating, justification, outlook, triggers = generate_final_assessment(quant_rating, avg_leverage, qual_results)
            print("Final assessment generated.")
        except Exception as e:
            print(f"\nERROR during final assessment generation: {e}"); traceback.print_exc()
            final_rating = f"{quant_rating} (Qualitative Adj. Failed)"; justification = "Assessment generation failed."; outlook = "Uncertain"; triggers = "N/A"
    else:
        print("\nSkipping final assessment due to errors in prior steps.")
        final_rating = f"{quant_rating} (Incomplete Analysis)"
        justification = "Analysis could not be fully completed due to errors in quantitative or qualitative steps."

    # Ensure qual_results is a dict for display, even if analysis failed
    if qual_results is None: qual_results = {"factors": {}, "esg": {}}

    # --- Display Results ---
    try:
        print("\nDisplaying results...")
        display_full_results(quant_df, quant_rating, final_rating, justification, outlook, triggers, qual_results)
    except Exception as e:
        print(f"\nERROR during results display: {e}"); traceback.print_exc()

    print("\nAnalysis run complete.")

# --- Widget Button Click Handler ---
def on_analyze_button_click(b):
    """Callback to gather inputs from widgets and run the analysis, with input validation."""
    with output_area:
        clear_output(wait=True); print("Button clicked. Gathering inputs from widgets...")
        try:
            # Gather quantitative inputs with basic type check
            quant_widget_inputs = {}
            quant_widget_inputs['revenue'] = float(revenue_input.value)
            quant_widget_inputs['starting_debt'] = float(starting_debt_input.value)
            # Gather list inputs, ensuring they are floats
            quant_widget_inputs['revenue_cagr'] = [float(w.value) for w in revenue_cagr_input]
            quant_widget_inputs['ebitda_margin'] = [float(w.value) for w in ebitda_margin_input]
            quant_widget_inputs['fcf_conversion'] = [float(w.value) for w in fcf_conversion_input]
            quant_widget_inputs['amortization'] = [float(w.value) for w in amortization_input]

            # Gather qualitative inputs (already strings)
            qual_widget_inputs = {'company_info': company_info_input.value, 'recent_10k': recent_10k_input.value};

            print("Inputs gathered successfully.")
            run_analysis(quant_widget_inputs, qual_widget_inputs) # Run main analysis

        except ValueError as ve:
             print(f"\nINPUT ERROR: Please ensure all quantitative inputs are valid numbers. Error: {ve}")
        except Exception as e:
             print(f"\nFATAL ERROR during input gathering or analysis execution: {e}"); traceback.print_exc()

# --- Execution Logic: Display Widgets or Run Directly ---
if use_widgets:
    # Setup button callback
    button.on_click(on_analyze_button_click)
    # --- Arrange Widgets ---
    initial_quant_box = HBox([revenue_input, starting_debt_input])
    yearly_input_boxes = []
    for i in range(7): year_box = VBox([Label(f"Year {i+1}"), revenue_cagr_input[i], ebitda_margin_input[i], fcf_conversion_input[i], amortization_input[i]], layout=Layout(border='1px solid #ccc', margin='0 5px 5px 0', padding='5px', min_width='140px')); yearly_input_boxes.append(year_box)
    yearly_section = HBox(yearly_input_boxes, layout=Layout(overflow_x='auto', padding='5px 0 0 0')) # Allow horizontal scroll
    quant_widgets_box = VBox([initial_quant_box, Label("Yearly Assumptions:", style={'font_weight':'bold'}), yearly_section], layout=Layout(margin='0 0 10px 0'))
    qual_widgets_box = VBox([company_info_input, recent_10k_input], layout=Layout(margin='0 0 10px 0'))
    # --- Display UI ---
    ui = VBox([HTML("<h2>Integrated Credit Analysis Tool</h2>"), HTML("<h3>Quantitative Inputs</h3>"), quant_widgets_box, HTML("<h3>Qualitative Inputs (Paste Relevant Text)</h3>"), qual_widgets_box, button, output_area])
    display(ui); print("Widget interface displayed with default values. Adjust as needed and click 'Run Full Analysis'.")
else:
    # Non-widget mode execution
    print("Running analysis with predefined default inputs (non-widget mode)...")
    test_quant_inputs = {'revenue': default_revenue, 'revenue_cagr': default_revenue_cagr, 'ebitda_margin': default_ebitda_margin, 'fcf_conversion': default_fcf_conversion, 'starting_debt': default_starting_debt, 'amortization': default_amortization}
    test_qual_inputs = { 'company_info': default_company_info, 'recent_10k': default_recent_10k }
    with output_area: clear_output(wait=True); run_analysis(test_quant_inputs, test_qual_inputs)
    display(output_area) # Display the output area
