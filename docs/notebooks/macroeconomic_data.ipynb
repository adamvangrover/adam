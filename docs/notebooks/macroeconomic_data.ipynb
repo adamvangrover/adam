{
 "cells": [
  {
   "cell_type": "code",
   "execution_count": null,
   "metadata": {},
   "outputs": [],
   "source": [
    "import pandas_datareader as pdr\n",
    "import pandas as pd\n",
    "import matplotlib.pyplot as plt"
   ]
  },
  {
   "cell_type": "code",
   "execution_count": null,
   "metadata": {},
   "outputs": [],
   "source": [
    "# Define data source and series (example)\n",
    "# You can change these to explore different macroeconomic data\n",
    "# Common data sources include 'fred' (Federal Reserve Economic Data), 'worldbank', 'eurostat', etc.\n",
    "# To find series codes, search the data source's website (e.g., FRED)\n",
    "\n",
    "data_source = 'fred'\n",
    "series = 'GDP'\n",
    "\n",
    "# Get data from the source\n",
    "try:\n",
    "    data = pdr.get_data_fred(series)\n",
    "    print(f\"Data retrieved from {data_source} for series {series}\")\n",
    "except Exception as e:\n",
    "    print(f\"Error retrieving data: {e}\")"
   ]
  },
  {
   "cell_type": "code",
   "execution_count": null,
   "metadata": {},
   "outputs": [],
   "source": [
    "# Display the data\n",
    "print(data.head())"
   ]
  },
  {
   "cell_type": "code",
   "execution_count": null,
   "metadata": {},
   "outputs": [],
   "source": [
    "# Plot the data\n",
    "plt.figure(figsize=(10, 5))\n",
    "plt.plot(data)\n",
    "plt.title(f\"{series} from {data_source}\")\n",
    "plt.xlabel(\"Date\")\n",
    "plt.ylabel(series)\n",
    "plt.grid(True)\n",
    "plt.show()"
   ]
  }
 ],
 "metadata": {
  "kernelspec": {
   "display_name": "Python 3",
   "language": "python",
   "name": "python3"
  },
  "language_info": {
   "codemirror_mode": {
    "name": "ipython",
    "version": 3
   },
   "file_extension": ".py",
   "mimetype": "text/x-python",
   "name": "python",
   "nbconvert_exporter": "python",
   "pygments_lexer": "ipython3",
   "version": "3.9.13"
  }
 },
 "nbformat": 4,
 "nbformat_minor": 4
}
