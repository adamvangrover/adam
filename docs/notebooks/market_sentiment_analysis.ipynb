{
 "cells": [
  {
   "cell_type": "code",
   "execution_count": null,
   "metadata": {},
   "outputs": [],
   "source": [
    "import tweepy\n",
    "import pandas as pd\n",
    "import matplotlib.pyplot as plt\n",
    "from textblob import TextBlob  # Or you can use another sentiment analysis library"
   ]
  },
  {
   "cell_type": "code",
   "execution_count": null,
   "metadata": {},
   "outputs": [],
   "source": [
    "# --- Replace with your actual Twitter API credentials ---\n",
    "# Consumer Keys\n",
    "consumer_key = \"YOUR_CONSUMER_KEY\"\n",
    "consumer_secret = \"YOUR_CONSUMER_SECRET\"\n",
    "\n",
    "# Access Tokens\n",
    "access_token = \"YOUR_ACCESS_TOKEN\"\n",
    "access_token_secret = \"YOUR_ACCESS_TOKEN_SECRET\"\n",
    "\n",
    "# Authenticate with Twitter API\n",
    "try:\n",
    "    auth = tweepy.OAuthHandler(consumer_key, consumer_secret)\n",
    "    auth.set_access_token(access_token, access_token_secret)\n",
    "    api = tweepy.API(auth, wait_on_rate_limit=True, wait_on_rate_limit_notify=True)\n",
    "    print(\"Authentication successful\")\n",
    "except Exception as e:\n",
    "    print(f\"Authentication failed: {e}\")"
   ]
  },
  {
   "cell_type": "code",
   "execution_count": null,
   "metadata": {},
   "outputs": [],
   "source": [
    "# Get search term from user\n",
    "search_term = input(\"Enter a search term (e.g., a stock ticker or company name): \")\n",
    "\n",
    "# Fetch tweets\n",
    "tweets = []  # Initialize the tweets list\n",
    "try:\n",
    "    fetched_tweets = api.search_tweets(q=search_term, count=100)  # You can adjust the count\n",
    "    tweets.extend(fetched_tweets)\n",
    "    print(f\"Fetched {len(tweets)} tweets\")\n",
    "except Exception as e:\n",
    "    print(f\"Error fetching tweets: {e}\")"
   ]
  },
  {
   "cell_type": "code",
   "execution_count": null,
   "metadata": {},
   "outputs": [],
   "source": [
    "# Analyze sentiment\n",
    "sentiment_scores = []  # Initialize the sentiment_scores list\n",
    "for tweet in tweets:\n",
    "    analysis = TextBlob(tweet.text)\n",
    "    sentiment_scores.append(analysis.sentiment.polarity)  # Polarity ranges from -1 (negative) to 1 (positive)\n",
    "\n",
    "# Calculate average sentiment\n",
    "if sentiment_scores:\n",
    "    average_sentiment = sum(sentiment_scores) / len(sentiment_scores)\n",
    "    print(f\"Average sentiment: {average_sentiment:.2f}\")\n",
    "else:\n",
    "    print(\"No tweets found for sentiment analysis.\")\n",
    "    average_sentiment = 0  # Assign a default value"
   ]
  },
  {
   "cell_type": "code",
   "execution_count": null,
   "metadata": {},
   "outputs": [],
   "source": [
    "# Visualize sentiment (basic example)\n",
    "plt.figure(figsize=(8, 4))\n",
    "plt.hist(sentiment_scores, bins=20, color='skyblue', edgecolor='black')\n",
    "plt.title(f\"Sentiment Analysis for '{search_term}'\")\n",
    "plt.xlabel(\"Sentiment Score\")\n",
    "plt.ylabel(\"Frequency\")\n",
    "plt.grid(axis='y', alpha=0.75)\n",
    "plt.show()"
   ]
  }
 ],
 "metadata": {
  "kernelspec": {
   "display_name": "Python 3",
   "language": "python",
   "name": "python3"
  },
  "language_info": {
   "codemirror_mode": {
    "name": "ipython",
    "version": 3
   },
   "file_extension": ".py",
   "mimetype": "text/x-python",
   "name": "python",
   "nbconvert_exporter": "python",
   "pygments_lexer": "ipython3",
   "version": "3.9.13"
  }
 },
 "nbformat": 4,
 "nbformat_minor": 4
}
